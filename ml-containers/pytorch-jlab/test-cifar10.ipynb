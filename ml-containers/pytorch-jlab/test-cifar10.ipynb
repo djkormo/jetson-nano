{
 "cells": [
  {
   "cell_type": "markdown",
   "metadata": {},
   "source": [
    "###  based on https://www.stefanfiott.com/machine-learning/cifar-10-classifier-using-cnn-in-pytorch/"
   ]
  },
  {
   "cell_type": "code",
   "execution_count": 1,
   "metadata": {},
   "outputs": [],
   "source": [
    "import torch\n",
    "import torchvision\n",
    "import torchvision.transforms as transforms"
   ]
  },
  {
   "cell_type": "code",
   "execution_count": 20,
   "metadata": {},
   "outputs": [
    {
     "name": "stdout",
     "output_type": "stream",
     "text": [
      "cuda:0\n"
     ]
    }
   ],
   "source": [
    "torch.set_default_tensor_type(torch.cuda.FloatTensor)\n",
    "device = torch.device(\"cuda:0\" if torch.cuda.is_available() else \"cpu\")\n",
    "print(device)"
   ]
  },
  {
   "cell_type": "code",
   "execution_count": 3,
   "metadata": {},
   "outputs": [
    {
     "name": "stdout",
     "output_type": "stream",
     "text": [
      "1.2.0a0+8554416\n",
      "CUDA available: True\n"
     ]
    }
   ],
   "source": [
    "print(torch.__version__)\n",
    "print('CUDA available: ' + str(torch.cuda.is_available()))"
   ]
  },
  {
   "cell_type": "code",
   "execution_count": 4,
   "metadata": {},
   "outputs": [
    {
     "name": "stdout",
     "output_type": "stream",
     "text": [
      "Files already downloaded and verified\n",
      "Files already downloaded and verified\n"
     ]
    }
   ],
   "source": [
    "transform = transforms.Compose(\n",
    "    [transforms.ToTensor(),\n",
    "     transforms.Normalize((0.5, 0.5, 0.5), (0.5, 0.5, 0.5))])\n",
    "\n",
    "trainset = torchvision.datasets.CIFAR10(root='./data/', \n",
    "                                        train=True,\n",
    "                                        download=True, \n",
    "                                        transform=transform)\n",
    "trainloader = torch.utils.data.DataLoader(trainset, \n",
    "                                          batch_size=4,\n",
    "                                          shuffle=True)\n",
    "\n",
    "testset = torchvision.datasets.CIFAR10(root='./data', \n",
    "                                       train=False,\n",
    "                                       download=True, \n",
    "                                       transform=transform)\n",
    "testloader = torch.utils.data.DataLoader(testset, \n",
    "                                         batch_size=4,\n",
    "                                         shuffle=False)\n",
    "\n",
    "classes = ('plane', 'car', 'bird', 'cat', 'deer', \n",
    "           'dog', 'frog', 'horse', 'ship', 'truck')"
   ]
  },
  {
   "cell_type": "code",
   "execution_count": 5,
   "metadata": {},
   "outputs": [
    {
     "name": "stdout",
     "output_type": "stream",
     "text": [
      "('plane', 'car', 'bird', 'cat', 'deer', 'dog', 'frog', 'horse', 'ship', 'truck')\n"
     ]
    }
   ],
   "source": [
    "print(\"Classes:\",classes)"
   ]
  },
  {
   "cell_type": "code",
   "execution_count": 6,
   "metadata": {},
   "outputs": [],
   "source": [
    "import matplotlib.pyplot as plt\n",
    "import numpy as np\n",
    "%matplotlib inline\n",
    "def convert_to_imshow_format(image):\n",
    "    # first convert back to [0,1] range from [-1,1] range\n",
    "    image = image / 2 + 0.5\n",
    "    image = image.numpy()\n",
    "    # convert from CHW to HWC\n",
    "    # from 3x32x32 to 32x32x3\n",
    "    return image.transpose(1,2,0)"
   ]
  },
  {
   "cell_type": "code",
   "execution_count": 7,
   "metadata": {},
   "outputs": [
    {
     "data": {
      "image/png": "[encoded data removed]",
      "text/plain": [
       "<Figure size 864x180 with 4 Axes>"
      ]
     },
     "metadata": {},
     "output_type": "display_data"
    }
   ],
   "source": [
    "dataiter = iter(trainloader)\n",
    "images, labels = dataiter.next()\n",
    "\n",
    "fig, axes = plt.subplots(1, len(images), figsize=(12,2.5))\n",
    "for idx, image in enumerate(images):\n",
    "    axes[idx].imshow(convert_to_imshow_format(image))\n",
    "    axes[idx].set_title(classes[labels[idx]])\n",
    "    axes[idx].set_xticks([])\n",
    "    axes[idx].set_yticks([])"
   ]
  },
  {
   "cell_type": "code",
   "execution_count": null,
   "metadata": {},
   "outputs": [],
   "source": [
    "### how to use GPU with pytorch\n",
    "\n",
    "# based on https://medium.com/@calincan2000/using-cuda-pytorch-runtimeerror-expected-object-of-backend-cuda-but-got-backend-cpu-running-on-72648b0d6087"
   ]
  },
  {
   "cell_type": "code",
   "execution_count": 22,
   "metadata": {},
   "outputs": [
    {
     "name": "stdout",
     "output_type": "stream",
     "text": [
      "cuda:0\n",
      "Net(\n",
      "  (conv1): Conv2d(3, 6, kernel_size=(5, 5), stride=(1, 1))\n",
      "  (pool): MaxPool2d(kernel_size=2, stride=2, padding=0, dilation=1, ceil_mode=False)\n",
      "  (conv2): Conv2d(6, 16, kernel_size=(5, 5), stride=(1, 1))\n",
      "  (fc1): Linear(in_features=400, out_features=120, bias=True)\n",
      "  (fc2): Linear(in_features=120, out_features=84, bias=True)\n",
      "  (fc3): Linear(in_features=84, out_features=10, bias=True)\n",
      ")\n"
     ]
    }
   ],
   "source": [
    "import torch.nn as nn\n",
    "import torch.nn.functional as F\n",
    "\n",
    "class Net(nn.Module):\n",
    "    def __init__(self):\n",
    "        super(Net, self).__init__()\n",
    "        #self.device = torch.device(\"cuda\" if torch.cuda.is_available() else \"cpu\")\n",
    "        self.conv1 = nn.Conv2d(3, 6, 5)\n",
    "        self.pool = nn.MaxPool2d(2, 2)\n",
    "        self.conv2 = nn.Conv2d(6, 16, 5)\n",
    "        self.fc1 = nn.Linear(16 * 5 * 5, 120)\n",
    "        self.fc2 = nn.Linear(120, 84)\n",
    "        self.fc3 = nn.Linear(84, 10)\n",
    "\n",
    "    def forward(self, x):\n",
    "        x = self.pool(F.relu(self.conv1(x)))\n",
    "        x = self.pool(F.relu(self.conv2(x)))\n",
    "        x = x.view(-1, 16 * 5 * 5)\n",
    "        x = F.relu(self.fc1(x))\n",
    "        x = F.relu(self.fc2(x))\n",
    "        x = self.fc3(x)\n",
    "        return x\n",
    "\n",
    "net = Net()\n",
    "print(device)\n",
    "net=net.to(device)\n",
    "print(net)\n"
   ]
  },
  {
   "cell_type": "code",
   "execution_count": 73,
   "metadata": {},
   "outputs": [],
   "source": [
    "import torch.optim as optim\n",
    "\n",
    "criterion = nn.CrossEntropyLoss()\n",
    "optimizer = optim.SGD(net.parameters(), lr=0.001, momentum=0.9)"
   ]
  },
  {
   "cell_type": "code",
   "execution_count": 74,
   "metadata": {},
   "outputs": [
    {
     "name": "stdout",
     "output_type": "stream",
     "text": [
      "[1,  1000] loss: 0.869\n",
      "[1,  2000] loss: 0.895\n",
      "[1,  3000] loss: 0.853\n",
      "[1,  4000] loss: 0.930\n",
      "[1,  5000] loss: 0.913\n",
      "[1,  6000] loss: 0.938\n",
      "[1,  7000] loss: 0.914\n",
      "[1,  8000] loss: 0.915\n",
      "[1,  9000] loss: 0.927\n",
      "[1, 10000] loss: 0.931\n",
      "[1, 11000] loss: 0.947\n",
      "[1, 12000] loss: 0.953\n",
      "[2,  1000] loss: 0.847\n",
      "[2,  2000] loss: 0.823\n",
      "[2,  3000] loss: 0.863\n",
      "[2,  4000] loss: 0.868\n",
      "[2,  5000] loss: 0.853\n",
      "[2,  6000] loss: 0.859\n",
      "[2,  7000] loss: 0.902\n",
      "[2,  8000] loss: 0.891\n",
      "[2,  9000] loss: 0.896\n",
      "[2, 10000] loss: 0.902\n",
      "[2, 11000] loss: 0.897\n",
      "[2, 12000] loss: 0.897\n",
      "[3,  1000] loss: 0.770\n",
      "[3,  2000] loss: 0.840\n",
      "[3,  3000] loss: 0.813\n",
      "[3,  4000] loss: 0.841\n",
      "[3,  5000] loss: 0.857\n",
      "[3,  6000] loss: 0.841\n",
      "[3,  7000] loss: 0.853\n",
      "[3,  8000] loss: 0.864\n",
      "[3,  9000] loss: 0.863\n",
      "[3, 10000] loss: 0.860\n",
      "[3, 11000] loss: 0.877\n",
      "[3, 12000] loss: 0.844\n",
      "[4,  1000] loss: 0.747\n",
      "[4,  2000] loss: 0.759\n",
      "[4,  3000] loss: 0.795\n",
      "[4,  4000] loss: 0.802\n",
      "[4,  5000] loss: 0.813\n",
      "[4,  6000] loss: 0.845\n",
      "[4,  7000] loss: 0.820\n",
      "[4,  8000] loss: 0.819\n",
      "[4,  9000] loss: 0.849\n",
      "[4, 10000] loss: 0.809\n",
      "[4, 11000] loss: 0.869\n",
      "[4, 12000] loss: 0.863\n",
      "[5,  1000] loss: 0.720\n",
      "[5,  2000] loss: 0.777\n",
      "[5,  3000] loss: 0.775\n",
      "[5,  4000] loss: 0.790\n",
      "[5,  5000] loss: 0.802\n",
      "[5,  6000] loss: 0.783\n",
      "[5,  7000] loss: 0.794\n",
      "[5,  8000] loss: 0.807\n",
      "[5,  9000] loss: 0.834\n",
      "[5, 10000] loss: 0.823\n",
      "[5, 11000] loss: 0.793\n",
      "[5, 12000] loss: 0.829\n",
      "Finished Training.\n",
      "Saved model parameters to disk.\n"
     ]
    }
   ],
   "source": [
    "import os\n",
    "\n",
    "model_directory_path = './model/'\n",
    "model_path = model_directory_path + 'cifar-10-cnn-model.pt'\n",
    "net=net.to(device)\n",
    "\n",
    "if not os.path.exists(model_directory_path):\n",
    "    os.makedirs(model_directory_path)\n",
    "\n",
    "if os.path.isfile(model_path):\n",
    "    # load trained model parameters from disk\n",
    "    net.load_state_dict(torch.load(model_path))\n",
    "    print('Loaded model parameters from disk.')\n",
    "else:\n",
    "    for epoch in range(5):  # loop over the dataset multiple times\n",
    "\n",
    "        running_loss = 0.0\n",
    "        for i, data in enumerate(trainloader, 0):\n",
    "            # get the inputs\n",
    "            inputs, labels = data\n",
    "            inputs = inputs.cuda()\n",
    "            labels = labels.cuda()\n",
    "            # zero the parameter gradients\n",
    "            optimizer.zero_grad()\n",
    "\n",
    "            # forward + backward + optimize\n",
    "            outputs = net(inputs)\n",
    "            outputs=outputs.cuda()\n",
    "            loss = criterion(outputs, labels)\n",
    "            loss.backward()\n",
    "            optimizer.step()\n",
    "\n",
    "            # print statistics\n",
    "            running_loss += loss.item()\n",
    "            if i % 1000 == 999:    # print every 1000 mini-batches\n",
    "                print('[%d, %5d] loss: %.3f' %\n",
    "                      (epoch + 1, i + 1, running_loss / 1000))\n",
    "                running_loss = 0.0\n",
    "    print('Finished Training.')\n",
    "    torch.save(net.state_dict(), model_path)\n",
    "    print('Saved model parameters to disk.')"
   ]
  },
  {
   "cell_type": "code",
   "execution_count": 75,
   "metadata": {},
   "outputs": [
    {
     "data": {
      "image/png": "[encoded data removed]",
      "text/plain": [
       "<Figure size 864x180 with 4 Axes>"
      ]
     },
     "metadata": {},
     "output_type": "display_data"
    }
   ],
   "source": [
    "dataiter = iter(testloader)\n",
    "images, labels = dataiter.next()\n",
    "\n",
    "fig, axes = plt.subplots(1, len(images), figsize=(12,2.5))\n",
    "for idx, image in enumerate(images):\n",
    "    axes[idx].imshow(convert_to_imshow_format(image))\n",
    "    axes[idx].set_title(classes[labels[idx]])\n",
    "    axes[idx].set_xticks([])\n",
    "    axes[idx].set_yticks([])"
   ]
  },
  {
   "cell_type": "code",
   "execution_count": 84,
   "metadata": {},
   "outputs": [],
   "source": [
    "# outputs = net(images) # RuntimeError: Expected object of backend CPU but got backend CUDA for argument #2 'weight'\n",
    "outputs= net(images.cuda())"
   ]
  },
  {
   "cell_type": "code",
   "execution_count": 85,
   "metadata": {},
   "outputs": [
    {
     "data": {
      "text/plain": [
       "tensor([[-5.1634, -2.2189,  2.8618,  3.9606,  0.7563,  4.1391,  3.0350,  3.2651,\n",
       "         -6.9389,  0.1962],\n",
       "        [-2.3122, -2.8280,  3.6855,  2.6704,  1.1226, 10.1138, -0.7372,  5.2522,\n",
       "         -9.3317, -3.0152],\n",
       "        [-1.4191,  0.4759,  0.5617, -0.0171,  6.5831, -1.3252,  0.1466,  0.7964,\n",
       "         -6.5120, -0.4727],\n",
       "        [ 0.0583, -5.3346, -0.0715, -0.3813,  7.1791,  2.4362, -4.5879, 11.0692,\n",
       "         -4.7210, -7.5710]], grad_fn=<AddmmBackward>)"
      ]
     },
     "execution_count": 85,
     "metadata": {},
     "output_type": "execute_result"
    }
   ],
   "source": [
    "outputs"
   ]
  },
  {
   "cell_type": "code",
   "execution_count": 86,
   "metadata": {},
   "outputs": [
    {
     "name": "stdout",
     "output_type": "stream",
     "text": [
      "tensor([[3.1238e-05, 5.9361e-04, 9.5496e-02, 2.8655e-01, 1.1630e-02, 3.4255e-01,\n",
      "         1.1356e-01, 1.4295e-01, 5.2920e-06, 6.6424e-03],\n",
      "        [3.9728e-06, 2.3717e-06, 1.5991e-03, 5.7943e-04, 1.2325e-04, 9.9001e-01,\n",
      "         1.9191e-05, 7.6604e-03, 3.5525e-09, 1.9669e-06],\n",
      "        [3.3070e-04, 2.2000e-03, 2.3970e-03, 1.3437e-03, 9.8790e-01, 3.6324e-04,\n",
      "         1.5826e-03, 3.0311e-03, 2.0305e-06, 8.5197e-04],\n",
      "        [1.6186e-05, 7.3628e-08, 1.4216e-05, 1.0429e-05, 2.0030e-02, 1.7452e-04,\n",
      "         1.5536e-07, 9.7975e-01, 1.3599e-07, 7.8661e-09]],\n",
      "       grad_fn=<SoftmaxBackward>)\n"
     ]
    }
   ],
   "source": [
    "sm = nn.Softmax(dim=1)\n",
    "sm_outputs = sm(outputs)\n",
    "print(sm_outputs)"
   ]
  },
  {
   "cell_type": "code",
   "execution_count": 87,
   "metadata": {},
   "outputs": [
    {
     "name": "stdout",
     "output_type": "stream",
     "text": [
      "dog - 0.3425\n",
      "dog - 0.9900\n",
      "deer - 0.9879\n",
      "horse - 0.9798\n"
     ]
    }
   ],
   "source": [
    "probs, index = torch.max(sm_outputs, dim=1)\n",
    "for p, i in zip(probs, index):\n",
    "    print('{0} - {1:.4f}'.format(classes[i], p))"
   ]
  },
  {
   "cell_type": "code",
   "execution_count": 88,
   "metadata": {},
   "outputs": [
    {
     "name": "stdout",
     "output_type": "stream",
     "text": [
      "Model accuracy on 10000 test images: 62.02%\n"
     ]
    }
   ],
   "source": [
    "total_correct = 0\n",
    "total_images = 0\n",
    "confusion_matrix = np.zeros([10,10], int)\n",
    "with torch.no_grad():\n",
    "    for data in testloader:\n",
    "        images, labels = data\n",
    "        images=images.cuda()\n",
    "        outputs = net(images).cuda()\n",
    "        _, predicted = torch.max(outputs.data, 1)\n",
    "        total_images += labels.size(0)\n",
    "        total_correct += (predicted == labels).sum().item()\n",
    "        for i, l in enumerate(labels):\n",
    "            confusion_matrix[l.item(), predicted[i].item()] += 1 \n",
    "\n",
    "model_accuracy = total_correct / total_images * 100\n",
    "print('Model accuracy on {0} test images: {1:.2f}%'.format(total_images, model_accuracy))"
   ]
  },
  {
   "cell_type": "code",
   "execution_count": 89,
   "metadata": {},
   "outputs": [
    {
     "name": "stdout",
     "output_type": "stream",
     "text": [
      "Category   - Accuracy\n",
      "plane      - 56.2\n",
      "car        - 70.3\n",
      "bird       - 53.7\n",
      "cat        - 40.0\n",
      "deer       - 60.5\n",
      "dog        - 44.2\n",
      "frog       - 66.3\n",
      "horse      - 72.0\n",
      "ship       - 82.6\n",
      "truck      - 74.4\n"
     ]
    }
   ],
   "source": [
    "print('{0:10s} - {1}'.format('Category','Accuracy'))\n",
    "for i, r in enumerate(confusion_matrix):\n",
    "    print('{0:10s} - {1:.1f}'.format(classes[i], r[i]/np.sum(r)*100))"
   ]
  },
  {
   "cell_type": "code",
   "execution_count": 91,
   "metadata": {},
   "outputs": [
    {
     "data": {
      "image/png": "[encoded data removed]",
      "text/plain": [
       "<Figure size 576x432 with 1 Axes>"
      ]
     },
     "metadata": {
      "needs_background": "light"
     },
     "output_type": "display_data"
    }
   ],
   "source": [
    "fig, ax = plt.subplots(1,1,figsize=(8,6))\n",
    "ax.matshow(confusion_matrix, aspect='auto', vmin=0, vmax=1000, cmap=plt.get_cmap('Blues'))\n",
    "plt.ylabel('Actual Category')\n",
    "plt.yticks(range(10), classes)\n",
    "plt.xlabel('Predicted Category')\n",
    "plt.xticks(range(10), classes)\n",
    "plt.show()"
   ]
  },
  {
   "cell_type": "code",
   "execution_count": 92,
   "metadata": {},
   "outputs": [
    {
     "name": "stdout",
     "output_type": "stream",
     "text": [
      "actual/pred     plane     car       bird      cat       deer      dog       frog      horse     ship      truck     \n",
      "plane           562       24        128       14        22        3         12        14        184       37        \n",
      "                0.562     0.024     0.128     0.014     0.022     0.003     0.012     0.014     0.184     0.037     \n",
      "car             38        703       10        7         6         4         9         11        83        129       \n",
      "                0.038     0.703     0.01      0.007     0.006     0.004     0.009     0.011     0.083     0.129     \n",
      "bird            49        5         537       62        145       43        52        64        29        14        \n",
      "                0.049     0.005     0.537     0.062     0.145     0.043     0.052     0.064     0.029     0.014     \n",
      "cat             26        14        104       400       107       137       79        54        34        45        \n",
      "                0.026     0.014     0.104     0.4       0.107     0.137     0.079     0.054     0.034     0.045     \n",
      "deer            29        3         91        61        605       26        39        100       31        15        \n",
      "                0.029     0.003     0.091     0.061     0.605     0.026     0.039     0.1       0.031     0.015     \n",
      "dog             16        6         85        183       89        442       33        103       18        25        \n",
      "                0.016     0.006     0.085     0.183     0.089     0.442     0.033     0.103     0.018     0.025     \n",
      "frog            14        10        64        60        115       28        663       16        13        17        \n",
      "                0.014     0.01      0.064     0.06      0.115     0.028     0.663     0.016     0.013     0.017     \n",
      "horse           21        5         42        22        93        49        5         720       12        31        \n",
      "                0.021     0.005     0.042     0.022     0.093     0.049     0.005     0.72      0.012     0.031     \n",
      "ship            48        27        34        7         4         2         5         6         826       41        \n",
      "                0.048     0.027     0.034     0.007     0.004     0.002     0.005     0.006     0.826     0.041     \n",
      "truck           37        64        17        14        11        4         8         28        73        744       \n",
      "                0.037     0.064     0.017     0.014     0.011     0.004     0.008     0.028     0.073     0.744     \n"
     ]
    }
   ],
   "source": [
    "print('actual/pred'.ljust(16), end='')\n",
    "for i,c in enumerate(classes):\n",
    "    print(c.ljust(10), end='')\n",
    "print()\n",
    "for i,r in enumerate(confusion_matrix):\n",
    "    print(classes[i].ljust(16), end='')\n",
    "    for idx, p in enumerate(r):\n",
    "        print(str(p).ljust(10), end='')\n",
    "    print()\n",
    "    \n",
    "    r = r/np.sum(r)\n",
    "    print(''.ljust(16), end='')\n",
    "    for idx, p in enumerate(r):\n",
    "        print(str(p).ljust(10), end='')\n",
    "    print()"
   ]
  },
  {
   "cell_type": "code",
   "execution_count": null,
   "metadata": {},
   "outputs": [],
   "source": []
  }
 ],
 "metadata": {
  "kernelspec": {
   "display_name": "Python 3",
   "language": "python",
   "name": "python3"
  },
  "language_info": {
   "codemirror_mode": {
    "name": "ipython",
    "version": 3
   },
   "file_extension": ".py",
   "mimetype": "text/x-python",
   "name": "python",
   "nbconvert_exporter": "python",
   "pygments_lexer": "ipython3",
   "version": "3.6.8"
  }
 },
 "nbformat": 4,
 "nbformat_minor": 4
}
