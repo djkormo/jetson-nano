{
 "cells": [
  {
   "cell_type": "markdown",
   "metadata": {
    "colab_type": "text",
    "id": "zpChcCZ8TjzF"
   },
   "source": [
    "# Using Keras library to train images from MNIST dataset\n"
   ]
  },
  {
   "cell_type": "markdown",
   "metadata": {
    "colab_type": "text",
    "id": "iThamSNFTjzE"
   },
   "source": [
    "##### Based on http://euler.stat.yale.edu/~tba3/stat665/lectures/lec17/notebook17.html\n",
    "\n",
    "https://emiliendupont.github.io/2018/03/14/mnist-chicken/\n",
    "\n"
   ]
  },
  {
   "cell_type": "code",
   "execution_count": 1,
   "metadata": {
    "colab": {},
    "colab_type": "code",
    "id": "cmiEUH9pBNaS"
   },
   "outputs": [],
   "source": [
    "# for displaying several outputs from one cell\n",
    "from IPython.core.interactiveshell import InteractiveShell\n",
    "InteractiveShell.ast_node_interactivity = \"all\""
   ]
  },
  {
   "cell_type": "code",
   "execution_count": 2,
   "metadata": {
    "colab": {},
    "colab_type": "code",
    "id": "uPfFPO-UTjzL"
   },
   "outputs": [],
   "source": [
    "### Checking installed packages\n",
    "import subprocess\n",
    "import sys\n",
    "reqs = subprocess.check_output([sys.executable, '-m', 'pip', 'freeze'])\n",
    "installed_packages = [r.decode().split('==')[0] for r in reqs.split()]"
   ]
  },
  {
   "cell_type": "code",
   "execution_count": 3,
   "metadata": {
    "colab": {
     "base_uri": "https://localhost:8080/",
     "height": 90
    },
    "colab_type": "code",
    "executionInfo": {
     "elapsed": 6817,
     "status": "ok",
     "timestamp": 1570379954049,
     "user": {
      "displayName": "Krzysztof Pudlowski",
      "photoUrl": "https://lh3.googleusercontent.com/a-/AAuE7mC1QWMBY5SXU0FK8N6XPUuzVPmMShzQmP_j58uL=s64",
      "userId": "02699812246950609304"
     },
     "user_tz": -120
    },
    "id": "OkuTHZ2DTjzN",
    "outputId": "debd6379-b0bc-4ff6-901e-b7526813a2ce"
   },
   "outputs": [
    {
     "name": "stdout",
     "output_type": "stream",
     "text": [
      "Matplotlib version : 3.1.1\n"
     ]
    },
    {
     "name": "stderr",
     "output_type": "stream",
     "text": [
      "/home/djkormo/.virtualenvs/keras/lib/python3.6/site-packages/tensorflow/python/framework/dtypes.py:526: FutureWarning: Passing (type, 1) or '1type' as a synonym of type is deprecated; in a future version of numpy, it will be understood as (type, (1,)) / '(1,)type'.\n",
      "  _np_qint8 = np.dtype([(\"qint8\", np.int8, 1)])\n",
      "/home/djkormo/.virtualenvs/keras/lib/python3.6/site-packages/tensorflow/python/framework/dtypes.py:527: FutureWarning: Passing (type, 1) or '1type' as a synonym of type is deprecated; in a future version of numpy, it will be understood as (type, (1,)) / '(1,)type'.\n",
      "  _np_quint8 = np.dtype([(\"quint8\", np.uint8, 1)])\n",
      "/home/djkormo/.virtualenvs/keras/lib/python3.6/site-packages/tensorflow/python/framework/dtypes.py:528: FutureWarning: Passing (type, 1) or '1type' as a synonym of type is deprecated; in a future version of numpy, it will be understood as (type, (1,)) / '(1,)type'.\n",
      "  _np_qint16 = np.dtype([(\"qint16\", np.int16, 1)])\n",
      "/home/djkormo/.virtualenvs/keras/lib/python3.6/site-packages/tensorflow/python/framework/dtypes.py:529: FutureWarning: Passing (type, 1) or '1type' as a synonym of type is deprecated; in a future version of numpy, it will be understood as (type, (1,)) / '(1,)type'.\n",
      "  _np_quint16 = np.dtype([(\"quint16\", np.uint16, 1)])\n",
      "/home/djkormo/.virtualenvs/keras/lib/python3.6/site-packages/tensorflow/python/framework/dtypes.py:530: FutureWarning: Passing (type, 1) or '1type' as a synonym of type is deprecated; in a future version of numpy, it will be understood as (type, (1,)) / '(1,)type'.\n",
      "  _np_qint32 = np.dtype([(\"qint32\", np.int32, 1)])\n",
      "/home/djkormo/.virtualenvs/keras/lib/python3.6/site-packages/tensorflow/python/framework/dtypes.py:535: FutureWarning: Passing (type, 1) or '1type' as a synonym of type is deprecated; in a future version of numpy, it will be understood as (type, (1,)) / '(1,)type'.\n",
      "  np_resource = np.dtype([(\"resource\", np.ubyte, 1)])\n"
     ]
    },
    {
     "name": "stdout",
     "output_type": "stream",
     "text": [
      "Tensorflow version : 1.13.1\n",
      "Keras version:  2.2.5\n"
     ]
    },
    {
     "name": "stderr",
     "output_type": "stream",
     "text": [
      "Using TensorFlow backend.\n"
     ]
    },
    {
     "name": "stdout",
     "output_type": "stream",
     "text": [
      "Seaborn version:  0.9.0\n"
     ]
    }
   ],
   "source": [
    "import sys\n",
    "\n",
    "# Keras\n",
    "if  not 'keras' in installed_packages:\n",
    "  !pip install keras --quiet\n",
    "  !pip install keras-tqdm --quiet\n",
    "\n",
    "# Matplotlib\n",
    "if  not 'matplotlib' in installed_packages:\n",
    "  !pip install matplotlib --quiet\n",
    "\n",
    "# Matplotlib\n",
    "if  not 'seaborn' in installed_packages:\n",
    "  !pip install seaborn --quiet\n",
    "\n",
    "import matplotlib\n",
    "# sprawdzamy jego wersje \n",
    "print ('Matplotlib version :',matplotlib.__version__)\n",
    "import tensorflow as tf \n",
    "print(\"Tensorflow version :\",tf.__version__)\n",
    "\n",
    "import keras\n",
    "print(\"Keras version: \",keras.__version__)\n",
    "import seaborn as sn\n",
    "print(\"Seaborn version: \",sn.__version__)"
   ]
  },
  {
   "cell_type": "code",
   "execution_count": 4,
   "metadata": {},
   "outputs": [],
   "source": [
    "#!pip install keras-tqdm"
   ]
  },
  {
   "cell_type": "code",
   "execution_count": 5,
   "metadata": {
    "colab": {},
    "colab_type": "code",
    "id": "ngwSnlufTjzQ"
   },
   "outputs": [],
   "source": [
    "import copy\n",
    "import numpy as np\n",
    "import pandas as pd\n",
    "import matplotlib.pyplot as plt\n",
    "\n",
    "from keras.datasets import mnist, cifar10\n",
    "from keras.models import Sequential\n",
    "from keras.layers.core import Dense, Dropout, Activation, Flatten\n",
    "from keras.layers import Dense, Dropout, Flatten, Conv2D, MaxPool2D,BatchNormalization\n",
    "from keras.optimizers import SGD, RMSprop\n",
    "from keras.utils import np_utils\n",
    "from keras.regularizers import l2\n",
    "from keras.layers.convolutional import Convolution2D, MaxPooling2D\n",
    "from keras.models import Sequential\n",
    "from keras.layers import Conv2D, MaxPooling2D\n",
    "from keras.callbacks import EarlyStopping ,ReduceLROnPlateau,ModelCheckpoint\n",
    "from keras_tqdm import TQDMNotebookCallback\n",
    "from keras.preprocessing.image import ImageDataGenerator\n",
    "from tensorflow.keras.utils import plot_model\n",
    "from IPython.display import Image\n",
    "#from sklearn.model_selection import train_test_split\n",
    "import pydot\n",
    "import graphviz"
   ]
  },
  {
   "cell_type": "code",
   "execution_count": 6,
   "metadata": {
    "colab": {
     "base_uri": "https://localhost:8080/",
     "height": 35
    },
    "colab_type": "code",
    "executionInfo": {
     "elapsed": 949,
     "status": "ok",
     "timestamp": 1570379965130,
     "user": {
      "displayName": "Krzysztof Pudlowski",
      "photoUrl": "https://lh3.googleusercontent.com/a-/AAuE7mC1QWMBY5SXU0FK8N6XPUuzVPmMShzQmP_j58uL=s64",
      "userId": "02699812246950609304"
     },
     "user_tz": -120
    },
    "id": "ntlSg3KATjzT",
    "outputId": "76a5123f-2cf0-4241-f08e-e870d354cd41"
   },
   "outputs": [
    {
     "name": "stdout",
     "output_type": "stream",
     "text": [
      "Keras backend:  tensorflow\n"
     ]
    }
   ],
   "source": [
    "import keras\n",
    "print(\"Keras backend: \",keras.backend.backend())\n",
    "# set where is channel in our data\n",
    "keras.backend.set_image_data_format('channels_last')"
   ]
  },
  {
   "cell_type": "markdown",
   "metadata": {
    "colab_type": "text",
    "id": "lvbUydmATjzS"
   },
   "source": [
    "Load the MNIST dataset, flatten the images, convert the class labels, and scale the data."
   ]
  },
  {
   "cell_type": "code",
   "execution_count": 7,
   "metadata": {},
   "outputs": [],
   "source": [
    "import kerasmnist as km"
   ]
  },
  {
   "cell_type": "code",
   "execution_count": 8,
   "metadata": {},
   "outputs": [
    {
     "data": {
      "text/plain": [
       "<module 'kerasmnist' from '/home/djkormo/CNN/Mnist/kerasmnist.py'>"
      ]
     },
     "execution_count": 8,
     "metadata": {},
     "output_type": "execute_result"
    }
   ],
   "source": [
    "# if you change something in kerasmnist.py file reload content\n",
    "import importlib\n",
    "importlib.reload(km)"
   ]
  },
  {
   "cell_type": "code",
   "execution_count": 9,
   "metadata": {
    "colab": {},
    "colab_type": "code",
    "id": "UY5sAWCo_WTl"
   },
   "outputs": [],
   "source": [
    "EPOCHS=30"
   ]
  },
  {
   "cell_type": "markdown",
   "metadata": {
    "colab_type": "text",
    "id": "JAj25_5A8bDv"
   },
   "source": [
    "## 0 Prepare data to be usefull for CNN"
   ]
  },
  {
   "cell_type": "code",
   "execution_count": 10,
   "metadata": {
    "colab": {},
    "colab_type": "code",
    "id": "oI3Rb98Y0inS"
   },
   "outputs": [
    {
     "name": "stdout",
     "output_type": "stream",
     "text": [
      "Help on function load_input_data in module kerasmnist:\n",
      "\n",
      "load_input_data(fraction=0.1, dataset='mnist')\n",
      "    Function load_input_data (fraction=0.10,dataset='mnist')\n",
      "    Loads  dataset from keras.datasets\n",
      "    Default dataset is Mnist\n",
      "    Additional data set is split by fraction into train/test datasets\n",
      "\n"
     ]
    }
   ],
   "source": [
    "help(km.load_input_data)"
   ]
  },
  {
   "cell_type": "code",
   "execution_count": 11,
   "metadata": {
    "colab": {
     "base_uri": "https://localhost:8080/",
     "height": 53
    },
    "colab_type": "code",
    "executionInfo": {
     "elapsed": 1748,
     "status": "ok",
     "timestamp": 1570379985636,
     "user": {
      "displayName": "Krzysztof Pudlowski",
      "photoUrl": "https://lh3.googleusercontent.com/a-/AAuE7mC1QWMBY5SXU0FK8N6XPUuzVPmMShzQmP_j58uL=s64",
      "userId": "02699812246950609304"
     },
     "user_tz": -120
    },
    "id": "wT3GTCa61ABX",
    "outputId": "7c55cd7f-1d3d-457a-dc39-e10cdfddac55"
   },
   "outputs": [],
   "source": [
    "X_train,Y_train,X_validate,Y_validate,X_test,Y_test=km.load_input_data(fraction=0.1,dataset='mnist')"
   ]
  },
  {
   "cell_type": "code",
   "execution_count": 12,
   "metadata": {},
   "outputs": [
    {
     "name": "stdout",
     "output_type": "stream",
     "text": [
      "Help on function show_input_data in module kerasmnist:\n",
      "\n",
      "show_input_data(X_train, Y_train, X_validate, Y_validate, X_test, Y_test)\n",
      "    Function show_input_data  shows\n",
      "    train (X_train,Y_train)\n",
      "    validate (X_validate,Y_validate)\n",
      "    test (X_test,Y_test)\n",
      "    datasets shape\n",
      "\n"
     ]
    }
   ],
   "source": [
    "help(km.show_input_data)"
   ]
  },
  {
   "cell_type": "code",
   "execution_count": 13,
   "metadata": {
    "colab": {
     "base_uri": "https://localhost:8080/",
     "height": 126
    },
    "colab_type": "code",
    "executionInfo": {
     "elapsed": 713,
     "status": "ok",
     "timestamp": 1570379994334,
     "user": {
      "displayName": "Krzysztof Pudlowski",
      "photoUrl": "https://lh3.googleusercontent.com/a-/AAuE7mC1QWMBY5SXU0FK8N6XPUuzVPmMShzQmP_j58uL=s64",
      "userId": "02699812246950609304"
     },
     "user_tz": -120
    },
    "id": "VN0qOFN_22ft",
    "outputId": "1504f2fb-e2c7-4082-9013-ce1f2d85f218"
   },
   "outputs": [
    {
     "name": "stdout",
     "output_type": "stream",
     "text": [
      "X_train.shape:  (54000, 28, 28)\n",
      "Y_train.shape:  (54000,)\n",
      "X_validate.shape:  (6000, 28, 28)\n",
      "Y_validate.shape:  (6000,)\n",
      "X_test.shape:  (10000, 28, 28)\n",
      "Y_test.shape:  (10000,)\n"
     ]
    }
   ],
   "source": [
    "km.show_input_data(X_train,Y_train,X_validate,Y_validate,X_test,Y_test)"
   ]
  },
  {
   "cell_type": "code",
   "execution_count": 14,
   "metadata": {
    "colab": {},
    "colab_type": "code",
    "id": "X3tPILIRTjzd"
   },
   "outputs": [
    {
     "name": "stdout",
     "output_type": "stream",
     "text": [
      "Help on function plot_input_data in module kerasmnist:\n",
      "\n",
      "plot_input_data(X, Y, columns=5, rows=5, size=28, figsize=5)\n",
      "    function  plot_input_data(X,Y,columns=5,rows=5,size=28,figsize=5)\n",
      "    X - train data\n",
      "    Y - train labels\n",
      "    columns and rows for display\n",
      "    size  size of images\n",
      "    figsize  size of display\n",
      "\n"
     ]
    }
   ],
   "source": [
    "help(km.plot_input_data)"
   ]
  },
  {
   "cell_type": "code",
   "execution_count": 15,
   "metadata": {
    "colab": {
     "base_uri": "https://localhost:8080/",
     "height": 126
    },
    "colab_type": "code",
    "executionInfo": {
     "elapsed": 3003,
     "status": "ok",
     "timestamp": 1570380135543,
     "user": {
      "displayName": "Krzysztof Pudlowski",
      "photoUrl": "https://lh3.googleusercontent.com/a-/AAuE7mC1QWMBY5SXU0FK8N6XPUuzVPmMShzQmP_j58uL=s64",
      "userId": "02699812246950609304"
     },
     "user_tz": -120
    },
    "id": "ZxDrfb3BTjzi",
    "outputId": "c3184844-baa6-4209-ffa3-41c5bad5355c"
   },
   "outputs": [],
   "source": [
    "# see configuration of keras\n",
    "#!cat ~/.keras/keras.json"
   ]
  },
  {
   "cell_type": "code",
   "execution_count": 16,
   "metadata": {},
   "outputs": [
    {
     "data": {
      "image/png": "[encoded data removed]",
      "text/plain": [
       "<Figure size 720x720 with 36 Axes>"
      ]
     },
     "metadata": {
      "needs_background": "light"
     },
     "output_type": "display_data"
    }
   ],
   "source": [
    "km.plot_input_data(X_train,Y_train,6,6,28,10)"
   ]
  },
  {
   "cell_type": "code",
   "execution_count": 17,
   "metadata": {
    "colab": {},
    "colab_type": "code",
    "id": "pgKLefulTjzn"
   },
   "outputs": [
    {
     "name": "stdout",
     "output_type": "stream",
     "text": [
      "Help on function reshape_input_data in module kerasmnist:\n",
      "\n",
      "reshape_input_data(X_train, X_validate, X_test, Y_train, Y_validate, Y_test, size=28)\n",
      "    function reshape_input_data(X_train,X_validate,X_test,Y_train,Y_validate,Y_test,size=28)\n",
      "    Reshaping datasets into CNN  shape \n",
      "    reshaping and normalization\n",
      "\n"
     ]
    }
   ],
   "source": [
    "help (km.reshape_input_data)"
   ]
  },
  {
   "cell_type": "code",
   "execution_count": 18,
   "metadata": {
    "colab": {
     "base_uri": "https://localhost:8080/",
     "height": 126
    },
    "colab_type": "code",
    "executionInfo": {
     "elapsed": 2698,
     "status": "ok",
     "timestamp": 1570380148045,
     "user": {
      "displayName": "Krzysztof Pudlowski",
      "photoUrl": "https://lh3.googleusercontent.com/a-/AAuE7mC1QWMBY5SXU0FK8N6XPUuzVPmMShzQmP_j58uL=s64",
      "userId": "02699812246950609304"
     },
     "user_tz": -120
    },
    "id": "MYff8S-B390F",
    "outputId": "eec36679-dda4-445d-8f91-a2ed1f31b308"
   },
   "outputs": [],
   "source": [
    "# reshaping input data\n",
    "X_train,X_validate,X_test,Y_train,Y_validate,Y_test=km.reshape_input_data(X_train,X_validate,X_test,Y_train,Y_validate,Y_test,28)\n"
   ]
  },
  {
   "cell_type": "code",
   "execution_count": 19,
   "metadata": {},
   "outputs": [
    {
     "name": "stdout",
     "output_type": "stream",
     "text": [
      "Help on function show_input_data in module kerasmnist:\n",
      "\n",
      "show_input_data(X_train, Y_train, X_validate, Y_validate, X_test, Y_test)\n",
      "    Function show_input_data  shows\n",
      "    train (X_train,Y_train)\n",
      "    validate (X_validate,Y_validate)\n",
      "    test (X_test,Y_test)\n",
      "    datasets shape\n",
      "\n"
     ]
    }
   ],
   "source": [
    "help(km.show_input_data)"
   ]
  },
  {
   "cell_type": "code",
   "execution_count": 20,
   "metadata": {},
   "outputs": [
    {
     "name": "stdout",
     "output_type": "stream",
     "text": [
      "X_train.shape:  (54000, 28, 28, 1)\n",
      "Y_train.shape:  (54000, 10)\n",
      "X_validate.shape:  (6000, 28, 28, 1)\n",
      "Y_validate.shape:  (6000, 10)\n",
      "X_test.shape:  (10000, 28, 28, 1)\n",
      "Y_test.shape:  (10000, 10)\n"
     ]
    }
   ],
   "source": [
    "km.show_input_data(X_train,Y_train,X_validate,Y_validate,X_test,Y_test)"
   ]
  },
  {
   "cell_type": "markdown",
   "metadata": {
    "colab_type": "text",
    "id": "M9SirDA0Tjzr"
   },
   "source": [
    "## 1 Model  with one convolution layer\n",
    "Build and compile a basic model."
   ]
  },
  {
   "cell_type": "code",
   "execution_count": 21,
   "metadata": {
    "colab": {},
    "colab_type": "code",
    "id": "k2jv_svSTjzr"
   },
   "outputs": [
    {
     "name": "stdout",
     "output_type": "stream",
     "text": [
      "Help on function first_model in module kerasmnist:\n",
      "\n",
      "first_model(width=28, height=28, num_classes=10, verbose=0)\n",
      "    function first_model(width=28,height=28,num_classes=10,verbose=0)\n",
      "\n"
     ]
    }
   ],
   "source": [
    "help(km.first_model)"
   ]
  },
  {
   "cell_type": "code",
   "execution_count": 22,
   "metadata": {
    "colab": {
     "base_uri": "https://localhost:8080/",
     "height": 182
    },
    "colab_type": "code",
    "executionInfo": {
     "elapsed": 1183,
     "status": "ok",
     "timestamp": 1570380161449,
     "user": {
      "displayName": "Krzysztof Pudlowski",
      "photoUrl": "https://lh3.googleusercontent.com/a-/AAuE7mC1QWMBY5SXU0FK8N6XPUuzVPmMShzQmP_j58uL=s64",
      "userId": "02699812246950609304"
     },
     "user_tz": -120
    },
    "id": "cJWcNRQlTjzw",
    "outputId": "45faf35e-3e23-420b-d1fa-7e924485ba52"
   },
   "outputs": [
    {
     "name": "stdout",
     "output_type": "stream",
     "text": [
      "WARNING:tensorflow:From /home/djkormo/.virtualenvs/keras/lib/python3.6/site-packages/tensorflow/python/framework/op_def_library.py:263: colocate_with (from tensorflow.python.framework.ops) is deprecated and will be removed in a future version.\n",
      "Instructions for updating:\n",
      "Colocations handled automatically by placer.\n"
     ]
    }
   ],
   "source": [
    "model_1=km.first_model(width=28,height=28,num_classes=10,verbose=0)"
   ]
  },
  {
   "cell_type": "code",
   "execution_count": 23,
   "metadata": {
    "colab": {
     "base_uri": "https://localhost:8080/",
     "height": 308
    },
    "colab_type": "code",
    "executionInfo": {
     "elapsed": 973,
     "status": "ok",
     "timestamp": 1570380165162,
     "user": {
      "displayName": "Krzysztof Pudlowski",
      "photoUrl": "https://lh3.googleusercontent.com/a-/AAuE7mC1QWMBY5SXU0FK8N6XPUuzVPmMShzQmP_j58uL=s64",
      "userId": "02699812246950609304"
     },
     "user_tz": -120
    },
    "id": "HtIeds_-Tjz1",
    "outputId": "27e155b6-bc11-4a64-aa68-3d8dc9c44360"
   },
   "outputs": [
    {
     "name": "stdout",
     "output_type": "stream",
     "text": [
      "Model: \"sequential_1\"\n",
      "_________________________________________________________________\n",
      "Layer (type)                 Output Shape              Param #   \n",
      "=================================================================\n",
      "conv2d_1 (Conv2D)            (None, 26, 26, 32)        320       \n",
      "_________________________________________________________________\n",
      "max_pooling2d_1 (MaxPooling2 (None, 13, 13, 32)        0         \n",
      "_________________________________________________________________\n",
      "flatten_1 (Flatten)          (None, 5408)              0         \n",
      "_________________________________________________________________\n",
      "dense_1 (Dense)              (None, 10)                54090     \n",
      "=================================================================\n",
      "Total params: 54,410\n",
      "Trainable params: 54,410\n",
      "Non-trainable params: 0\n",
      "_________________________________________________________________\n"
     ]
    }
   ],
   "source": [
    "model_1.summary()"
   ]
  },
  {
   "cell_type": "code",
   "execution_count": 24,
   "metadata": {
    "colab": {},
    "colab_type": "code",
    "id": "PKUXXq8bTjz3"
   },
   "outputs": [
    {
     "name": "stdout",
     "output_type": "stream",
     "text": [
      "Help on function display_model in module kerasmnist:\n",
      "\n",
      "display_model(model, image_name='model.png')\n",
      "    function display_model(model,image_name='model.png')\n",
      "    Displaying model as png file\n",
      "\n"
     ]
    }
   ],
   "source": [
    "help(km.display_model)"
   ]
  },
  {
   "cell_type": "code",
   "execution_count": 25,
   "metadata": {
    "colab": {},
    "colab_type": "code",
    "id": "LjRgfsau5baj"
   },
   "outputs": [],
   "source": [
    "km.display_model(model_1,'model_1.png')"
   ]
  },
  {
   "cell_type": "code",
   "execution_count": 26,
   "metadata": {},
   "outputs": [],
   "source": [
    "# Set a learning rate annealer\n",
    "learning_rate_reduction = ReduceLROnPlateau(monitor='val_acc', \n",
    "                                            patience=3, \n",
    "                                            verbose=1, \n",
    "                                            factor=0.5, \n",
    "                                            min_lr=0.00001)\n",
    "checkpointer = ModelCheckpoint('mnist_weights.{epoch:02d}-{val_loss:.2f}.h5', verbose=1, save_best_only=True)"
   ]
  },
  {
   "cell_type": "code",
   "execution_count": 27,
   "metadata": {
    "colab": {},
    "colab_type": "code",
    "id": "bSLuDDoZ6usE"
   },
   "outputs": [
    {
     "name": "stdout",
     "output_type": "stream",
     "text": [
      "Help on function compile_model in module kerasmnist:\n",
      "\n",
      "compile_model(model)\n",
      "    function compile_model(model)\n",
      "    Compiling model\n",
      "\n"
     ]
    }
   ],
   "source": [
    "help(km.compile_model)"
   ]
  },
  {
   "cell_type": "code",
   "execution_count": 28,
   "metadata": {},
   "outputs": [],
   "source": [
    "km.compile_model(model_1)"
   ]
  },
  {
   "cell_type": "code",
   "execution_count": 29,
   "metadata": {},
   "outputs": [
    {
     "name": "stdout",
     "output_type": "stream",
     "text": [
      "Help on function fit_model in module kerasmnist:\n",
      "\n",
      "fit_model(model, X_train, Y_train, X_validate, Y_validate, batch_size=32, epochs=10, verbose=1, callbacks=[])\n",
      "    function fit_model(model,X_train, Y_train,\n",
      "    X_validate, Y_validate,batch_size=32,    epochs=10,verbose=1,callbacks=[])\n",
      "    Training model on X_train data with Y_train labels \n",
      "    with validation data X_validate, Y_validate\n",
      "    callbacks can be used\n",
      "\n"
     ]
    }
   ],
   "source": [
    "help(km.fit_model)"
   ]
  },
  {
   "cell_type": "code",
   "execution_count": 30,
   "metadata": {
    "colab": {
     "base_uri": "https://localhost:8080/",
     "height": 1000
    },
    "colab_type": "code",
    "executionInfo": {
     "elapsed": 309619,
     "status": "ok",
     "timestamp": 1570382631702,
     "user": {
      "displayName": "Krzysztof Pudlowski",
      "photoUrl": "https://lh3.googleusercontent.com/a-/AAuE7mC1QWMBY5SXU0FK8N6XPUuzVPmMShzQmP_j58uL=s64",
      "userId": "02699812246950609304"
     },
     "user_tz": -120
    },
    "id": "QJ54Udr27RYv",
    "outputId": "5b0d74e1-0029-40c9-d637-c3db95d23e76"
   },
   "outputs": [
    {
     "name": "stdout",
     "output_type": "stream",
     "text": [
      "WARNING:tensorflow:From /home/djkormo/.virtualenvs/keras/lib/python3.6/site-packages/tensorflow/python/ops/math_ops.py:3066: to_int32 (from tensorflow.python.ops.math_ops) is deprecated and will be removed in a future version.\n",
      "Instructions for updating:\n",
      "Use tf.cast instead.\n",
      "Train on 54000 samples, validate on 6000 samples\n"
     ]
    },
    {
     "data": {
      "application/vnd.jupyter.widget-view+json": {
       "model_id": "d8f5467c0cf342478b607f79433f9fa2",
       "version_major": 2,
       "version_minor": 0
      },
      "text/plain": [
       "HBox(children=(IntProgress(value=0, description='Training', max=15, style=ProgressStyle(description_width='ini…"
      ]
     },
     "metadata": {},
     "output_type": "display_data"
    },
    {
     "name": "stdout",
     "output_type": "stream",
     "text": [
      "Epoch 1/15\n"
     ]
    },
    {
     "data": {
      "application/vnd.jupyter.widget-view+json": {
       "model_id": "f850dacef4644ff1be479876cad4f0c5",
       "version_major": 2,
       "version_minor": 0
      },
      "text/plain": [
       "HBox(children=(IntProgress(value=0, description='Epoch 0', max=54000, style=ProgressStyle(description_width='i…"
      ]
     },
     "metadata": {},
     "output_type": "display_data"
    },
    {
     "name": "stdout",
     "output_type": "stream",
     "text": [
      "54000/54000 [==============================] - 100s 2ms/step - loss: 0.2122 - acc: 0.9396 - mean_absolute_error: 0.0226 - val_loss: 0.0905 - val_acc: 0.9740 - val_mean_absolute_error: 0.0099\n",
      "\n",
      "Epoch 00001: val_loss improved from inf to 0.09053, saving model to mnist_weights.01-0.09.h5\n",
      "Epoch 2/15\n"
     ]
    },
    {
     "data": {
      "application/vnd.jupyter.widget-view+json": {
       "model_id": "ca37f6b8e72c44b09f575afb69df5395",
       "version_major": 2,
       "version_minor": 0
      },
      "text/plain": [
       "HBox(children=(IntProgress(value=0, description='Epoch 1', max=54000, style=ProgressStyle(description_width='i…"
      ]
     },
     "metadata": {},
     "output_type": "display_data"
    },
    {
     "name": "stdout",
     "output_type": "stream",
     "text": [
      "54000/54000 [==============================] - 74s 1ms/step - loss: 0.0764 - acc: 0.9782 - mean_absolute_error: 0.0083 - val_loss: 0.0715 - val_acc: 0.9797 - val_mean_absolute_error: 0.0075\n",
      "\n",
      "Epoch 00002: val_loss improved from 0.09053 to 0.07154, saving model to mnist_weights.02-0.07.h5\n",
      "Epoch 3/15\n"
     ]
    },
    {
     "data": {
      "application/vnd.jupyter.widget-view+json": {
       "model_id": "09f75e82544548028ed56ceba7418e22",
       "version_major": 2,
       "version_minor": 0
      },
      "text/plain": [
       "HBox(children=(IntProgress(value=0, description='Epoch 2', max=54000, style=ProgressStyle(description_width='i…"
      ]
     },
     "metadata": {},
     "output_type": "display_data"
    },
    {
     "name": "stdout",
     "output_type": "stream",
     "text": [
      "54000/54000 [==============================] - 73s 1ms/step - loss: 0.0581 - acc: 0.9826 - mean_absolute_error: 0.0064 - val_loss: 0.0691 - val_acc: 0.9803 - val_mean_absolute_error: 0.0065\n",
      "\n",
      "Epoch 00003: val_loss improved from 0.07154 to 0.06912, saving model to mnist_weights.03-0.07.h5\n",
      "Epoch 4/15\n"
     ]
    },
    {
     "data": {
      "application/vnd.jupyter.widget-view+json": {
       "model_id": "6d3d4f471c8f4ca0837d07219c3401ec",
       "version_major": 2,
       "version_minor": 0
      },
      "text/plain": [
       "HBox(children=(IntProgress(value=0, description='Epoch 3', max=54000, style=ProgressStyle(description_width='i…"
      ]
     },
     "metadata": {},
     "output_type": "display_data"
    },
    {
     "name": "stdout",
     "output_type": "stream",
     "text": [
      "54000/54000 [==============================] - 73s 1ms/step - loss: 0.0484 - acc: 0.9857 - mean_absolute_error: 0.0053 - val_loss: 0.0614 - val_acc: 0.9817 - val_mean_absolute_error: 0.0055\n",
      "\n",
      "Epoch 00004: val_loss improved from 0.06912 to 0.06137, saving model to mnist_weights.04-0.06.h5\n",
      "Epoch 5/15\n"
     ]
    },
    {
     "data": {
      "application/vnd.jupyter.widget-view+json": {
       "model_id": "6e74714cdda44d37aaaeafcd0ddbfe5f",
       "version_major": 2,
       "version_minor": 0
      },
      "text/plain": [
       "HBox(children=(IntProgress(value=0, description='Epoch 4', max=54000, style=ProgressStyle(description_width='i…"
      ]
     },
     "metadata": {},
     "output_type": "display_data"
    },
    {
     "name": "stdout",
     "output_type": "stream",
     "text": [
      "54000/54000 [==============================] - 74s 1ms/step - loss: 0.0411 - acc: 0.9879 - mean_absolute_error: 0.0045 - val_loss: 0.0608 - val_acc: 0.9837 - val_mean_absolute_error: 0.0052\n",
      "\n",
      "Epoch 00005: val_loss improved from 0.06137 to 0.06085, saving model to mnist_weights.05-0.06.h5\n",
      "Epoch 6/15\n"
     ]
    },
    {
     "data": {
      "application/vnd.jupyter.widget-view+json": {
       "model_id": "b117ed03a94e4796ae7fb8aa4ef91c35",
       "version_major": 2,
       "version_minor": 0
      },
      "text/plain": [
       "HBox(children=(IntProgress(value=0, description='Epoch 5', max=54000, style=ProgressStyle(description_width='i…"
      ]
     },
     "metadata": {},
     "output_type": "display_data"
    },
    {
     "name": "stdout",
     "output_type": "stream",
     "text": [
      "54000/54000 [==============================] - 73s 1ms/step - loss: 0.0358 - acc: 0.9891 - mean_absolute_error: 0.0040 - val_loss: 0.0594 - val_acc: 0.9820 - val_mean_absolute_error: 0.0049\n",
      "\n",
      "Epoch 00006: val_loss improved from 0.06085 to 0.05944, saving model to mnist_weights.06-0.06.h5\n",
      "Epoch 7/15\n"
     ]
    },
    {
     "data": {
      "application/vnd.jupyter.widget-view+json": {
       "model_id": "dda2f87cea12401a85843670b9ebc8f2",
       "version_major": 2,
       "version_minor": 0
      },
      "text/plain": [
       "HBox(children=(IntProgress(value=0, description='Epoch 6', max=54000, style=ProgressStyle(description_width='i…"
      ]
     },
     "metadata": {},
     "output_type": "display_data"
    },
    {
     "name": "stdout",
     "output_type": "stream",
     "text": [
      "54000/54000 [==============================] - 73s 1ms/step - loss: 0.0304 - acc: 0.9908 - mean_absolute_error: 0.0035 - val_loss: 0.0724 - val_acc: 0.9792 - val_mean_absolute_error: 0.0054\n",
      "\n",
      "Epoch 00007: val_loss did not improve from 0.05944\n",
      "Epoch 8/15\n"
     ]
    },
    {
     "data": {
      "application/vnd.jupyter.widget-view+json": {
       "model_id": "acd89c9957ab466d9abb24a00cec818c",
       "version_major": 2,
       "version_minor": 0
      },
      "text/plain": [
       "HBox(children=(IntProgress(value=0, description='Epoch 7', max=54000, style=ProgressStyle(description_width='i…"
      ]
     },
     "metadata": {},
     "output_type": "display_data"
    },
    {
     "name": "stdout",
     "output_type": "stream",
     "text": [
      "54000/54000 [==============================] - 71s 1ms/step - loss: 0.0266 - acc: 0.9919 - mean_absolute_error: 0.0030 - val_loss: 0.0664 - val_acc: 0.9813 - val_mean_absolute_error: 0.0048\n",
      "\n",
      "Epoch 00008: val_loss did not improve from 0.05944\n",
      "Epoch 9/15\n"
     ]
    },
    {
     "data": {
      "application/vnd.jupyter.widget-view+json": {
       "model_id": "4814677646d84d14b675fc8b9c39ef33",
       "version_major": 2,
       "version_minor": 0
      },
      "text/plain": [
       "HBox(children=(IntProgress(value=0, description='Epoch 8', max=54000, style=ProgressStyle(description_width='i…"
      ]
     },
     "metadata": {},
     "output_type": "display_data"
    },
    {
     "name": "stdout",
     "output_type": "stream",
     "text": [
      "54000/54000 [==============================] - 73s 1ms/step - loss: 0.0225 - acc: 0.9934 - mean_absolute_error: 0.0026 - val_loss: 0.0654 - val_acc: 0.9817 - val_mean_absolute_error: 0.0046\n",
      "\n",
      "Epoch 00009: val_loss did not improve from 0.05944\n",
      "Epoch 10/15\n"
     ]
    },
    {
     "data": {
      "application/vnd.jupyter.widget-view+json": {
       "model_id": "e5b5a8d1a3ae4ffc92c5f7e0bf898f4e",
       "version_major": 2,
       "version_minor": 0
      },
      "text/plain": [
       "HBox(children=(IntProgress(value=0, description='Epoch 9', max=54000, style=ProgressStyle(description_width='i…"
      ]
     },
     "metadata": {},
     "output_type": "display_data"
    },
    {
     "name": "stdout",
     "output_type": "stream",
     "text": [
      "54000/54000 [==============================] - 73s 1ms/step - loss: 0.0186 - acc: 0.9946 - mean_absolute_error: 0.0023 - val_loss: 0.0646 - val_acc: 0.9850 - val_mean_absolute_error: 0.0040\n",
      "\n",
      "Epoch 00010: val_loss did not improve from 0.05944\n",
      "Epoch 11/15\n"
     ]
    },
    {
     "data": {
      "application/vnd.jupyter.widget-view+json": {
       "model_id": "4b8b758219eb4bd89b4df3ee9fcb08a8",
       "version_major": 2,
       "version_minor": 0
      },
      "text/plain": [
       "HBox(children=(IntProgress(value=0, description='Epoch 10', max=54000, style=ProgressStyle(description_width='…"
      ]
     },
     "metadata": {},
     "output_type": "display_data"
    },
    {
     "name": "stdout",
     "output_type": "stream",
     "text": [
      "54000/54000 [==============================] - 72s 1ms/step - loss: 0.0159 - acc: 0.9954 - mean_absolute_error: 0.0020 - val_loss: 0.0670 - val_acc: 0.9837 - val_mean_absolute_error: 0.0043\n",
      "\n",
      "Epoch 00011: val_loss did not improve from 0.05944\n",
      "Epoch 12/15\n"
     ]
    },
    {
     "data": {
      "application/vnd.jupyter.widget-view+json": {
       "model_id": "183dbc921b4548eca21d0d4bae22e4a6",
       "version_major": 2,
       "version_minor": 0
      },
      "text/plain": [
       "HBox(children=(IntProgress(value=0, description='Epoch 11', max=54000, style=ProgressStyle(description_width='…"
      ]
     },
     "metadata": {},
     "output_type": "display_data"
    },
    {
     "name": "stdout",
     "output_type": "stream",
     "text": [
      "54000/54000 [==============================] - 73s 1ms/step - loss: 0.0143 - acc: 0.9956 - mean_absolute_error: 0.0018 - val_loss: 0.0727 - val_acc: 0.9820 - val_mean_absolute_error: 0.0042\n",
      "\n",
      "Epoch 00012: val_loss did not improve from 0.05944\n",
      "Epoch 13/15\n"
     ]
    },
    {
     "data": {
      "application/vnd.jupyter.widget-view+json": {
       "model_id": "f845bee0814346c7ab51756e6cbd7af1",
       "version_major": 2,
       "version_minor": 0
      },
      "text/plain": [
       "HBox(children=(IntProgress(value=0, description='Epoch 12', max=54000, style=ProgressStyle(description_width='…"
      ]
     },
     "metadata": {},
     "output_type": "display_data"
    },
    {
     "name": "stdout",
     "output_type": "stream",
     "text": [
      "54000/54000 [==============================] - 73s 1ms/step - loss: 0.0121 - acc: 0.9962 - mean_absolute_error: 0.0016 - val_loss: 0.0689 - val_acc: 0.9840 - val_mean_absolute_error: 0.0040\n",
      "\n",
      "Epoch 00013: val_loss did not improve from 0.05944\n",
      "Epoch 14/15\n"
     ]
    },
    {
     "data": {
      "application/vnd.jupyter.widget-view+json": {
       "model_id": "a6e0b8f01ac34fb1bf52b713d3879ee7",
       "version_major": 2,
       "version_minor": 0
      },
      "text/plain": [
       "HBox(children=(IntProgress(value=0, description='Epoch 13', max=54000, style=ProgressStyle(description_width='…"
      ]
     },
     "metadata": {},
     "output_type": "display_data"
    },
    {
     "name": "stdout",
     "output_type": "stream",
     "text": [
      "54000/54000 [==============================] - 72s 1ms/step - loss: 0.0097 - acc: 0.9974 - mean_absolute_error: 0.0013 - val_loss: 0.0770 - val_acc: 0.9818 - val_mean_absolute_error: 0.0042\n",
      "\n",
      "Epoch 00014: val_loss did not improve from 0.05944\n",
      "Epoch 15/15\n"
     ]
    },
    {
     "data": {
      "application/vnd.jupyter.widget-view+json": {
       "model_id": "947e937e266d406f86bc43c1605b6d60",
       "version_major": 2,
       "version_minor": 0
      },
      "text/plain": [
       "HBox(children=(IntProgress(value=0, description='Epoch 14', max=54000, style=ProgressStyle(description_width='…"
      ]
     },
     "metadata": {},
     "output_type": "display_data"
    },
    {
     "name": "stdout",
     "output_type": "stream",
     "text": [
      "54000/54000 [==============================] - 74s 1ms/step - loss: 0.0086 - acc: 0.9974 - mean_absolute_error: 0.0012 - val_loss: 0.0758 - val_acc: 0.9840 - val_mean_absolute_error: 0.0040\n",
      "\n",
      "Epoch 00015: val_loss did not improve from 0.05944\n",
      "\n",
      "CPU times: user 12min 10s, sys: 2min 52s, total: 15min 2s\n",
      "Wall time: 18min 44s\n"
     ]
    }
   ],
   "source": [
    "%%time\n",
    "%matplotlib inline\n",
    "EPOCHS=15\n",
    "#callbacks=[learning_rate_reduction,checkpointer,TQDMNotebookCallback()]\n",
    "callbacks=[TQDMNotebookCallback(),checkpointer]\n",
    "model_1_history=km.fit_model(model_1,X_train, Y_train,X_validate, Y_validate,batch_size=32, \n",
    "                             epochs=EPOCHS,verbose=1,callbacks=callbacks)"
   ]
  },
  {
   "cell_type": "code",
   "execution_count": 31,
   "metadata": {},
   "outputs": [
    {
     "name": "stdout",
     "output_type": "stream",
     "text": [
      "Help on function model_evaluate in module kerasmnist:\n",
      "\n",
      "model_evaluate(model, X, Y, verbose=1)\n",
      "    function model_evaluate(model,X,Y,verbose=1)\n",
      "\n"
     ]
    }
   ],
   "source": [
    "help(km.model_evaluate)"
   ]
  },
  {
   "cell_type": "code",
   "execution_count": 32,
   "metadata": {
    "colab": {
     "base_uri": "https://localhost:8080/",
     "height": 108
    },
    "colab_type": "code",
    "executionInfo": {
     "elapsed": 1275,
     "status": "ok",
     "timestamp": 1570382641737,
     "user": {
      "displayName": "Krzysztof Pudlowski",
      "photoUrl": "https://lh3.googleusercontent.com/a-/AAuE7mC1QWMBY5SXU0FK8N6XPUuzVPmMShzQmP_j58uL=s64",
      "userId": "02699812246950609304"
     },
     "user_tz": -120
    },
    "id": "FCVQb2QFTj0D",
    "outputId": "f1826ef0-6fd3-4017-c89f-45d3ef8e05ae"
   },
   "outputs": [
    {
     "name": "stdout",
     "output_type": "stream",
     "text": [
      "10000/10000 [==============================] - 6s 622us/step\n",
      "[0.06672574201599346, 0.9835, 0.003858834822805693]\n",
      "loss: 0.06672574%\n",
      "acc: 0.98350000%\n",
      "['loss', 'acc', 'mean_absolute_error']\n"
     ]
    }
   ],
   "source": [
    "scores_1=km.model_evaluate(model_1,X_test, Y_test,verbose=1)"
   ]
  },
  {
   "cell_type": "code",
   "execution_count": 33,
   "metadata": {},
   "outputs": [
    {
     "name": "stdout",
     "output_type": "stream",
     "text": [
      "Help on function plot_model_history in module kerasmnist:\n",
      "\n",
      "plot_model_history(model_history, size=5)\n",
      "    function plot_model_history(model_history,size=5)\n",
      "\n"
     ]
    }
   ],
   "source": [
    "help(km.plot_model_history)"
   ]
  },
  {
   "cell_type": "code",
   "execution_count": 34,
   "metadata": {
    "colab": {
     "base_uri": "https://localhost:8080/",
     "height": 871
    },
    "colab_type": "code",
    "executionInfo": {
     "elapsed": 1074,
     "status": "ok",
     "timestamp": 1570382648860,
     "user": {
      "displayName": "Krzysztof Pudlowski",
      "photoUrl": "https://lh3.googleusercontent.com/a-/AAuE7mC1QWMBY5SXU0FK8N6XPUuzVPmMShzQmP_j58uL=s64",
      "userId": "02699812246950609304"
     },
     "user_tz": -120
    },
    "id": "eJ5uh-Id-6tZ",
    "outputId": "b3b44efb-0b12-41dc-96b8-73022a9197a8"
   },
   "outputs": [
    {
     "data": {
      "image/png": "[encoded data removed]",
      "text/plain": [
       "<Figure size 504x504 with 1 Axes>"
      ]
     },
     "metadata": {
      "needs_background": "light"
     },
     "output_type": "display_data"
    },
    {
     "data": {
      "image/png": "[encoded data removed]",
      "text/plain": [
       "<Figure size 504x504 with 1 Axes>"
      ]
     },
     "metadata": {
      "needs_background": "light"
     },
     "output_type": "display_data"
    }
   ],
   "source": [
    "km.plot_model_history(model_1_history,7)"
   ]
  },
  {
   "cell_type": "code",
   "execution_count": 35,
   "metadata": {},
   "outputs": [
    {
     "name": "stdout",
     "output_type": "stream",
     "text": [
      "Help on function model_prediction_summary in module kerasmnist:\n",
      "\n",
      "model_prediction_summary(model, X, Y, verbose=1)\n",
      "    *\n",
      "\n"
     ]
    }
   ],
   "source": [
    "help(km.model_prediction_summary)"
   ]
  },
  {
   "cell_type": "code",
   "execution_count": 36,
   "metadata": {
    "colab": {
     "base_uri": "https://localhost:8080/",
     "height": 308
    },
    "colab_type": "code",
    "executionInfo": {
     "elapsed": 1203,
     "status": "ok",
     "timestamp": 1570382656050,
     "user": {
      "displayName": "Krzysztof Pudlowski",
      "photoUrl": "https://lh3.googleusercontent.com/a-/AAuE7mC1QWMBY5SXU0FK8N6XPUuzVPmMShzQmP_j58uL=s64",
      "userId": "02699812246950609304"
     },
     "user_tz": -120
    },
    "id": "FVp0DB4R_htN",
    "outputId": "b677ecd8-131c-4a2e-b0d7-e04681ff9fec"
   },
   "outputs": [
    {
     "name": "stdout",
     "output_type": "stream",
     "text": [
      "10000/10000 [==============================] - 6s 577us/step\n",
      "Input shape:  (10000, 28, 28, 1)\n",
      "Label shape:  (10000, 10)\n",
      "Predicted Label shape:  (10000,)\n",
      "col_0    0     1     2    3    4    5    6     7    8    9\n",
      "row_0                                                     \n",
      "0      970     0     3    0    0    1    7     1    9    3\n",
      "1        0  1127     2    0    0    0    2     2    0    0\n",
      "2        3     4  1008    2    0    1    1     8    3    0\n",
      "3        0     0     1  998    0    9    0     3    1    3\n",
      "4        0     1     4    0  969    0    2     1    0    3\n",
      "5        0     0     0    5    0  875    3     0    2    2\n",
      "6        3     0     3    0    3    4  942     0    3    0\n",
      "7        1     1     5    2    1    0    0  1006    2    6\n",
      "8        2     2     6    2    0    0    1     2  951    3\n",
      "9        1     0     0    1    9    2    0     5    3  989\n"
     ]
    }
   ],
   "source": [
    "Y_hat=km.model_prediction_summary(model_1,X_test,Y_test,1)"
   ]
  },
  {
   "cell_type": "code",
   "execution_count": 37,
   "metadata": {
    "colab": {
     "base_uri": "https://localhost:8080/",
     "height": 394
    },
    "colab_type": "code",
    "executionInfo": {
     "elapsed": 532,
     "status": "ok",
     "timestamp": 1570382659252,
     "user": {
      "displayName": "Krzysztof Pudlowski",
      "photoUrl": "https://lh3.googleusercontent.com/a-/AAuE7mC1QWMBY5SXU0FK8N6XPUuzVPmMShzQmP_j58uL=s64",
      "userId": "02699812246950609304"
     },
     "user_tz": -120
    },
    "id": "Q5R_JsWJTj0Y",
    "outputId": "44fde44a-affd-4fab-de08-466bf23ddcf7"
   },
   "outputs": [
    {
     "data": {
      "text/html": [
       "<div>\n",
       "<style scoped>\n",
       "    .dataframe tbody tr th:only-of-type {\n",
       "        vertical-align: middle;\n",
       "    }\n",
       "\n",
       "    .dataframe tbody tr th {\n",
       "        vertical-align: top;\n",
       "    }\n",
       "\n",
       "    .dataframe thead th {\n",
       "        text-align: right;\n",
       "    }\n",
       "</style>\n",
       "<table border=\"1\" class=\"dataframe\">\n",
       "  <thead>\n",
       "    <tr style=\"text-align: right;\">\n",
       "      <th>col_0</th>\n",
       "      <th>0</th>\n",
       "      <th>1</th>\n",
       "      <th>2</th>\n",
       "      <th>3</th>\n",
       "      <th>4</th>\n",
       "      <th>5</th>\n",
       "      <th>6</th>\n",
       "      <th>7</th>\n",
       "      <th>8</th>\n",
       "      <th>9</th>\n",
       "    </tr>\n",
       "    <tr>\n",
       "      <th>row_0</th>\n",
       "      <th></th>\n",
       "      <th></th>\n",
       "      <th></th>\n",
       "      <th></th>\n",
       "      <th></th>\n",
       "      <th></th>\n",
       "      <th></th>\n",
       "      <th></th>\n",
       "      <th></th>\n",
       "      <th></th>\n",
       "    </tr>\n",
       "  </thead>\n",
       "  <tbody>\n",
       "    <tr>\n",
       "      <td>0</td>\n",
       "      <td>970</td>\n",
       "      <td>0</td>\n",
       "      <td>3</td>\n",
       "      <td>0</td>\n",
       "      <td>0</td>\n",
       "      <td>1</td>\n",
       "      <td>7</td>\n",
       "      <td>1</td>\n",
       "      <td>9</td>\n",
       "      <td>3</td>\n",
       "    </tr>\n",
       "    <tr>\n",
       "      <td>1</td>\n",
       "      <td>0</td>\n",
       "      <td>1127</td>\n",
       "      <td>2</td>\n",
       "      <td>0</td>\n",
       "      <td>0</td>\n",
       "      <td>0</td>\n",
       "      <td>2</td>\n",
       "      <td>2</td>\n",
       "      <td>0</td>\n",
       "      <td>0</td>\n",
       "    </tr>\n",
       "    <tr>\n",
       "      <td>2</td>\n",
       "      <td>3</td>\n",
       "      <td>4</td>\n",
       "      <td>1008</td>\n",
       "      <td>2</td>\n",
       "      <td>0</td>\n",
       "      <td>1</td>\n",
       "      <td>1</td>\n",
       "      <td>8</td>\n",
       "      <td>3</td>\n",
       "      <td>0</td>\n",
       "    </tr>\n",
       "    <tr>\n",
       "      <td>3</td>\n",
       "      <td>0</td>\n",
       "      <td>0</td>\n",
       "      <td>1</td>\n",
       "      <td>998</td>\n",
       "      <td>0</td>\n",
       "      <td>9</td>\n",
       "      <td>0</td>\n",
       "      <td>3</td>\n",
       "      <td>1</td>\n",
       "      <td>3</td>\n",
       "    </tr>\n",
       "    <tr>\n",
       "      <td>4</td>\n",
       "      <td>0</td>\n",
       "      <td>1</td>\n",
       "      <td>4</td>\n",
       "      <td>0</td>\n",
       "      <td>969</td>\n",
       "      <td>0</td>\n",
       "      <td>2</td>\n",
       "      <td>1</td>\n",
       "      <td>0</td>\n",
       "      <td>3</td>\n",
       "    </tr>\n",
       "    <tr>\n",
       "      <td>5</td>\n",
       "      <td>0</td>\n",
       "      <td>0</td>\n",
       "      <td>0</td>\n",
       "      <td>5</td>\n",
       "      <td>0</td>\n",
       "      <td>875</td>\n",
       "      <td>3</td>\n",
       "      <td>0</td>\n",
       "      <td>2</td>\n",
       "      <td>2</td>\n",
       "    </tr>\n",
       "    <tr>\n",
       "      <td>6</td>\n",
       "      <td>3</td>\n",
       "      <td>0</td>\n",
       "      <td>3</td>\n",
       "      <td>0</td>\n",
       "      <td>3</td>\n",
       "      <td>4</td>\n",
       "      <td>942</td>\n",
       "      <td>0</td>\n",
       "      <td>3</td>\n",
       "      <td>0</td>\n",
       "    </tr>\n",
       "    <tr>\n",
       "      <td>7</td>\n",
       "      <td>1</td>\n",
       "      <td>1</td>\n",
       "      <td>5</td>\n",
       "      <td>2</td>\n",
       "      <td>1</td>\n",
       "      <td>0</td>\n",
       "      <td>0</td>\n",
       "      <td>1006</td>\n",
       "      <td>2</td>\n",
       "      <td>6</td>\n",
       "    </tr>\n",
       "    <tr>\n",
       "      <td>8</td>\n",
       "      <td>2</td>\n",
       "      <td>2</td>\n",
       "      <td>6</td>\n",
       "      <td>2</td>\n",
       "      <td>0</td>\n",
       "      <td>0</td>\n",
       "      <td>1</td>\n",
       "      <td>2</td>\n",
       "      <td>951</td>\n",
       "      <td>3</td>\n",
       "    </tr>\n",
       "    <tr>\n",
       "      <td>9</td>\n",
       "      <td>1</td>\n",
       "      <td>0</td>\n",
       "      <td>0</td>\n",
       "      <td>1</td>\n",
       "      <td>9</td>\n",
       "      <td>2</td>\n",
       "      <td>0</td>\n",
       "      <td>5</td>\n",
       "      <td>3</td>\n",
       "      <td>989</td>\n",
       "    </tr>\n",
       "  </tbody>\n",
       "</table>\n",
       "</div>"
      ],
      "text/plain": [
       "col_0    0     1     2    3    4    5    6     7    8    9\n",
       "row_0                                                     \n",
       "0      970     0     3    0    0    1    7     1    9    3\n",
       "1        0  1127     2    0    0    0    2     2    0    0\n",
       "2        3     4  1008    2    0    1    1     8    3    0\n",
       "3        0     0     1  998    0    9    0     3    1    3\n",
       "4        0     1     4    0  969    0    2     1    0    3\n",
       "5        0     0     0    5    0  875    3     0    2    2\n",
       "6        3     0     3    0    3    4  942     0    3    0\n",
       "7        1     1     5    2    1    0    0  1006    2    6\n",
       "8        2     2     6    2    0    0    1     2  951    3\n",
       "9        1     0     0    1    9    2    0     5    3  989"
      ]
     },
     "execution_count": 37,
     "metadata": {},
     "output_type": "execute_result"
    }
   ],
   "source": [
    "pd.crosstab(Y_hat, np.argmax(Y_test, axis=-1))"
   ]
  },
  {
   "cell_type": "code",
   "execution_count": 38,
   "metadata": {
    "colab": {},
    "colab_type": "code",
    "id": "qerhsr6vOYAE"
   },
   "outputs": [],
   "source": [
    "# Look at confusion matrix \n",
    "import itertools \n",
    "def plot_confusion_matrix(cm, classes,\n",
    "                          normalize=False,\n",
    "                          title='Confusion matrix',\n",
    "                          cmap=plt.cm.Blues):\n",
    "    \"\"\"\n",
    "    This function prints and plots the confusion matrix.\n",
    "    Normalization can be applied by setting `normalize=True`.\n",
    "    \"\"\"\n",
    "    from sklearn.metrics import confusion_matrix\n",
    "    plt.figure(figsize=(8,8))\n",
    "    _=plt.subplots_adjust(left=0, right=1, top=1, bottom=0)\n",
    "    plt.imshow(cm, interpolation='nearest', cmap=cmap)\n",
    "    plt.title(title)\n",
    "    plt.colorbar()\n",
    "    tick_marks = np.arange(len(classes))\n",
    "    plt.xticks(tick_marks, classes, rotation=45)\n",
    "    plt.yticks(tick_marks, classes)\n",
    "\n",
    "    if normalize:\n",
    "        cm = cm.astype('float') / cm.sum(axis=1)[:, np.newaxis]\n",
    "\n",
    "    thresh = cm.max() / 2.\n",
    "    for i, j in itertools.product(range(cm.shape[0]), range(cm.shape[1])):\n",
    "        plt.text(j, i, cm[i, j],\n",
    "                 horizontalalignment=\"center\",\n",
    "                 color=\"white\" if cm[i, j] > thresh else \"black\")\n",
    "\n",
    "    plt.tight_layout()\n",
    "    plt.ylabel('True label')\n",
    "    plt.xlabel('Predicted label')\n"
   ]
  },
  {
   "cell_type": "code",
   "execution_count": 39,
   "metadata": {
    "colab": {
     "base_uri": "https://localhost:8080/",
     "height": 585
    },
    "colab_type": "code",
    "executionInfo": {
     "elapsed": 2761,
     "status": "ok",
     "timestamp": 1570382671211,
     "user": {
      "displayName": "Krzysztof Pudlowski",
      "photoUrl": "https://lh3.googleusercontent.com/a-/AAuE7mC1QWMBY5SXU0FK8N6XPUuzVPmMShzQmP_j58uL=s64",
      "userId": "02699812246950609304"
     },
     "user_tz": -120
    },
    "id": "caK-Ybb2OZlB",
    "outputId": "74feff4c-92bf-49f0-9258-924e4b9eb1b2"
   },
   "outputs": [],
   "source": [
    "#from sklearn.metrics import confusion_matrix\n",
    "#import seaborn as sns\n",
    "#import itertools \n",
    "# Predict the values from the validation dataset\n",
    "#Y_pred = model_1.predict(X_test)\n",
    "# Convert predictions classes to one hot vectors \n",
    "#Y_pred_classes = np.argmax(Y_pred,axis = 1) \n",
    "# Convert validation observations to one hot vectors\n",
    "#Y_true = np.argmax(Y_test,axis = 1) \n",
    "# compute the confusion matrix\n",
    "#confusion_mtx = confusion_matrix(Y_true, Y_pred_classes) \n",
    "# plot the confusion matrix\n",
    "#km.plot_confusion_matrix(confusion_mtx, classes = range(10)) "
   ]
  },
  {
   "cell_type": "code",
   "execution_count": 40,
   "metadata": {},
   "outputs": [
    {
     "name": "stdout",
     "output_type": "stream",
     "text": [
      "Help on function plot_wrong_images in module kerasmnist:\n",
      "\n",
      "plot_wrong_images(X, Y, Y_pred, size=10)\n",
      "\n"
     ]
    }
   ],
   "source": [
    "help(km.plot_wrong_images)"
   ]
  },
  {
   "cell_type": "code",
   "execution_count": 41,
   "metadata": {
    "colab": {
     "base_uri": "https://localhost:8080/",
     "height": 802
    },
    "colab_type": "code",
    "executionInfo": {
     "elapsed": 13030,
     "status": "ok",
     "timestamp": 1570382692130,
     "user": {
      "displayName": "Krzysztof Pudlowski",
      "photoUrl": "https://lh3.googleusercontent.com/a-/AAuE7mC1QWMBY5SXU0FK8N6XPUuzVPmMShzQmP_j58uL=s64",
      "userId": "02699812246950609304"
     },
     "user_tz": -120
    },
    "id": "WnPEQC1WBnR7",
    "outputId": "8337822c-3047-4275-8fb6-cc2a3cd969d0"
   },
   "outputs": [
    {
     "name": "stdout",
     "output_type": "stream",
     "text": [
      "All items count:  10000\n",
      "Wrong items count:  165\n",
      "Accuracy:  0.9835\n"
     ]
    },
    {
     "data": {
      "image/png": "[encoded data removed]",
      "text/plain": [
       "<Figure size 720x720 with 165 Axes>"
      ]
     },
     "metadata": {
      "needs_background": "light"
     },
     "output_type": "display_data"
    }
   ],
   "source": [
    "km.plot_wrong_images(X_test,Y_test,Y_hat,size=10)"
   ]
  },
  {
   "cell_type": "code",
   "execution_count": 50,
   "metadata": {},
   "outputs": [
    {
     "name": "stdout",
     "output_type": "stream",
     "text": [
      "Help on function model_save in module kerasmnist:\n",
      "\n",
      "model_save(model, schema_file='model.json', weights_file='model.h5')\n",
      "\n"
     ]
    }
   ],
   "source": [
    "help(km.model_save)"
   ]
  },
  {
   "cell_type": "code",
   "execution_count": 43,
   "metadata": {
    "colab": {
     "base_uri": "https://localhost:8080/",
     "height": 53
    },
    "colab_type": "code",
    "executionInfo": {
     "elapsed": 843,
     "status": "ok",
     "timestamp": 1570382770544,
     "user": {
      "displayName": "Krzysztof Pudlowski",
      "photoUrl": "https://lh3.googleusercontent.com/a-/AAuE7mC1QWMBY5SXU0FK8N6XPUuzVPmMShzQmP_j58uL=s64",
      "userId": "02699812246950609304"
     },
     "user_tz": -120
    },
    "id": "JwilXxuACvnA",
    "outputId": "37c28ec6-a435-41a2-a5bb-c5fc369aa3ae"
   },
   "outputs": [
    {
     "name": "stdout",
     "output_type": "stream",
     "text": [
      "Saved model to disk\n",
      "Model json to:  model_1.json  weights to:  model_1.h5\n"
     ]
    }
   ],
   "source": [
    "km.model_save(model_1,schema_file='model_1.json',weights_file='model_1.h5')"
   ]
  },
  {
   "cell_type": "code",
   "execution_count": 44,
   "metadata": {},
   "outputs": [
    {
     "ename": "ZeroDivisionError",
     "evalue": "division by zero",
     "output_type": "error",
     "traceback": [
      "\u001b[0;31m---------------------------------------------------------------------------\u001b[0m",
      "\u001b[0;31mZeroDivisionError\u001b[0m                         Traceback (most recent call last)",
      "\u001b[0;32m<ipython-input-44-6132292e5df5>\u001b[0m in \u001b[0;36m<module>\u001b[0;34m\u001b[0m\n\u001b[1;32m      1\u001b[0m \u001b[0;31m# let's break\u001b[0m\u001b[0;34m\u001b[0m\u001b[0;34m\u001b[0m\u001b[0;34m\u001b[0m\u001b[0m\n\u001b[0;32m----> 2\u001b[0;31m \u001b[0;36m1\u001b[0m\u001b[0;34m/\u001b[0m\u001b[0;36m0\u001b[0m\u001b[0;34m\u001b[0m\u001b[0;34m\u001b[0m\u001b[0m\n\u001b[0m",
      "\u001b[0;31mZeroDivisionError\u001b[0m: division by zero"
     ]
    }
   ],
   "source": [
    "# let's break\n",
    "1/0"
   ]
  },
  {
   "cell_type": "markdown",
   "metadata": {
    "colab_type": "text",
    "id": "wIX_4bDCTj0k"
   },
   "source": [
    "## 2 Model with  added Dropout"
   ]
  },
  {
   "cell_type": "code",
   "execution_count": 45,
   "metadata": {
    "colab": {
     "base_uri": "https://localhost:8080/",
     "height": 201
    },
    "colab_type": "code",
    "executionInfo": {
     "elapsed": 540,
     "status": "ok",
     "timestamp": 1570382780566,
     "user": {
      "displayName": "Krzysztof Pudlowski",
      "photoUrl": "https://lh3.googleusercontent.com/a-/AAuE7mC1QWMBY5SXU0FK8N6XPUuzVPmMShzQmP_j58uL=s64",
      "userId": "02699812246950609304"
     },
     "user_tz": -120
    },
    "id": "Th7ZJB2TTj0q",
    "outputId": "de5e8b6f-b38f-4d73-f6a0-fd55aa9fc49e"
   },
   "outputs": [
    {
     "name": "stdout",
     "output_type": "stream",
     "text": [
      "(None, 26, 26, 32)\n",
      "(None, 24, 24, 32)\n",
      "(None, 12, 12, 32)\n",
      "WARNING:tensorflow:From /home/djkormo/.virtualenvs/keras/lib/python3.6/site-packages/keras/backend/tensorflow_backend.py:3733: calling dropout (from tensorflow.python.ops.nn_ops) with keep_prob is deprecated and will be removed in a future version.\n",
      "Instructions for updating:\n",
      "Please use `rate` instead of `keep_prob`. Rate should be set to `rate = 1 - keep_prob`.\n",
      "(None, 12, 12, 32)\n",
      "(None, 4608)\n",
      "(None, 10)\n"
     ]
    }
   ],
   "source": [
    "model_2=km.second_model(width=28,height=28,num_classes=10,verbose=1)"
   ]
  },
  {
   "cell_type": "code",
   "execution_count": 46,
   "metadata": {
    "colab": {
     "base_uri": "https://localhost:8080/",
     "height": 380
    },
    "colab_type": "code",
    "executionInfo": {
     "elapsed": 746,
     "status": "ok",
     "timestamp": 1570382791102,
     "user": {
      "displayName": "Krzysztof Pudlowski",
      "photoUrl": "https://lh3.googleusercontent.com/a-/AAuE7mC1QWMBY5SXU0FK8N6XPUuzVPmMShzQmP_j58uL=s64",
      "userId": "02699812246950609304"
     },
     "user_tz": -120
    },
    "id": "WmJql9rYTj02",
    "outputId": "59fc55e8-7317-48e3-eaf8-7ab191c075b2"
   },
   "outputs": [
    {
     "name": "stdout",
     "output_type": "stream",
     "text": [
      "Model: \"sequential_2\"\n",
      "_________________________________________________________________\n",
      "Layer (type)                 Output Shape              Param #   \n",
      "=================================================================\n",
      "conv2d_2 (Conv2D)            (None, 26, 26, 32)        320       \n",
      "_________________________________________________________________\n",
      "conv2d_3 (Conv2D)            (None, 24, 24, 32)        9248      \n",
      "_________________________________________________________________\n",
      "max_pooling2d_2 (MaxPooling2 (None, 12, 12, 32)        0         \n",
      "_________________________________________________________________\n",
      "dropout_1 (Dropout)          (None, 12, 12, 32)        0         \n",
      "_________________________________________________________________\n",
      "flatten_2 (Flatten)          (None, 4608)              0         \n",
      "_________________________________________________________________\n",
      "dense_2 (Dense)              (None, 10)                46090     \n",
      "=================================================================\n",
      "Total params: 55,658\n",
      "Trainable params: 55,658\n",
      "Non-trainable params: 0\n",
      "_________________________________________________________________\n"
     ]
    }
   ],
   "source": [
    "model_2.summary()"
   ]
  },
  {
   "cell_type": "code",
   "execution_count": 47,
   "metadata": {
    "colab": {},
    "colab_type": "code",
    "id": "oZG0YC-v50mF"
   },
   "outputs": [],
   "source": [
    "km.display_model(model_2,'model_2.png')"
   ]
  },
  {
   "cell_type": "code",
   "execution_count": 48,
   "metadata": {
    "colab": {},
    "colab_type": "code",
    "id": "kv6t7dTO54_r"
   },
   "outputs": [],
   "source": [
    "km.compile_model(model_2)"
   ]
  },
  {
   "cell_type": "markdown",
   "metadata": {
    "colab_type": "text",
    "id": "UDG1sUZdTj0-"
   },
   "source": [
    "Fit the model over 20 epochs. The predictiveness is impressive for such a small model!"
   ]
  },
  {
   "cell_type": "code",
   "execution_count": 49,
   "metadata": {
    "colab": {
     "base_uri": "https://localhost:8080/",
     "height": 1000
    },
    "colab_type": "code",
    "executionInfo": {
     "elapsed": 422532,
     "status": "ok",
     "timestamp": 1570383229690,
     "user": {
      "displayName": "Krzysztof Pudlowski",
      "photoUrl": "https://lh3.googleusercontent.com/a-/AAuE7mC1QWMBY5SXU0FK8N6XPUuzVPmMShzQmP_j58uL=s64",
      "userId": "02699812246950609304"
     },
     "user_tz": -120
    },
    "id": "ZSQdEPMX6He-",
    "outputId": "04af6b91-c021-49d4-ef96-f4fe1afbc4fa"
   },
   "outputs": [
    {
     "name": "stdout",
     "output_type": "stream",
     "text": [
      "Train on 54000 samples, validate on 6000 samples\n",
      "Epoch 1/15\n",
      "54000/54000 [==============================] - 77s 1ms/step - loss: 0.1691 - acc: 0.9501 - mean_absolute_error: 0.0167 - val_loss: 0.0691 - val_acc: 0.9810 - val_mean_absolute_error: 0.0064\n",
      "Epoch 2/15\n",
      "54000/54000 [==============================] - 74s 1ms/step - loss: 0.0645 - acc: 0.9797 - mean_absolute_error: 0.0063 - val_loss: 0.0508 - val_acc: 0.9848 - val_mean_absolute_error: 0.0045\n",
      "Epoch 3/15\n",
      "54000/54000 [==============================] - 74s 1ms/step - loss: 0.0470 - acc: 0.9853 - mean_absolute_error: 0.0047 - val_loss: 0.0540 - val_acc: 0.9853 - val_mean_absolute_error: 0.0044\n",
      "Epoch 4/15\n",
      "54000/54000 [==============================] - 75s 1ms/step - loss: 0.0393 - acc: 0.9876 - mean_absolute_error: 0.0039 - val_loss: 0.0493 - val_acc: 0.9862 - val_mean_absolute_error: 0.0039\n",
      "Epoch 5/15\n",
      "54000/54000 [==============================] - 75s 1ms/step - loss: 0.0318 - acc: 0.9895 - mean_absolute_error: 0.0032 - val_loss: 0.0487 - val_acc: 0.9865 - val_mean_absolute_error: 0.0036\n",
      "Epoch 6/15\n",
      "54000/54000 [==============================] - 76s 1ms/step - loss: 0.0272 - acc: 0.9915 - mean_absolute_error: 0.0027 - val_loss: 0.0422 - val_acc: 0.9880 - val_mean_absolute_error: 0.0032\n",
      "Epoch 7/15\n",
      "54000/54000 [==============================] - 73s 1ms/step - loss: 0.0239 - acc: 0.9921 - mean_absolute_error: 0.0024 - val_loss: 0.0491 - val_acc: 0.9865 - val_mean_absolute_error: 0.0032\n",
      "Epoch 8/15\n",
      "54000/54000 [==============================] - 74s 1ms/step - loss: 0.0206 - acc: 0.9934 - mean_absolute_error: 0.0020 - val_loss: 0.0408 - val_acc: 0.9885 - val_mean_absolute_error: 0.0028\n",
      "Epoch 9/15\n",
      "54000/54000 [==============================] - 74s 1ms/step - loss: 0.0180 - acc: 0.9941 - mean_absolute_error: 0.0018 - val_loss: 0.0516 - val_acc: 0.9870 - val_mean_absolute_error: 0.0032\n",
      "Epoch 10/15\n",
      "54000/54000 [==============================] - 74s 1ms/step - loss: 0.0173 - acc: 0.9940 - mean_absolute_error: 0.0017 - val_loss: 0.0422 - val_acc: 0.9897 - val_mean_absolute_error: 0.0027\n",
      "Epoch 11/15\n",
      "54000/54000 [==============================] - 73s 1ms/step - loss: 0.0148 - acc: 0.9949 - mean_absolute_error: 0.0015 - val_loss: 0.0455 - val_acc: 0.9892 - val_mean_absolute_error: 0.0025\n",
      "Epoch 12/15\n",
      "54000/54000 [==============================] - 75s 1ms/step - loss: 0.0137 - acc: 0.9952 - mean_absolute_error: 0.0014 - val_loss: 0.0519 - val_acc: 0.9890 - val_mean_absolute_error: 0.0026\n",
      "Epoch 13/15\n",
      "54000/54000 [==============================] - 74s 1ms/step - loss: 0.0131 - acc: 0.9956 - mean_absolute_error: 0.0014 - val_loss: 0.0439 - val_acc: 0.9890 - val_mean_absolute_error: 0.0025\n",
      "Epoch 14/15\n",
      "54000/54000 [==============================] - 75s 1ms/step - loss: 0.0117 - acc: 0.9961 - mean_absolute_error: 0.0012 - val_loss: 0.0563 - val_acc: 0.9882 - val_mean_absolute_error: 0.0026\n",
      "Epoch 15/15\n",
      "54000/54000 [==============================] - 75s 1ms/step - loss: 0.0121 - acc: 0.9956 - mean_absolute_error: 0.0012 - val_loss: 0.0557 - val_acc: 0.9868 - val_mean_absolute_error: 0.0030\n",
      "CPU times: user 12min 4s, sys: 3min 7s, total: 15min 12s\n",
      "Wall time: 18min 40s\n"
     ]
    }
   ],
   "source": [
    "%%time\n",
    "EPOCHS=15\n",
    "callbacks=[]\n",
    "model_2_history=km.fit_model(model_2,X_train, Y_train,X_validate, Y_validate,batch_size=32, epochs=EPOCHS,verbose=1,callbacks=callbacks)"
   ]
  },
  {
   "cell_type": "code",
   "execution_count": 51,
   "metadata": {
    "colab": {
     "base_uri": "https://localhost:8080/",
     "height": 108
    },
    "colab_type": "code",
    "executionInfo": {
     "elapsed": 1544,
     "status": "ok",
     "timestamp": 1570383240982,
     "user": {
      "displayName": "Krzysztof Pudlowski",
      "photoUrl": "https://lh3.googleusercontent.com/a-/AAuE7mC1QWMBY5SXU0FK8N6XPUuzVPmMShzQmP_j58uL=s64",
      "userId": "02699812246950609304"
     },
     "user_tz": -120
    },
    "id": "LP9JwzHJ6P0U",
    "outputId": "597f025f-6b23-45ad-dc3b-3a9cfdb9a731"
   },
   "outputs": [
    {
     "name": "stdout",
     "output_type": "stream",
     "text": [
      "10000/10000 [==============================] - 7s 689us/step\n",
      "[0.044061217211431, 0.9878, 0.002710641134263415]\n",
      "loss: 0.04406122%\n",
      "acc: 0.98780000%\n",
      "['loss', 'acc', 'mean_absolute_error']\n"
     ]
    }
   ],
   "source": [
    "scores_2=km.model_evaluate(model_2,X_test, Y_test,verbose=1)"
   ]
  },
  {
   "cell_type": "code",
   "execution_count": 52,
   "metadata": {
    "colab": {
     "base_uri": "https://localhost:8080/",
     "height": 871
    },
    "colab_type": "code",
    "executionInfo": {
     "elapsed": 1106,
     "status": "ok",
     "timestamp": 1570383244693,
     "user": {
      "displayName": "Krzysztof Pudlowski",
      "photoUrl": "https://lh3.googleusercontent.com/a-/AAuE7mC1QWMBY5SXU0FK8N6XPUuzVPmMShzQmP_j58uL=s64",
      "userId": "02699812246950609304"
     },
     "user_tz": -120
    },
    "id": "pInjuyREMh_p",
    "outputId": "c383f5c6-7a2f-4611-a56f-6f1504dc6989"
   },
   "outputs": [
    {
     "data": {
      "image/png": "[encoded data removed]",
      "text/plain": [
       "<Figure size 504x504 with 1 Axes>"
      ]
     },
     "metadata": {
      "needs_background": "light"
     },
     "output_type": "display_data"
    },
    {
     "data": {
      "image/png": "[encoded data removed]",
      "text/plain": [
       "<Figure size 504x504 with 1 Axes>"
      ]
     },
     "metadata": {
      "needs_background": "light"
     },
     "output_type": "display_data"
    }
   ],
   "source": [
    "km.plot_model_history(model_2_history,7)"
   ]
  },
  {
   "cell_type": "code",
   "execution_count": 53,
   "metadata": {
    "colab": {
     "base_uri": "https://localhost:8080/",
     "height": 308
    },
    "colab_type": "code",
    "executionInfo": {
     "elapsed": 1344,
     "status": "ok",
     "timestamp": 1570383273459,
     "user": {
      "displayName": "Krzysztof Pudlowski",
      "photoUrl": "https://lh3.googleusercontent.com/a-/AAuE7mC1QWMBY5SXU0FK8N6XPUuzVPmMShzQmP_j58uL=s64",
      "userId": "02699812246950609304"
     },
     "user_tz": -120
    },
    "id": "lxxlm-j8Aqpw",
    "outputId": "79c806b8-703f-4b14-a9f9-d3882312f2b2"
   },
   "outputs": [
    {
     "name": "stdout",
     "output_type": "stream",
     "text": [
      "10000/10000 [==============================] - 6s 625us/step\n",
      "Input shape:  (10000, 28, 28, 1)\n",
      "Label shape:  (10000, 10)\n",
      "Predicted Label shape:  (10000,)\n",
      "col_0    0     1     2     3    4    5    6     7    8    9\n",
      "row_0                                                      \n",
      "0      978     0     3     1    0    1    7     0    5    1\n",
      "1        0  1131     1     0    0    0    1     2    1    0\n",
      "2        0     1  1022     0    3    1    0     7    1    1\n",
      "3        1     1     1  1005    0    5    1     3    2    4\n",
      "4        0     0     0     0  955    0    1     0    0    2\n",
      "5        0     0     0     2    0  883    2     1    0    6\n",
      "6        0     1     0     0    4    1  944     0    1    0\n",
      "7        0     0     5     1    2    0    0  1013    2    3\n",
      "8        1     1     0     1    6    1    2     1  959    4\n",
      "9        0     0     0     0   12    0    0     1    3  988\n"
     ]
    }
   ],
   "source": [
    "Y_hat=km.model_prediction_summary(model_2,X_test,Y_test,1)"
   ]
  },
  {
   "cell_type": "code",
   "execution_count": 54,
   "metadata": {
    "colab": {
     "base_uri": "https://localhost:8080/",
     "height": 511
    },
    "colab_type": "code",
    "executionInfo": {
     "elapsed": 7966,
     "status": "ok",
     "timestamp": 1570383283842,
     "user": {
      "displayName": "Krzysztof Pudlowski",
      "photoUrl": "https://lh3.googleusercontent.com/a-/AAuE7mC1QWMBY5SXU0FK8N6XPUuzVPmMShzQmP_j58uL=s64",
      "userId": "02699812246950609304"
     },
     "user_tz": -120
    },
    "id": "8BDBPo2wA2Yd",
    "outputId": "df29c6e8-3f35-4305-9660-4388b47adbb7"
   },
   "outputs": [
    {
     "name": "stdout",
     "output_type": "stream",
     "text": [
      "All items count:  10000\n",
      "Wrong items count:  122\n",
      "Accuracy:  0.9878\n"
     ]
    },
    {
     "data": {
      "image/png": "[encoded data removed]",
      "text/plain": [
       "<Figure size 864x864 with 122 Axes>"
      ]
     },
     "metadata": {
      "needs_background": "light"
     },
     "output_type": "display_data"
    }
   ],
   "source": [
    "km.plot_wrong_images(X_test,Y_test,Y_hat,size=12)"
   ]
  },
  {
   "cell_type": "code",
   "execution_count": 55,
   "metadata": {
    "colab": {
     "base_uri": "https://localhost:8080/",
     "height": 35
    },
    "colab_type": "code",
    "executionInfo": {
     "elapsed": 1395,
     "status": "ok",
     "timestamp": 1570383288175,
     "user": {
      "displayName": "Krzysztof Pudlowski",
      "photoUrl": "https://lh3.googleusercontent.com/a-/AAuE7mC1QWMBY5SXU0FK8N6XPUuzVPmMShzQmP_j58uL=s64",
      "userId": "02699812246950609304"
     },
     "user_tz": -120
    },
    "id": "oVLgC8vrTj1R",
    "outputId": "2e7f0152-807c-480b-db21-2454f61111c6"
   },
   "outputs": [
    {
     "name": "stdout",
     "output_type": "stream",
     "text": [
      "10000/10000 [==============================] - 6s 607us/step\n"
     ]
    }
   ],
   "source": [
    "Y_hat = model_2.predict_classes(X_test,verbose=1)"
   ]
  },
  {
   "cell_type": "code",
   "execution_count": null,
   "metadata": {
    "colab": {
     "base_uri": "https://localhost:8080/",
     "height": 53
    },
    "colab_type": "code",
    "executionInfo": {
     "elapsed": 674,
     "status": "ok",
     "timestamp": 1570383291299,
     "user": {
      "displayName": "Krzysztof Pudlowski",
      "photoUrl": "https://lh3.googleusercontent.com/a-/AAuE7mC1QWMBY5SXU0FK8N6XPUuzVPmMShzQmP_j58uL=s64",
      "userId": "02699812246950609304"
     },
     "user_tz": -120
    },
    "id": "auUP0WWbTj1V",
    "outputId": "26a7415e-b547-47a4-b3e1-4b7d550f5679"
   },
   "outputs": [],
   "source": [
    "print(\"X_test.shape: \" ,Y_test.shape)\n",
    "print(\"Y_hat.shape: \" ,Y_hat.shape)"
   ]
  },
  {
   "cell_type": "code",
   "execution_count": 56,
   "metadata": {
    "colab": {
     "base_uri": "https://localhost:8080/",
     "height": 394
    },
    "colab_type": "code",
    "executionInfo": {
     "elapsed": 521,
     "status": "ok",
     "timestamp": 1570383293714,
     "user": {
      "displayName": "Krzysztof Pudlowski",
      "photoUrl": "https://lh3.googleusercontent.com/a-/AAuE7mC1QWMBY5SXU0FK8N6XPUuzVPmMShzQmP_j58uL=s64",
      "userId": "02699812246950609304"
     },
     "user_tz": -120
    },
    "id": "nGAwMgJxTj1Y",
    "outputId": "adea50cb-2261-4fce-d356-32590ce85db2"
   },
   "outputs": [
    {
     "data": {
      "text/html": [
       "<div>\n",
       "<style scoped>\n",
       "    .dataframe tbody tr th:only-of-type {\n",
       "        vertical-align: middle;\n",
       "    }\n",
       "\n",
       "    .dataframe tbody tr th {\n",
       "        vertical-align: top;\n",
       "    }\n",
       "\n",
       "    .dataframe thead th {\n",
       "        text-align: right;\n",
       "    }\n",
       "</style>\n",
       "<table border=\"1\" class=\"dataframe\">\n",
       "  <thead>\n",
       "    <tr style=\"text-align: right;\">\n",
       "      <th>col_0</th>\n",
       "      <th>0</th>\n",
       "      <th>1</th>\n",
       "      <th>2</th>\n",
       "      <th>3</th>\n",
       "      <th>4</th>\n",
       "      <th>5</th>\n",
       "      <th>6</th>\n",
       "      <th>7</th>\n",
       "      <th>8</th>\n",
       "      <th>9</th>\n",
       "    </tr>\n",
       "    <tr>\n",
       "      <th>row_0</th>\n",
       "      <th></th>\n",
       "      <th></th>\n",
       "      <th></th>\n",
       "      <th></th>\n",
       "      <th></th>\n",
       "      <th></th>\n",
       "      <th></th>\n",
       "      <th></th>\n",
       "      <th></th>\n",
       "      <th></th>\n",
       "    </tr>\n",
       "  </thead>\n",
       "  <tbody>\n",
       "    <tr>\n",
       "      <td>0</td>\n",
       "      <td>978</td>\n",
       "      <td>0</td>\n",
       "      <td>3</td>\n",
       "      <td>1</td>\n",
       "      <td>0</td>\n",
       "      <td>1</td>\n",
       "      <td>7</td>\n",
       "      <td>0</td>\n",
       "      <td>5</td>\n",
       "      <td>1</td>\n",
       "    </tr>\n",
       "    <tr>\n",
       "      <td>1</td>\n",
       "      <td>0</td>\n",
       "      <td>1131</td>\n",
       "      <td>1</td>\n",
       "      <td>0</td>\n",
       "      <td>0</td>\n",
       "      <td>0</td>\n",
       "      <td>1</td>\n",
       "      <td>2</td>\n",
       "      <td>1</td>\n",
       "      <td>0</td>\n",
       "    </tr>\n",
       "    <tr>\n",
       "      <td>2</td>\n",
       "      <td>0</td>\n",
       "      <td>1</td>\n",
       "      <td>1022</td>\n",
       "      <td>0</td>\n",
       "      <td>3</td>\n",
       "      <td>1</td>\n",
       "      <td>0</td>\n",
       "      <td>7</td>\n",
       "      <td>1</td>\n",
       "      <td>1</td>\n",
       "    </tr>\n",
       "    <tr>\n",
       "      <td>3</td>\n",
       "      <td>1</td>\n",
       "      <td>1</td>\n",
       "      <td>1</td>\n",
       "      <td>1005</td>\n",
       "      <td>0</td>\n",
       "      <td>5</td>\n",
       "      <td>1</td>\n",
       "      <td>3</td>\n",
       "      <td>2</td>\n",
       "      <td>4</td>\n",
       "    </tr>\n",
       "    <tr>\n",
       "      <td>4</td>\n",
       "      <td>0</td>\n",
       "      <td>0</td>\n",
       "      <td>0</td>\n",
       "      <td>0</td>\n",
       "      <td>955</td>\n",
       "      <td>0</td>\n",
       "      <td>1</td>\n",
       "      <td>0</td>\n",
       "      <td>0</td>\n",
       "      <td>2</td>\n",
       "    </tr>\n",
       "    <tr>\n",
       "      <td>5</td>\n",
       "      <td>0</td>\n",
       "      <td>0</td>\n",
       "      <td>0</td>\n",
       "      <td>2</td>\n",
       "      <td>0</td>\n",
       "      <td>883</td>\n",
       "      <td>2</td>\n",
       "      <td>1</td>\n",
       "      <td>0</td>\n",
       "      <td>6</td>\n",
       "    </tr>\n",
       "    <tr>\n",
       "      <td>6</td>\n",
       "      <td>0</td>\n",
       "      <td>1</td>\n",
       "      <td>0</td>\n",
       "      <td>0</td>\n",
       "      <td>4</td>\n",
       "      <td>1</td>\n",
       "      <td>944</td>\n",
       "      <td>0</td>\n",
       "      <td>1</td>\n",
       "      <td>0</td>\n",
       "    </tr>\n",
       "    <tr>\n",
       "      <td>7</td>\n",
       "      <td>0</td>\n",
       "      <td>0</td>\n",
       "      <td>5</td>\n",
       "      <td>1</td>\n",
       "      <td>2</td>\n",
       "      <td>0</td>\n",
       "      <td>0</td>\n",
       "      <td>1013</td>\n",
       "      <td>2</td>\n",
       "      <td>3</td>\n",
       "    </tr>\n",
       "    <tr>\n",
       "      <td>8</td>\n",
       "      <td>1</td>\n",
       "      <td>1</td>\n",
       "      <td>0</td>\n",
       "      <td>1</td>\n",
       "      <td>6</td>\n",
       "      <td>1</td>\n",
       "      <td>2</td>\n",
       "      <td>1</td>\n",
       "      <td>959</td>\n",
       "      <td>4</td>\n",
       "    </tr>\n",
       "    <tr>\n",
       "      <td>9</td>\n",
       "      <td>0</td>\n",
       "      <td>0</td>\n",
       "      <td>0</td>\n",
       "      <td>0</td>\n",
       "      <td>12</td>\n",
       "      <td>0</td>\n",
       "      <td>0</td>\n",
       "      <td>1</td>\n",
       "      <td>3</td>\n",
       "      <td>988</td>\n",
       "    </tr>\n",
       "  </tbody>\n",
       "</table>\n",
       "</div>"
      ],
      "text/plain": [
       "col_0    0     1     2     3    4    5    6     7    8    9\n",
       "row_0                                                      \n",
       "0      978     0     3     1    0    1    7     0    5    1\n",
       "1        0  1131     1     0    0    0    1     2    1    0\n",
       "2        0     1  1022     0    3    1    0     7    1    1\n",
       "3        1     1     1  1005    0    5    1     3    2    4\n",
       "4        0     0     0     0  955    0    1     0    0    2\n",
       "5        0     0     0     2    0  883    2     1    0    6\n",
       "6        0     1     0     0    4    1  944     0    1    0\n",
       "7        0     0     5     1    2    0    0  1013    2    3\n",
       "8        1     1     0     1    6    1    2     1  959    4\n",
       "9        0     0     0     0   12    0    0     1    3  988"
      ]
     },
     "execution_count": 56,
     "metadata": {},
     "output_type": "execute_result"
    }
   ],
   "source": [
    "pd.crosstab(Y_hat, np.argmax(Y_test, axis=-1))"
   ]
  },
  {
   "cell_type": "code",
   "execution_count": 57,
   "metadata": {
    "colab": {
     "base_uri": "https://localhost:8080/",
     "height": 53
    },
    "colab_type": "code",
    "executionInfo": {
     "elapsed": 513,
     "status": "ok",
     "timestamp": 1570383305519,
     "user": {
      "displayName": "Krzysztof Pudlowski",
      "photoUrl": "https://lh3.googleusercontent.com/a-/AAuE7mC1QWMBY5SXU0FK8N6XPUuzVPmMShzQmP_j58uL=s64",
      "userId": "02699812246950609304"
     },
     "user_tz": -120
    },
    "id": "9UF-8NE9Tj1f",
    "outputId": "2fa0ea1e-9ad4-4ed4-faef-19e3f352947d"
   },
   "outputs": [
    {
     "name": "stdout",
     "output_type": "stream",
     "text": [
      "Saved model to disk\n",
      "Model json to:  model_2.json  weights to:  model_2.h5\n"
     ]
    }
   ],
   "source": [
    "km.model_save(model_2,'model_2.json','model_2.h5')"
   ]
  },
  {
   "cell_type": "markdown",
   "metadata": {
    "colab_type": "text",
    "id": "YWclEkdyTj1k"
   },
   "source": [
    "## 3 Model with more convolution layers and dropout"
   ]
  },
  {
   "cell_type": "code",
   "execution_count": null,
   "metadata": {
    "colab": {},
    "colab_type": "code",
    "id": "u8BRZELvTj1n"
   },
   "outputs": [],
   "source": [
    "#based on https://medium.com/@mjbhobe/mnist-digits-classification-with-keras-ed6c2374bd0e"
   ]
  },
  {
   "cell_type": "code",
   "execution_count": 58,
   "metadata": {
    "colab": {},
    "colab_type": "code",
    "id": "kPDxbphcTj1w"
   },
   "outputs": [],
   "source": [
    "model_3=km.third_model()"
   ]
  },
  {
   "cell_type": "code",
   "execution_count": 59,
   "metadata": {
    "colab": {
     "base_uri": "https://localhost:8080/",
     "height": 526
    },
    "colab_type": "code",
    "executionInfo": {
     "elapsed": 7117,
     "status": "ok",
     "timestamp": 1570383375359,
     "user": {
      "displayName": "Krzysztof Pudlowski",
      "photoUrl": "https://lh3.googleusercontent.com/a-/AAuE7mC1QWMBY5SXU0FK8N6XPUuzVPmMShzQmP_j58uL=s64",
      "userId": "02699812246950609304"
     },
     "user_tz": -120
    },
    "id": "oWuo8TOHTj13",
    "outputId": "d1403c4c-4bd1-4e1e-f7c8-5217b52ec3a0"
   },
   "outputs": [
    {
     "name": "stdout",
     "output_type": "stream",
     "text": [
      "Model: \"sequential_3\"\n",
      "_________________________________________________________________\n",
      "Layer (type)                 Output Shape              Param #   \n",
      "=================================================================\n",
      "conv2d_4 (Conv2D)            (None, 28, 28, 32)        320       \n",
      "_________________________________________________________________\n",
      "max_pooling2d_3 (MaxPooling2 (None, 14, 14, 32)        0         \n",
      "_________________________________________________________________\n",
      "conv2d_5 (Conv2D)            (None, 14, 14, 64)        18496     \n",
      "_________________________________________________________________\n",
      "max_pooling2d_4 (MaxPooling2 (None, 7, 7, 64)          0         \n",
      "_________________________________________________________________\n",
      "conv2d_6 (Conv2D)            (None, 7, 7, 64)          36928     \n",
      "_________________________________________________________________\n",
      "max_pooling2d_5 (MaxPooling2 (None, 3, 3, 64)          0         \n",
      "_________________________________________________________________\n",
      "flatten_3 (Flatten)          (None, 576)               0         \n",
      "_________________________________________________________________\n",
      "dropout_2 (Dropout)          (None, 576)               0         \n",
      "_________________________________________________________________\n",
      "dense_3 (Dense)              (None, 128)               73856     \n",
      "_________________________________________________________________\n",
      "dense_4 (Dense)              (None, 10)                1290      \n",
      "=================================================================\n",
      "Total params: 130,890\n",
      "Trainable params: 130,890\n",
      "Non-trainable params: 0\n",
      "_________________________________________________________________\n"
     ]
    }
   ],
   "source": [
    "model_3.summary()"
   ]
  },
  {
   "cell_type": "code",
   "execution_count": 60,
   "metadata": {
    "colab": {},
    "colab_type": "code",
    "id": "zlbXVyfQTj16"
   },
   "outputs": [],
   "source": [
    "km.display_model(model_3,'model_3.png')"
   ]
  },
  {
   "cell_type": "code",
   "execution_count": 61,
   "metadata": {
    "colab": {},
    "colab_type": "code",
    "id": "9u7YsTL2ejnX"
   },
   "outputs": [],
   "source": [
    "km.compile_model(model_3)"
   ]
  },
  {
   "cell_type": "code",
   "execution_count": 62,
   "metadata": {
    "colab": {
     "base_uri": "https://localhost:8080/",
     "height": 1000
    },
    "colab_type": "code",
    "executionInfo": {
     "elapsed": 494757,
     "status": "ok",
     "timestamp": 1570383863038,
     "user": {
      "displayName": "Krzysztof Pudlowski",
      "photoUrl": "https://lh3.googleusercontent.com/a-/AAuE7mC1QWMBY5SXU0FK8N6XPUuzVPmMShzQmP_j58uL=s64",
      "userId": "02699812246950609304"
     },
     "user_tz": -120
    },
    "id": "g_sFPZd4Tj18",
    "outputId": "74a5466d-37ed-4cd6-db06-67f4f328486f"
   },
   "outputs": [
    {
     "name": "stdout",
     "output_type": "stream",
     "text": [
      "Train on 54000 samples, validate on 6000 samples\n",
      "Epoch 1/15\n",
      "54000/54000 [==============================] - 89s 2ms/step - loss: 0.1883 - acc: 0.9397 - mean_absolute_error: 0.0181 - val_loss: 0.0482 - val_acc: 0.9868 - val_mean_absolute_error: 0.0042\n",
      "Epoch 2/15\n",
      "54000/54000 [==============================] - 85s 2ms/step - loss: 0.0653 - acc: 0.9791 - mean_absolute_error: 0.0064 - val_loss: 0.0432 - val_acc: 0.9872 - val_mean_absolute_error: 0.0043\n",
      "Epoch 3/15\n",
      "54000/54000 [==============================] - 84s 2ms/step - loss: 0.0494 - acc: 0.9845 - mean_absolute_error: 0.0047 - val_loss: 0.0412 - val_acc: 0.9893 - val_mean_absolute_error: 0.0031\n",
      "Epoch 4/15\n",
      "54000/54000 [==============================] - 86s 2ms/step - loss: 0.0405 - acc: 0.9870 - mean_absolute_error: 0.0038 - val_loss: 0.0356 - val_acc: 0.9912 - val_mean_absolute_error: 0.0024\n",
      "Epoch 5/15\n",
      "54000/54000 [==============================] - 85s 2ms/step - loss: 0.0348 - acc: 0.9887 - mean_absolute_error: 0.0033 - val_loss: 0.0372 - val_acc: 0.9908 - val_mean_absolute_error: 0.0028\n",
      "Epoch 6/15\n",
      "54000/54000 [==============================] - 85s 2ms/step - loss: 0.0302 - acc: 0.9909 - mean_absolute_error: 0.0029 - val_loss: 0.0343 - val_acc: 0.9915 - val_mean_absolute_error: 0.0023\n",
      "Epoch 7/15\n",
      "54000/54000 [==============================] - 86s 2ms/step - loss: 0.0269 - acc: 0.9916 - mean_absolute_error: 0.0025 - val_loss: 0.0296 - val_acc: 0.9917 - val_mean_absolute_error: 0.0021\n",
      "Epoch 8/15\n",
      "54000/54000 [==============================] - 85s 2ms/step - loss: 0.0253 - acc: 0.9919 - mean_absolute_error: 0.0023 - val_loss: 0.0311 - val_acc: 0.9907 - val_mean_absolute_error: 0.0024\n",
      "Epoch 9/15\n",
      "54000/54000 [==============================] - 85s 2ms/step - loss: 0.0217 - acc: 0.9931 - mean_absolute_error: 0.0021 - val_loss: 0.0353 - val_acc: 0.9910 - val_mean_absolute_error: 0.0021\n",
      "Epoch 10/15\n",
      "54000/54000 [==============================] - 84s 2ms/step - loss: 0.0207 - acc: 0.9934 - mean_absolute_error: 0.0019 - val_loss: 0.0339 - val_acc: 0.9907 - val_mean_absolute_error: 0.0022\n",
      "Epoch 11/15\n",
      "54000/54000 [==============================] - 86s 2ms/step - loss: 0.0190 - acc: 0.9937 - mean_absolute_error: 0.0018 - val_loss: 0.0274 - val_acc: 0.9930 - val_mean_absolute_error: 0.0019\n",
      "Epoch 12/15\n",
      "54000/54000 [==============================] - 87s 2ms/step - loss: 0.0188 - acc: 0.9939 - mean_absolute_error: 0.0017 - val_loss: 0.0337 - val_acc: 0.9910 - val_mean_absolute_error: 0.0021\n",
      "Epoch 13/15\n",
      "54000/54000 [==============================] - 84s 2ms/step - loss: 0.0156 - acc: 0.9953 - mean_absolute_error: 0.0014 - val_loss: 0.0323 - val_acc: 0.9918 - val_mean_absolute_error: 0.0019\n",
      "Epoch 14/15\n",
      "54000/54000 [==============================] - 84s 2ms/step - loss: 0.0151 - acc: 0.9953 - mean_absolute_error: 0.0014 - val_loss: 0.0384 - val_acc: 0.9923 - val_mean_absolute_error: 0.0018\n",
      "Epoch 15/15\n",
      "54000/54000 [==============================] - 87s 2ms/step - loss: 0.0147 - acc: 0.9950 - mean_absolute_error: 0.0013 - val_loss: 0.0326 - val_acc: 0.9930 - val_mean_absolute_error: 0.0016\n",
      "CPU times: user 13min 28s, sys: 3min 36s, total: 17min 5s\n",
      "Wall time: 21min 24s\n"
     ]
    }
   ],
   "source": [
    "%%time\n",
    "EPOCHS=15\n",
    "callbacks=[]\n",
    "model_3_history=km.fit_model(model_3,X_train, Y_train,X_validate, Y_validate,batch_size=32, epochs=EPOCHS,verbose=1,callbacks=callbacks)"
   ]
  },
  {
   "cell_type": "code",
   "execution_count": 63,
   "metadata": {
    "colab": {
     "base_uri": "https://localhost:8080/",
     "height": 108
    },
    "colab_type": "code",
    "executionInfo": {
     "elapsed": 495526,
     "status": "ok",
     "timestamp": 1570383863838,
     "user": {
      "displayName": "Krzysztof Pudlowski",
      "photoUrl": "https://lh3.googleusercontent.com/a-/AAuE7mC1QWMBY5SXU0FK8N6XPUuzVPmMShzQmP_j58uL=s64",
      "userId": "02699812246950609304"
     },
     "user_tz": -120
    },
    "id": "Tt8pCbzZTj1_",
    "outputId": "9df32a4e-4672-46a7-a3a1-09a1a3b6e1c0"
   },
   "outputs": [
    {
     "name": "stdout",
     "output_type": "stream",
     "text": [
      "10000/10000 [==============================] - 7s 688us/step\n",
      "[0.022532340547882224, 0.9948, 0.0012245446863899557]\n",
      "loss: 0.02253234%\n",
      "acc: 0.99480000%\n",
      "['loss', 'acc', 'mean_absolute_error']\n"
     ]
    }
   ],
   "source": [
    "scores_3=km.model_evaluate(model_3,X_test, Y_test,verbose=1)"
   ]
  },
  {
   "cell_type": "code",
   "execution_count": 64,
   "metadata": {
    "colab": {
     "base_uri": "https://localhost:8080/",
     "height": 871
    },
    "colab_type": "code",
    "executionInfo": {
     "elapsed": 496515,
     "status": "ok",
     "timestamp": 1570383864854,
     "user": {
      "displayName": "Krzysztof Pudlowski",
      "photoUrl": "https://lh3.googleusercontent.com/a-/AAuE7mC1QWMBY5SXU0FK8N6XPUuzVPmMShzQmP_j58uL=s64",
      "userId": "02699812246950609304"
     },
     "user_tz": -120
    },
    "id": "0st-bimQMnLG",
    "outputId": "3c789880-d97a-4c5d-f710-7e6331f4c901"
   },
   "outputs": [
    {
     "data": {
      "image/png": "[encoded data removed]",
      "text/plain": [
       "<Figure size 504x504 with 1 Axes>"
      ]
     },
     "metadata": {
      "needs_background": "light"
     },
     "output_type": "display_data"
    },
    {
     "data": {
      "image/png": "[encoded data removed]",
      "text/plain": [
       "<Figure size 504x504 with 1 Axes>"
      ]
     },
     "metadata": {
      "needs_background": "light"
     },
     "output_type": "display_data"
    }
   ],
   "source": [
    "km.plot_model_history(model_3_history,7)"
   ]
  },
  {
   "cell_type": "code",
   "execution_count": 65,
   "metadata": {
    "colab": {
     "base_uri": "https://localhost:8080/",
     "height": 308
    },
    "colab_type": "code",
    "executionInfo": {
     "elapsed": 497090,
     "status": "ok",
     "timestamp": 1570383865456,
     "user": {
      "displayName": "Krzysztof Pudlowski",
      "photoUrl": "https://lh3.googleusercontent.com/a-/AAuE7mC1QWMBY5SXU0FK8N6XPUuzVPmMShzQmP_j58uL=s64",
      "userId": "02699812246950609304"
     },
     "user_tz": -120
    },
    "id": "0000dFhETj2G",
    "outputId": "8181af3f-f891-40f8-c1e3-9657811fbdf2"
   },
   "outputs": [
    {
     "name": "stdout",
     "output_type": "stream",
     "text": [
      "10000/10000 [==============================] - 7s 674us/step\n",
      "Input shape:  (10000, 28, 28, 1)\n",
      "Label shape:  (10000, 10)\n",
      "Predicted Label shape:  (10000,)\n",
      "col_0    0     1     2     3    4    5    6     7    8    9\n",
      "row_0                                                      \n",
      "0      977     0     0     0    0    0    2     0    0    0\n",
      "1        0  1133     1     0    0    0    2     2    0    0\n",
      "2        0     0  1026     0    0    0    0     3    1    0\n",
      "3        0     1     1  1009    0    3    0     0    1    0\n",
      "4        0     0     0     0  979    0    3     0    0    5\n",
      "5        0     0     0     1    0  888    1     0    1    1\n",
      "6        2     0     0     0    0    1  948     0    0    0\n",
      "7        1     1     4     0    0    0    0  1021    0    3\n",
      "8        0     0     0     0    0    0    2     1  968    1\n",
      "9        0     0     0     0    3    0    0     1    3  999\n"
     ]
    }
   ],
   "source": [
    "Y_hat=km.model_prediction_summary(model_3,X_test,Y_test,1)"
   ]
  },
  {
   "cell_type": "code",
   "execution_count": 66,
   "metadata": {
    "colab": {
     "base_uri": "https://localhost:8080/",
     "height": 395
    },
    "colab_type": "code",
    "executionInfo": {
     "elapsed": 501889,
     "status": "ok",
     "timestamp": 1570383870285,
     "user": {
      "displayName": "Krzysztof Pudlowski",
      "photoUrl": "https://lh3.googleusercontent.com/a-/AAuE7mC1QWMBY5SXU0FK8N6XPUuzVPmMShzQmP_j58uL=s64",
      "userId": "02699812246950609304"
     },
     "user_tz": -120
    },
    "id": "A6oeuc1Uvqxm",
    "outputId": "f7fc59fc-a223-4abe-b2a7-9aa3e604c9fd"
   },
   "outputs": [
    {
     "name": "stdout",
     "output_type": "stream",
     "text": [
      "All items count:  10000\n",
      "Wrong items count:  52\n",
      "Accuracy:  0.9948\n"
     ]
    },
    {
     "data": {
      "image/png": "[encoded data removed]",
      "text/plain": [
       "<Figure size 864x864 with 52 Axes>"
      ]
     },
     "metadata": {
      "needs_background": "light"
     },
     "output_type": "display_data"
    }
   ],
   "source": [
    "km.plot_wrong_images(X_test,Y_test,Y_hat,size=12)"
   ]
  },
  {
   "cell_type": "code",
   "execution_count": 67,
   "metadata": {
    "colab": {
     "base_uri": "https://localhost:8080/",
     "height": 394
    },
    "colab_type": "code",
    "executionInfo": {
     "elapsed": 501859,
     "status": "ok",
     "timestamp": 1570383870288,
     "user": {
      "displayName": "Krzysztof Pudlowski",
      "photoUrl": "https://lh3.googleusercontent.com/a-/AAuE7mC1QWMBY5SXU0FK8N6XPUuzVPmMShzQmP_j58uL=s64",
      "userId": "02699812246950609304"
     },
     "user_tz": -120
    },
    "id": "O59Hkt0STj2M",
    "outputId": "d35dc6ae-8d8a-4b3c-b639-6a9413bd2463"
   },
   "outputs": [
    {
     "data": {
      "text/html": [
       "<div>\n",
       "<style scoped>\n",
       "    .dataframe tbody tr th:only-of-type {\n",
       "        vertical-align: middle;\n",
       "    }\n",
       "\n",
       "    .dataframe tbody tr th {\n",
       "        vertical-align: top;\n",
       "    }\n",
       "\n",
       "    .dataframe thead th {\n",
       "        text-align: right;\n",
       "    }\n",
       "</style>\n",
       "<table border=\"1\" class=\"dataframe\">\n",
       "  <thead>\n",
       "    <tr style=\"text-align: right;\">\n",
       "      <th>col_0</th>\n",
       "      <th>0</th>\n",
       "      <th>1</th>\n",
       "      <th>2</th>\n",
       "      <th>3</th>\n",
       "      <th>4</th>\n",
       "      <th>5</th>\n",
       "      <th>6</th>\n",
       "      <th>7</th>\n",
       "      <th>8</th>\n",
       "      <th>9</th>\n",
       "    </tr>\n",
       "    <tr>\n",
       "      <th>row_0</th>\n",
       "      <th></th>\n",
       "      <th></th>\n",
       "      <th></th>\n",
       "      <th></th>\n",
       "      <th></th>\n",
       "      <th></th>\n",
       "      <th></th>\n",
       "      <th></th>\n",
       "      <th></th>\n",
       "      <th></th>\n",
       "    </tr>\n",
       "  </thead>\n",
       "  <tbody>\n",
       "    <tr>\n",
       "      <td>0</td>\n",
       "      <td>977</td>\n",
       "      <td>0</td>\n",
       "      <td>0</td>\n",
       "      <td>0</td>\n",
       "      <td>0</td>\n",
       "      <td>0</td>\n",
       "      <td>2</td>\n",
       "      <td>0</td>\n",
       "      <td>0</td>\n",
       "      <td>0</td>\n",
       "    </tr>\n",
       "    <tr>\n",
       "      <td>1</td>\n",
       "      <td>0</td>\n",
       "      <td>1133</td>\n",
       "      <td>1</td>\n",
       "      <td>0</td>\n",
       "      <td>0</td>\n",
       "      <td>0</td>\n",
       "      <td>2</td>\n",
       "      <td>2</td>\n",
       "      <td>0</td>\n",
       "      <td>0</td>\n",
       "    </tr>\n",
       "    <tr>\n",
       "      <td>2</td>\n",
       "      <td>0</td>\n",
       "      <td>0</td>\n",
       "      <td>1026</td>\n",
       "      <td>0</td>\n",
       "      <td>0</td>\n",
       "      <td>0</td>\n",
       "      <td>0</td>\n",
       "      <td>3</td>\n",
       "      <td>1</td>\n",
       "      <td>0</td>\n",
       "    </tr>\n",
       "    <tr>\n",
       "      <td>3</td>\n",
       "      <td>0</td>\n",
       "      <td>1</td>\n",
       "      <td>1</td>\n",
       "      <td>1009</td>\n",
       "      <td>0</td>\n",
       "      <td>3</td>\n",
       "      <td>0</td>\n",
       "      <td>0</td>\n",
       "      <td>1</td>\n",
       "      <td>0</td>\n",
       "    </tr>\n",
       "    <tr>\n",
       "      <td>4</td>\n",
       "      <td>0</td>\n",
       "      <td>0</td>\n",
       "      <td>0</td>\n",
       "      <td>0</td>\n",
       "      <td>979</td>\n",
       "      <td>0</td>\n",
       "      <td>3</td>\n",
       "      <td>0</td>\n",
       "      <td>0</td>\n",
       "      <td>5</td>\n",
       "    </tr>\n",
       "    <tr>\n",
       "      <td>5</td>\n",
       "      <td>0</td>\n",
       "      <td>0</td>\n",
       "      <td>0</td>\n",
       "      <td>1</td>\n",
       "      <td>0</td>\n",
       "      <td>888</td>\n",
       "      <td>1</td>\n",
       "      <td>0</td>\n",
       "      <td>1</td>\n",
       "      <td>1</td>\n",
       "    </tr>\n",
       "    <tr>\n",
       "      <td>6</td>\n",
       "      <td>2</td>\n",
       "      <td>0</td>\n",
       "      <td>0</td>\n",
       "      <td>0</td>\n",
       "      <td>0</td>\n",
       "      <td>1</td>\n",
       "      <td>948</td>\n",
       "      <td>0</td>\n",
       "      <td>0</td>\n",
       "      <td>0</td>\n",
       "    </tr>\n",
       "    <tr>\n",
       "      <td>7</td>\n",
       "      <td>1</td>\n",
       "      <td>1</td>\n",
       "      <td>4</td>\n",
       "      <td>0</td>\n",
       "      <td>0</td>\n",
       "      <td>0</td>\n",
       "      <td>0</td>\n",
       "      <td>1021</td>\n",
       "      <td>0</td>\n",
       "      <td>3</td>\n",
       "    </tr>\n",
       "    <tr>\n",
       "      <td>8</td>\n",
       "      <td>0</td>\n",
       "      <td>0</td>\n",
       "      <td>0</td>\n",
       "      <td>0</td>\n",
       "      <td>0</td>\n",
       "      <td>0</td>\n",
       "      <td>2</td>\n",
       "      <td>1</td>\n",
       "      <td>968</td>\n",
       "      <td>1</td>\n",
       "    </tr>\n",
       "    <tr>\n",
       "      <td>9</td>\n",
       "      <td>0</td>\n",
       "      <td>0</td>\n",
       "      <td>0</td>\n",
       "      <td>0</td>\n",
       "      <td>3</td>\n",
       "      <td>0</td>\n",
       "      <td>0</td>\n",
       "      <td>1</td>\n",
       "      <td>3</td>\n",
       "      <td>999</td>\n",
       "    </tr>\n",
       "  </tbody>\n",
       "</table>\n",
       "</div>"
      ],
      "text/plain": [
       "col_0    0     1     2     3    4    5    6     7    8    9\n",
       "row_0                                                      \n",
       "0      977     0     0     0    0    0    2     0    0    0\n",
       "1        0  1133     1     0    0    0    2     2    0    0\n",
       "2        0     0  1026     0    0    0    0     3    1    0\n",
       "3        0     1     1  1009    0    3    0     0    1    0\n",
       "4        0     0     0     0  979    0    3     0    0    5\n",
       "5        0     0     0     1    0  888    1     0    1    1\n",
       "6        2     0     0     0    0    1  948     0    0    0\n",
       "7        1     1     4     0    0    0    0  1021    0    3\n",
       "8        0     0     0     0    0    0    2     1  968    1\n",
       "9        0     0     0     0    3    0    0     1    3  999"
      ]
     },
     "execution_count": 67,
     "metadata": {},
     "output_type": "execute_result"
    }
   ],
   "source": [
    "pd.crosstab(Y_hat, np.argmax(Y_test, axis=-1))"
   ]
  },
  {
   "cell_type": "code",
   "execution_count": 68,
   "metadata": {
    "colab": {
     "base_uri": "https://localhost:8080/",
     "height": 585
    },
    "colab_type": "code",
    "executionInfo": {
     "elapsed": 503549,
     "status": "ok",
     "timestamp": 1570383872004,
     "user": {
      "displayName": "Krzysztof Pudlowski",
      "photoUrl": "https://lh3.googleusercontent.com/a-/AAuE7mC1QWMBY5SXU0FK8N6XPUuzVPmMShzQmP_j58uL=s64",
      "userId": "02699812246950609304"
     },
     "user_tz": -120
    },
    "id": "UQcHu5GdvfRr",
    "outputId": "26aab0c8-3b30-4a67-8b44-9ad8ff7dbeda"
   },
   "outputs": [],
   "source": [
    "#from sklearn.metrics import confusion_matrix\n",
    "#import seaborn as sns\n",
    "import itertools \n",
    "# Predict the values from the validation dataset\n",
    "#Y_pred = model_3.predict(X_test)\n",
    "# Convert predictions classes to one hot vectors \n",
    "#Y_pred_classes = np.argmax(Y_pred,axis = 1) \n",
    "# Convert validation observations to one hot vectors\n",
    "#Y_true = np.argmax(Y_test,axis = 1) \n",
    "# compute the confusion matrix\n",
    "#confusion_mtx = confusion_matrix(Y_true, Y_pred_classes) \n",
    "# plot the confusion matrix\n",
    "#plot_confusion_matrix(confusion_mtx, classes = range(10)) "
   ]
  },
  {
   "cell_type": "code",
   "execution_count": 69,
   "metadata": {
    "colab": {
     "base_uri": "https://localhost:8080/",
     "height": 53
    },
    "colab_type": "code",
    "executionInfo": {
     "elapsed": 503524,
     "status": "ok",
     "timestamp": 1570383872005,
     "user": {
      "displayName": "Krzysztof Pudlowski",
      "photoUrl": "https://lh3.googleusercontent.com/a-/AAuE7mC1QWMBY5SXU0FK8N6XPUuzVPmMShzQmP_j58uL=s64",
      "userId": "02699812246950609304"
     },
     "user_tz": -120
    },
    "id": "pAXxUnHj5lkX",
    "outputId": "a69d18fe-0868-46b2-c195-9c3063fef616"
   },
   "outputs": [
    {
     "name": "stdout",
     "output_type": "stream",
     "text": [
      "Saved model to disk\n",
      "Model json to:  model_3.json  weights to:  model_3.h5\n"
     ]
    }
   ],
   "source": [
    "km.model_save(model_3,'model_3.json','model_3.h5')"
   ]
  },
  {
   "cell_type": "markdown",
   "metadata": {
    "colab_type": "text",
    "id": "ero96WqITj2R"
   },
   "source": [
    "## 4 Model with more convolution layers, dropout and batch normalization"
   ]
  },
  {
   "cell_type": "code",
   "execution_count": 70,
   "metadata": {
    "colab": {
     "base_uri": "https://localhost:8080/",
     "height": 73
    },
    "colab_type": "code",
    "executionInfo": {
     "elapsed": 504538,
     "status": "ok",
     "timestamp": 1570383873050,
     "user": {
      "displayName": "Krzysztof Pudlowski",
      "photoUrl": "https://lh3.googleusercontent.com/a-/AAuE7mC1QWMBY5SXU0FK8N6XPUuzVPmMShzQmP_j58uL=s64",
      "userId": "02699812246950609304"
     },
     "user_tz": -120
    },
    "id": "tqdIKgw3Tj2U",
    "outputId": "4a0862b0-3b97-4e2a-a38b-05ecc1232d6d"
   },
   "outputs": [],
   "source": [
    "model_4=km.fourth_model(width=28,height=28,num_classes=10,verbose=0)"
   ]
  },
  {
   "cell_type": "code",
   "execution_count": 71,
   "metadata": {
    "colab": {
     "base_uri": "https://localhost:8080/",
     "height": 853
    },
    "colab_type": "code",
    "executionInfo": {
     "elapsed": 504507,
     "status": "ok",
     "timestamp": 1570383873055,
     "user": {
      "displayName": "Krzysztof Pudlowski",
      "photoUrl": "https://lh3.googleusercontent.com/a-/AAuE7mC1QWMBY5SXU0FK8N6XPUuzVPmMShzQmP_j58uL=s64",
      "userId": "02699812246950609304"
     },
     "user_tz": -120
    },
    "id": "ynDFaxInTj2a",
    "outputId": "e01d2c1d-0f70-4311-bd8f-1227f60b7b4e"
   },
   "outputs": [
    {
     "name": "stdout",
     "output_type": "stream",
     "text": [
      "Model: \"sequential_4\"\n",
      "_________________________________________________________________\n",
      "Layer (type)                 Output Shape              Param #   \n",
      "=================================================================\n",
      "conv2d_7 (Conv2D)            (None, 26, 26, 32)        320       \n",
      "_________________________________________________________________\n",
      "batch_normalization_1 (Batch (None, 26, 26, 32)        128       \n",
      "_________________________________________________________________\n",
      "conv2d_8 (Conv2D)            (None, 24, 24, 32)        9248      \n",
      "_________________________________________________________________\n",
      "batch_normalization_2 (Batch (None, 24, 24, 32)        128       \n",
      "_________________________________________________________________\n",
      "conv2d_9 (Conv2D)            (None, 12, 12, 32)        25632     \n",
      "_________________________________________________________________\n",
      "batch_normalization_3 (Batch (None, 12, 12, 32)        128       \n",
      "_________________________________________________________________\n",
      "dropout_3 (Dropout)          (None, 12, 12, 32)        0         \n",
      "_________________________________________________________________\n",
      "conv2d_10 (Conv2D)           (None, 10, 10, 64)        18496     \n",
      "_________________________________________________________________\n",
      "batch_normalization_4 (Batch (None, 10, 10, 64)        256       \n",
      "_________________________________________________________________\n",
      "conv2d_11 (Conv2D)           (None, 8, 8, 64)          36928     \n",
      "_________________________________________________________________\n",
      "batch_normalization_5 (Batch (None, 8, 8, 64)          256       \n",
      "_________________________________________________________________\n",
      "conv2d_12 (Conv2D)           (None, 4, 4, 64)          102464    \n",
      "_________________________________________________________________\n",
      "batch_normalization_6 (Batch (None, 4, 4, 64)          256       \n",
      "_________________________________________________________________\n",
      "dropout_4 (Dropout)          (None, 4, 4, 64)          0         \n",
      "_________________________________________________________________\n",
      "conv2d_13 (Conv2D)           (None, 1, 1, 128)         131200    \n",
      "_________________________________________________________________\n",
      "batch_normalization_7 (Batch (None, 1, 1, 128)         512       \n",
      "_________________________________________________________________\n",
      "flatten_4 (Flatten)          (None, 128)               0         \n",
      "_________________________________________________________________\n",
      "dropout_5 (Dropout)          (None, 128)               0         \n",
      "_________________________________________________________________\n",
      "dense_5 (Dense)              (None, 10)                1290      \n",
      "=================================================================\n",
      "Total params: 327,242\n",
      "Trainable params: 326,410\n",
      "Non-trainable params: 832\n",
      "_________________________________________________________________\n"
     ]
    }
   ],
   "source": [
    "model_4.summary()"
   ]
  },
  {
   "cell_type": "code",
   "execution_count": 72,
   "metadata": {
    "colab": {},
    "colab_type": "code",
    "id": "r1kqJuQbwFwv"
   },
   "outputs": [],
   "source": [
    "km.display_model(model_4,'model_4.png')"
   ]
  },
  {
   "cell_type": "code",
   "execution_count": 74,
   "metadata": {
    "colab": {},
    "colab_type": "code",
    "id": "a3H0SjipwJsO"
   },
   "outputs": [],
   "source": [
    "km.compile_model(model_4)"
   ]
  },
  {
   "cell_type": "code",
   "execution_count": 79,
   "metadata": {
    "colab": {
     "base_uri": "https://localhost:8080/",
     "height": 53
    },
    "colab_type": "code",
    "executionInfo": {
     "elapsed": 1546259,
     "status": "ok",
     "timestamp": 1569179572429,
     "user": {
      "displayName": "Krzysztof Pudlowski",
      "photoUrl": "https://lh3.googleusercontent.com/a-/AAuE7mC1QWMBY5SXU0FK8N6XPUuzVPmMShzQmP_j58uL=s64",
      "userId": "02699812246950609304"
     },
     "user_tz": -120
    },
    "id": "omWznXGQTj2p",
    "outputId": "cf7b30f2-da5f-4d4b-ee38-96d3172d4904"
   },
   "outputs": [
    {
     "name": "stdout",
     "output_type": "stream",
     "text": [
      "Train on 54000 samples, validate on 6000 samples\n",
      "Epoch 1/15\n",
      "54000/54000 [==============================] - 150s 3ms/step - loss: 0.1838 - acc: 0.9449 - mean_absolute_error: 0.0166 - val_loss: 0.0493 - val_acc: 0.9862 - val_mean_absolute_error: 0.0043\n",
      "Epoch 2/15\n",
      "54000/54000 [==============================] - 143s 3ms/step - loss: 0.0695 - acc: 0.9790 - mean_absolute_error: 0.0066 - val_loss: 0.0410 - val_acc: 0.9873 - val_mean_absolute_error: 0.0034\n",
      "Epoch 3/15\n",
      "54000/54000 [==============================] - 142s 3ms/step - loss: 0.0609 - acc: 0.9813 - mean_absolute_error: 0.0056 - val_loss: 0.0320 - val_acc: 0.9897 - val_mean_absolute_error: 0.0028\n",
      "Epoch 4/15\n",
      "54000/54000 [==============================] - 142s 3ms/step - loss: 0.0477 - acc: 0.9851 - mean_absolute_error: 0.0045 - val_loss: 0.0413 - val_acc: 0.9885 - val_mean_absolute_error: 0.0032\n",
      "Epoch 5/15\n",
      "54000/54000 [==============================] - 143s 3ms/step - loss: 0.0453 - acc: 0.9863 - mean_absolute_error: 0.0041 - val_loss: 0.0379 - val_acc: 0.9898 - val_mean_absolute_error: 0.0031\n",
      "Epoch 6/15\n",
      "54000/54000 [==============================] - 144s 3ms/step - loss: 0.0396 - acc: 0.9879 - mean_absolute_error: 0.0036 - val_loss: 0.0397 - val_acc: 0.9877 - val_mean_absolute_error: 0.0029\n",
      "Epoch 7/15\n",
      "54000/54000 [==============================] - 144s 3ms/step - loss: 0.0350 - acc: 0.9896 - mean_absolute_error: 0.0032 - val_loss: 0.0252 - val_acc: 0.9927 - val_mean_absolute_error: 0.0019\n",
      "Epoch 8/15\n",
      "54000/54000 [==============================] - 143s 3ms/step - loss: 0.0303 - acc: 0.9908 - mean_absolute_error: 0.0029 - val_loss: 0.0221 - val_acc: 0.9927 - val_mean_absolute_error: 0.0018\n",
      "Epoch 9/15\n",
      "54000/54000 [==============================] - 143s 3ms/step - loss: 0.0301 - acc: 0.9910 - mean_absolute_error: 0.0027 - val_loss: 0.0253 - val_acc: 0.9937 - val_mean_absolute_error: 0.0019\n",
      "Epoch 10/15\n",
      "54000/54000 [==============================] - 143s 3ms/step - loss: 0.0269 - acc: 0.9916 - mean_absolute_error: 0.0025 - val_loss: 0.0281 - val_acc: 0.9933 - val_mean_absolute_error: 0.0017\n",
      "Epoch 11/15\n",
      "54000/54000 [==============================] - 142s 3ms/step - loss: 0.0242 - acc: 0.9925 - mean_absolute_error: 0.0022 - val_loss: 0.0279 - val_acc: 0.9912 - val_mean_absolute_error: 0.0021\n",
      "Epoch 12/15\n",
      "54000/54000 [==============================] - 143s 3ms/step - loss: 0.0236 - acc: 0.9927 - mean_absolute_error: 0.0021 - val_loss: 0.0264 - val_acc: 0.9925 - val_mean_absolute_error: 0.0018\n",
      "Epoch 13/15\n",
      "54000/54000 [==============================] - 143s 3ms/step - loss: 0.0208 - acc: 0.9935 - mean_absolute_error: 0.0020 - val_loss: 0.0239 - val_acc: 0.9927 - val_mean_absolute_error: 0.0017\n",
      "Epoch 14/15\n",
      "54000/54000 [==============================] - 142s 3ms/step - loss: 0.0189 - acc: 0.9939 - mean_absolute_error: 0.0018 - val_loss: 0.0257 - val_acc: 0.9930 - val_mean_absolute_error: 0.0017\n",
      "Epoch 15/15\n",
      "54000/54000 [==============================] - 142s 3ms/step - loss: 0.0186 - acc: 0.9944 - mean_absolute_error: 0.0017 - val_loss: 0.0246 - val_acc: 0.9932 - val_mean_absolute_error: 0.0016\n",
      "CPU times: user 29min 36s, sys: 8min 20s, total: 37min 56s\n",
      "Wall time: 35min 56s\n"
     ]
    }
   ],
   "source": [
    "%%time\n",
    "EPOCHS=15\n",
    "callbacks=[]\n",
    "model_4_history=km.fit_model(model_4,X_train, Y_train,X_validate, Y_validate,batch_size=32, epochs=EPOCHS,verbose=1,callbacks=callbacks)"
   ]
  },
  {
   "cell_type": "code",
   "execution_count": 80,
   "metadata": {
    "colab": {},
    "colab_type": "code",
    "id": "BK-LNJiUwbi8"
   },
   "outputs": [
    {
     "name": "stdout",
     "output_type": "stream",
     "text": [
      "10000/10000 [==============================] - 8s 798us/step\n",
      "[0.019189756344958005, 0.9943, 0.0014098087864267655]\n",
      "loss: 0.01918976%\n",
      "acc: 0.99430000%\n",
      "['loss', 'acc', 'mean_absolute_error']\n"
     ]
    }
   ],
   "source": [
    "scores_4=km.model_evaluate(model_4,X_test, Y_test,verbose=1)"
   ]
  },
  {
   "cell_type": "code",
   "execution_count": 81,
   "metadata": {
    "colab": {},
    "colab_type": "code",
    "id": "hR98AfzbMqiL"
   },
   "outputs": [
    {
     "data": {
      "image/png": "[encoded data removed]",
      "text/plain": [
       "<Figure size 504x504 with 1 Axes>"
      ]
     },
     "metadata": {
      "needs_background": "light"
     },
     "output_type": "display_data"
    },
    {
     "data": {
      "image/png": "[encoded data removed]",
      "text/plain": [
       "<Figure size 504x504 with 1 Axes>"
      ]
     },
     "metadata": {
      "needs_background": "light"
     },
     "output_type": "display_data"
    }
   ],
   "source": [
    "km.plot_model_history(model_4_history,7)"
   ]
  },
  {
   "cell_type": "code",
   "execution_count": 82,
   "metadata": {
    "colab": {},
    "colab_type": "code",
    "id": "VStqPeLTTj2r"
   },
   "outputs": [
    {
     "name": "stdout",
     "output_type": "stream",
     "text": [
      "10000/10000 [==============================] - 8s 765us/step\n",
      "Input shape:  (10000, 28, 28, 1)\n",
      "Label shape:  (10000, 10)\n",
      "Predicted Label shape:  (10000,)\n",
      "col_0    0     1     2     3    4    5    6     7    8    9\n",
      "row_0                                                      \n",
      "0      977     0     0     0    0    0    3     0    1    0\n",
      "1        1  1132     0     0    0    0    3     2    0    0\n",
      "2        0     0  1032     2    1    0    0     4    0    0\n",
      "3        0     2     0  1007    0   10    0     0    3    0\n",
      "4        0     0     0     0  977    0    1     0    0    4\n",
      "5        0     0     0     1    0  881    2     0    0    1\n",
      "6        1     0     0     0    0    1  949     0    0    0\n",
      "7        1     1     0     0    0    0    0  1021    0    3\n",
      "8        0     0     0     0    0    0    0     0  968    2\n",
      "9        0     0     0     0    4    0    0     1    2  999\n"
     ]
    }
   ],
   "source": [
    "Y_hat=km.model_prediction_summary(model_4,X_test,Y_test,1)"
   ]
  },
  {
   "cell_type": "code",
   "execution_count": 84,
   "metadata": {
    "colab": {},
    "colab_type": "code",
    "id": "XTb8QcpQyapS"
   },
   "outputs": [
    {
     "data": {
      "text/html": [
       "<div>\n",
       "<style scoped>\n",
       "    .dataframe tbody tr th:only-of-type {\n",
       "        vertical-align: middle;\n",
       "    }\n",
       "\n",
       "    .dataframe tbody tr th {\n",
       "        vertical-align: top;\n",
       "    }\n",
       "\n",
       "    .dataframe thead th {\n",
       "        text-align: right;\n",
       "    }\n",
       "</style>\n",
       "<table border=\"1\" class=\"dataframe\">\n",
       "  <thead>\n",
       "    <tr style=\"text-align: right;\">\n",
       "      <th>col_0</th>\n",
       "      <th>0</th>\n",
       "      <th>1</th>\n",
       "      <th>2</th>\n",
       "      <th>3</th>\n",
       "      <th>4</th>\n",
       "      <th>5</th>\n",
       "      <th>6</th>\n",
       "      <th>7</th>\n",
       "      <th>8</th>\n",
       "      <th>9</th>\n",
       "    </tr>\n",
       "    <tr>\n",
       "      <th>row_0</th>\n",
       "      <th></th>\n",
       "      <th></th>\n",
       "      <th></th>\n",
       "      <th></th>\n",
       "      <th></th>\n",
       "      <th></th>\n",
       "      <th></th>\n",
       "      <th></th>\n",
       "      <th></th>\n",
       "      <th></th>\n",
       "    </tr>\n",
       "  </thead>\n",
       "  <tbody>\n",
       "    <tr>\n",
       "      <td>0</td>\n",
       "      <td>977</td>\n",
       "      <td>0</td>\n",
       "      <td>0</td>\n",
       "      <td>0</td>\n",
       "      <td>0</td>\n",
       "      <td>0</td>\n",
       "      <td>3</td>\n",
       "      <td>0</td>\n",
       "      <td>1</td>\n",
       "      <td>0</td>\n",
       "    </tr>\n",
       "    <tr>\n",
       "      <td>1</td>\n",
       "      <td>1</td>\n",
       "      <td>1132</td>\n",
       "      <td>0</td>\n",
       "      <td>0</td>\n",
       "      <td>0</td>\n",
       "      <td>0</td>\n",
       "      <td>3</td>\n",
       "      <td>2</td>\n",
       "      <td>0</td>\n",
       "      <td>0</td>\n",
       "    </tr>\n",
       "    <tr>\n",
       "      <td>2</td>\n",
       "      <td>0</td>\n",
       "      <td>0</td>\n",
       "      <td>1032</td>\n",
       "      <td>2</td>\n",
       "      <td>1</td>\n",
       "      <td>0</td>\n",
       "      <td>0</td>\n",
       "      <td>4</td>\n",
       "      <td>0</td>\n",
       "      <td>0</td>\n",
       "    </tr>\n",
       "    <tr>\n",
       "      <td>3</td>\n",
       "      <td>0</td>\n",
       "      <td>2</td>\n",
       "      <td>0</td>\n",
       "      <td>1007</td>\n",
       "      <td>0</td>\n",
       "      <td>10</td>\n",
       "      <td>0</td>\n",
       "      <td>0</td>\n",
       "      <td>3</td>\n",
       "      <td>0</td>\n",
       "    </tr>\n",
       "    <tr>\n",
       "      <td>4</td>\n",
       "      <td>0</td>\n",
       "      <td>0</td>\n",
       "      <td>0</td>\n",
       "      <td>0</td>\n",
       "      <td>977</td>\n",
       "      <td>0</td>\n",
       "      <td>1</td>\n",
       "      <td>0</td>\n",
       "      <td>0</td>\n",
       "      <td>4</td>\n",
       "    </tr>\n",
       "    <tr>\n",
       "      <td>5</td>\n",
       "      <td>0</td>\n",
       "      <td>0</td>\n",
       "      <td>0</td>\n",
       "      <td>1</td>\n",
       "      <td>0</td>\n",
       "      <td>881</td>\n",
       "      <td>2</td>\n",
       "      <td>0</td>\n",
       "      <td>0</td>\n",
       "      <td>1</td>\n",
       "    </tr>\n",
       "    <tr>\n",
       "      <td>6</td>\n",
       "      <td>1</td>\n",
       "      <td>0</td>\n",
       "      <td>0</td>\n",
       "      <td>0</td>\n",
       "      <td>0</td>\n",
       "      <td>1</td>\n",
       "      <td>949</td>\n",
       "      <td>0</td>\n",
       "      <td>0</td>\n",
       "      <td>0</td>\n",
       "    </tr>\n",
       "    <tr>\n",
       "      <td>7</td>\n",
       "      <td>1</td>\n",
       "      <td>1</td>\n",
       "      <td>0</td>\n",
       "      <td>0</td>\n",
       "      <td>0</td>\n",
       "      <td>0</td>\n",
       "      <td>0</td>\n",
       "      <td>1021</td>\n",
       "      <td>0</td>\n",
       "      <td>3</td>\n",
       "    </tr>\n",
       "    <tr>\n",
       "      <td>8</td>\n",
       "      <td>0</td>\n",
       "      <td>0</td>\n",
       "      <td>0</td>\n",
       "      <td>0</td>\n",
       "      <td>0</td>\n",
       "      <td>0</td>\n",
       "      <td>0</td>\n",
       "      <td>0</td>\n",
       "      <td>968</td>\n",
       "      <td>2</td>\n",
       "    </tr>\n",
       "    <tr>\n",
       "      <td>9</td>\n",
       "      <td>0</td>\n",
       "      <td>0</td>\n",
       "      <td>0</td>\n",
       "      <td>0</td>\n",
       "      <td>4</td>\n",
       "      <td>0</td>\n",
       "      <td>0</td>\n",
       "      <td>1</td>\n",
       "      <td>2</td>\n",
       "      <td>999</td>\n",
       "    </tr>\n",
       "  </tbody>\n",
       "</table>\n",
       "</div>"
      ],
      "text/plain": [
       "col_0    0     1     2     3    4    5    6     7    8    9\n",
       "row_0                                                      \n",
       "0      977     0     0     0    0    0    3     0    1    0\n",
       "1        1  1132     0     0    0    0    3     2    0    0\n",
       "2        0     0  1032     2    1    0    0     4    0    0\n",
       "3        0     2     0  1007    0   10    0     0    3    0\n",
       "4        0     0     0     0  977    0    1     0    0    4\n",
       "5        0     0     0     1    0  881    2     0    0    1\n",
       "6        1     0     0     0    0    1  949     0    0    0\n",
       "7        1     1     0     0    0    0    0  1021    0    3\n",
       "8        0     0     0     0    0    0    0     0  968    2\n",
       "9        0     0     0     0    4    0    0     1    2  999"
      ]
     },
     "execution_count": 84,
     "metadata": {},
     "output_type": "execute_result"
    }
   ],
   "source": [
    "pd.crosstab(Y_hat, np.argmax(Y_test, axis=-1))"
   ]
  },
  {
   "cell_type": "code",
   "execution_count": 85,
   "metadata": {
    "colab": {},
    "colab_type": "code",
    "id": "L12lU9hayMmi"
   },
   "outputs": [
    {
     "name": "stdout",
     "output_type": "stream",
     "text": [
      "All items count:  10000\n",
      "Wrong items count:  57\n",
      "Accuracy:  0.9943\n"
     ]
    },
    {
     "data": {
      "image/png": "[encoded data removed]",
      "text/plain": [
       "<Figure size 864x864 with 57 Axes>"
      ]
     },
     "metadata": {
      "needs_background": "light"
     },
     "output_type": "display_data"
    }
   ],
   "source": [
    "km.plot_wrong_images(X_test,Y_test,Y_hat,size=12)"
   ]
  },
  {
   "cell_type": "code",
   "execution_count": 86,
   "metadata": {
    "colab": {},
    "colab_type": "code",
    "id": "ghBea_fJwwvb"
   },
   "outputs": [
    {
     "name": "stdout",
     "output_type": "stream",
     "text": [
      "Saved model to disk\n",
      "Model json to:  model_4.json  weights to:  model_4.h5\n"
     ]
    }
   ],
   "source": [
    "km.model_save(model_4,'model_4.json','model_4.h5')"
   ]
  },
  {
   "cell_type": "code",
   "execution_count": null,
   "metadata": {},
   "outputs": [],
   "source": [
    "# let us break \n",
    "1/0"
   ]
  },
  {
   "cell_type": "markdown",
   "metadata": {
    "colab_type": "text",
    "id": "UCuTmmOXxMta"
   },
   "source": [
    "## 4.5 Saving model schema and model weights on Google Drive (optional)"
   ]
  },
  {
   "cell_type": "code",
   "execution_count": null,
   "metadata": {
    "colab": {},
    "colab_type": "code",
    "id": "u5UxutnMxlh1"
   },
   "outputs": [],
   "source": [
    "from google.colab import drive\n",
    "drive.mount('/gdrive')"
   ]
  },
  {
   "cell_type": "code",
   "execution_count": null,
   "metadata": {
    "colab": {},
    "colab_type": "code",
    "id": "4IBxlcmmxler"
   },
   "outputs": [],
   "source": [
    "save_url= '/gdrive/My Drive/Colab Notebooks/mnist/'\n",
    "\n",
    "!ls -la '/gdrive/My Drive/Colab Notebooks/mnist/'"
   ]
  },
  {
   "cell_type": "code",
   "execution_count": null,
   "metadata": {
    "colab": {},
    "colab_type": "code",
    "id": "HiFVUPcQy66N"
   },
   "outputs": [],
   "source": [
    "!ls -la model*.*"
   ]
  },
  {
   "cell_type": "code",
   "execution_count": null,
   "metadata": {
    "colab": {},
    "colab_type": "code",
    "id": "pazFZr-PxgHE"
   },
   "outputs": [],
   "source": [
    "import os\n",
    "os.system(\"cp model*.* '/gdrive/My Drive/Colab Notebooks/mnist/' \")"
   ]
  },
  {
   "cell_type": "code",
   "execution_count": null,
   "metadata": {
    "colab": {},
    "colab_type": "code",
    "id": "rZ1oee3X0Y9A"
   },
   "outputs": [],
   "source": [
    "!ls -la '/gdrive/My Drive/Colab Notebooks/mnist/' "
   ]
  },
  {
   "cell_type": "code",
   "execution_count": null,
   "metadata": {
    "colab": {},
    "colab_type": "code",
    "id": "AZ0caHEs4lyB"
   },
   "outputs": [],
   "source": [
    "# break\n",
    "1/0"
   ]
  },
  {
   "cell_type": "markdown",
   "metadata": {},
   "source": [
    " ## 5. Transfer learning model"
   ]
  },
  {
   "cell_type": "code",
   "execution_count": null,
   "metadata": {},
   "outputs": [],
   "source": []
  },
  {
   "cell_type": "markdown",
   "metadata": {
    "colab_type": "text",
    "id": "A0l7NuVrTj24"
   },
   "source": [
    "## 5 Using data augumentation"
   ]
  },
  {
   "cell_type": "code",
   "execution_count": null,
   "metadata": {
    "colab": {},
    "colab_type": "code",
    "id": "cLsQ5HXeTj25"
   },
   "outputs": [],
   "source": [
    "datagen = ImageDataGenerator(\n",
    "        featurewise_center=False,  # set input mean to 0 over the dataset\n",
    "        samplewise_center=False,  # set each sample mean to 0\n",
    "        featurewise_std_normalization=False,  # divide inputs by std of the dataset\n",
    "        samplewise_std_normalization=False,  # divide each input by its std\n",
    "        zca_whitening=False,  # apply ZCA whitening\n",
    "        rotation_range=10,  # randomly rotate images in the range (degrees, 0 to 180)\n",
    "        zoom_range = 0.1, # Randomly zoom image \n",
    "        width_shift_range=0.1,  # randomly shift images horizontally (fraction of total width)\n",
    "        height_shift_range=0.1,  # randomly shift images vertically (fraction of total height)\n",
    "        horizontal_flip=False,  # randomly flip images\n",
    "        vertical_flip=False)  # randomly flip images"
   ]
  },
  {
   "cell_type": "code",
   "execution_count": null,
   "metadata": {
    "colab": {},
    "colab_type": "code",
    "id": "1XqSWnQaTj27"
   },
   "outputs": [],
   "source": [
    "datagen.fit(X_train)"
   ]
  },
  {
   "cell_type": "code",
   "execution_count": null,
   "metadata": {
    "colab": {},
    "colab_type": "code",
    "id": "wpvFQF4ZTj28"
   },
   "outputs": [],
   "source": [
    "epochs=5\n",
    "learning_rate_reduction = ReduceLROnPlateau(monitor='val_acc', \n",
    "                                            patience=3, \n",
    "                                            verbose=1, \n",
    "                                            factor=0.5, \n",
    "                                            min_lr=0.00001)\n"
   ]
  },
  {
   "cell_type": "code",
   "execution_count": null,
   "metadata": {
    "colab": {},
    "colab_type": "code",
    "id": "xwdMrLdh5THt"
   },
   "outputs": [],
   "source": [
    "# copyying model_4 to model_5 \n",
    "\n",
    "model_5=copy.copy(model_4)\n",
    "model_5.set_weights(model_4.get_weights())"
   ]
  },
  {
   "cell_type": "code",
   "execution_count": null,
   "metadata": {
    "colab": {},
    "colab_type": "code",
    "id": "rnfd27uk6Uw2"
   },
   "outputs": [],
   "source": [
    "model_5.summary()"
   ]
  },
  {
   "cell_type": "code",
   "execution_count": null,
   "metadata": {
    "colab": {},
    "colab_type": "code",
    "id": "o7CGGh426vCH"
   },
   "outputs": [],
   "source": [
    "km.compile_model(model_5)"
   ]
  },
  {
   "cell_type": "code",
   "execution_count": null,
   "metadata": {
    "colab": {},
    "colab_type": "code",
    "id": "L-o8FGOXTj29"
   },
   "outputs": [],
   "source": [
    "epochs=1\n",
    "model_5_history = model_5.fit_generator(datagen.flow(X_train,Y_train, batch_size=32),\n",
    "                              epochs = epochs, validation_data = (X_validate, Y_validate),\n",
    "                              verbose = 1, steps_per_epoch=X_train.shape[0] # batch_size\n",
    "                              , callbacks=[learning_rate_reduction])"
   ]
  },
  {
   "cell_type": "code",
   "execution_count": null,
   "metadata": {
    "colab": {},
    "colab_type": "code",
    "id": "SxQgaspwTj3A"
   },
   "outputs": [],
   "source": [
    "scores_5=km.model_evaluate(model_5,X_test, Y_test,verbose=1)"
   ]
  },
  {
   "cell_type": "code",
   "execution_count": null,
   "metadata": {
    "colab": {},
    "colab_type": "code",
    "id": "wzLPxudXxuZI"
   },
   "outputs": [],
   "source": [
    "km.plot_model_history(model_5_history,7)"
   ]
  },
  {
   "cell_type": "code",
   "execution_count": null,
   "metadata": {
    "colab": {},
    "colab_type": "code",
    "id": "VEV7ebzD5BbN"
   },
   "outputs": [],
   "source": [
    "Y_hat=km.model_prediction_summary(model_5,X_test,Y_test,1)"
   ]
  },
  {
   "cell_type": "code",
   "execution_count": null,
   "metadata": {
    "colab": {},
    "colab_type": "code",
    "id": "qYYzDQQW5BYA"
   },
   "outputs": [],
   "source": [
    "pd.crosstab(Y_hat, np.argmax(Y_test, axis=-1))"
   ]
  },
  {
   "cell_type": "code",
   "execution_count": null,
   "metadata": {
    "colab": {},
    "colab_type": "code",
    "id": "JSW-cCO-Tj3I"
   },
   "outputs": [],
   "source": [
    "km.plot_wrong_images(X_test,Y_test,Y_hat,size=12)"
   ]
  },
  {
   "cell_type": "code",
   "execution_count": null,
   "metadata": {
    "colab": {},
    "colab_type": "code",
    "id": "vefhRif_x8cF"
   },
   "outputs": [],
   "source": [
    "#from sklearn.metrics import confusion_matrix\n",
    "#import seaborn as sns\n",
    "#import itertools \n",
    "# Predict the values from the validation dataset\n",
    "#Y_pred = model_5.predict(X_test)\n",
    "# Convert predictions classes to one hot vectors \n",
    "#Y_pred_classes = np.argmax(Y_pred,axis = 1) \n",
    "# Convert validation observations to one hot vectors\n",
    "#Y_true = np.argmax(Y_test,axis = 1) \n",
    "# compute the confusion matrix\n",
    "#confusion_mtx = confusion_matrix(Y_true, Y_pred_classes) \n",
    "# plot the confusion matrix\n",
    "#plot_confusion_matrix(confusion_mtx, classes = range(10)) "
   ]
  },
  {
   "cell_type": "code",
   "execution_count": null,
   "metadata": {
    "colab": {},
    "colab_type": "code",
    "id": "SUxQZEggC-72"
   },
   "outputs": [],
   "source": [
    "model_save(model_5,'model_5.json','model_5.h5')"
   ]
  },
  {
   "cell_type": "code",
   "execution_count": null,
   "metadata": {
    "colab": {},
    "colab_type": "code",
    "id": "lJcyWzxnC-4w"
   },
   "outputs": [],
   "source": [
    "# end of script"
   ]
  },
  {
   "cell_type": "code",
   "execution_count": null,
   "metadata": {
    "colab": {},
    "colab_type": "code",
    "id": "LCZRekTuTj3O"
   },
   "outputs": [],
   "source": [
    "# force runtime error \n",
    "1/0"
   ]
  },
  {
   "cell_type": "markdown",
   "metadata": {
    "colab_type": "text",
    "id": "1ffc7zmZTj3Z"
   },
   "source": [
    "### II. Double convolution\n",
    "\n",
    "Putting two layers of convolution immediately after one another tends to produce very predictive models. Here, we also follow the convolution layers by a dense hidden layer. Note that training this model takes **significantly** longer than the dense models to run. As such, I ran only the first 1000 samples. Using all of them should yield a classification rate near 99.5% on the entire test set."
   ]
  },
  {
   "cell_type": "code",
   "execution_count": null,
   "metadata": {
    "colab": {},
    "colab_type": "code",
    "id": "T-MR7NEeTj3b"
   },
   "outputs": [],
   "source": [
    "### first old model \n",
    "#model = Sequential()\n",
    "\n",
    "#model.add(Convolution2D(32, 3, 3, border_mode='same', input_shape = (1, 28, 28)))\n",
    "#model.add(Activation(\"relu\"))\n",
    "#model.add(MaxPooling2D(pool_size=(2, 2)))\n",
    "#model.add(Dropout(0.25))\n",
    "\n",
    "#model.add(Flatten())\n",
    "#model.add(Dense(10))\n",
    "#model.add(Activation('softmax'))    \n",
    "\n",
    "#### second old model \n",
    "\n",
    "#model = Sequential()\n",
    "\n",
    "#model.add(Convolution2D(32, 3, 3, border_mode='same', input_shape = (1, 28, 28)))\n",
    "#model.add(Activation(\"relu\"))\n",
    "#model.add(Convolution2D(32, 3, 3, border_mode='same'))\n",
    "#model.add(Activation(\"relu\"))\n",
    "#model.add(MaxPooling2D(pool_size=(2, 2)))\n",
    "#model.add(Dropout(0.25))\n",
    "\n",
    "#model.add(Flatten())\n",
    "#model.add(Dense(128))\n",
    "#model.add(Activation(\"relu\"))\n",
    "#model.add(Dropout(0.5))\n",
    "#model.add(Dense(10))\n",
    "#model.add(Activation('softmax'))\n"
   ]
  },
  {
   "cell_type": "code",
   "execution_count": null,
   "metadata": {
    "colab": {},
    "colab_type": "code",
    "id": "D4WXmJt0Tj3d"
   },
   "outputs": [],
   "source": [
    "from keras.models import Sequential\n",
    "from keras.layers import Conv2D, MaxPooling2D\n",
    "\n",
    "model = Sequential()\n",
    "model.add(Conv2D(32, (3, 3), activation='relu',\n",
    "          input_shape=(28, 28,1)))\n",
    "print(model.output_shape)\n",
    "\n",
    "model.add(Conv2D(32, (3, 3), activation='relu'))\n",
    "print(model.output_shape)\n",
    "\n",
    "model.add(MaxPooling2D(pool_size=(2, 2)))\n",
    "print(model.output_shape)\n",
    "\n",
    "from keras.layers import Dropout\n",
    "model.add(Dropout(0.25))\n",
    "print(model.output_shape)\n",
    "\n",
    "from keras.layers import Flatten\n",
    "model.add(Flatten())\n",
    "print(model.output_shape)\n",
    "\n",
    "model.add(Dense(128, activation='relu'))\n",
    "print(model.output_shape)\n",
    "\n",
    "model.add(Dropout(0.5))\n",
    "print(model.output_shape)\n",
    "model.add(Dense(10, activation='softmax'))\n",
    "print(model.output_shape)"
   ]
  },
  {
   "cell_type": "code",
   "execution_count": null,
   "metadata": {
    "colab": {},
    "colab_type": "code",
    "id": "WxgYBR6DTj3e"
   },
   "outputs": [],
   "source": [
    "rms = RMSprop()"
   ]
  },
  {
   "cell_type": "code",
   "execution_count": null,
   "metadata": {
    "colab": {},
    "colab_type": "code",
    "id": "dDfiKRpBTj3g"
   },
   "outputs": [],
   "source": [
    "model.compile(loss='categorical_crossentropy', optimizer=rms)"
   ]
  },
  {
   "cell_type": "code",
   "execution_count": null,
   "metadata": {
    "colab": {},
    "colab_type": "code",
    "id": "uCKJEgysTj3i"
   },
   "outputs": [],
   "source": [
    "model.summary()"
   ]
  },
  {
   "cell_type": "code",
   "execution_count": null,
   "metadata": {
    "colab": {},
    "colab_type": "code",
    "id": "lrc1rqVHTj3j"
   },
   "outputs": [],
   "source": [
    "model_history=model.fit(X_train, Y_train, batch_size=32, epochs=10,\n",
    "          verbose=1, validation_split=0.2)"
   ]
  },
  {
   "cell_type": "code",
   "execution_count": null,
   "metadata": {
    "colab": {},
    "colab_type": "code",
    "id": "_53MCghnTj3m"
   },
   "outputs": [],
   "source": [
    "#print(\"Test classification rate %0.05f\" % model.evaluate(X_test, Y_test, show_accuracy=True)[1])\n",
    "model.evaluate(X_test, Y_test)\n",
    "y_hat = model.predict_classes(X_test)\n",
    "pd.crosstab(y_hat, y_test)"
   ]
  },
  {
   "cell_type": "code",
   "execution_count": null,
   "metadata": {
    "colab": {},
    "colab_type": "code",
    "id": "OrR3qWhMTj3n"
   },
   "outputs": [],
   "source": [
    "test_wrong = [im for im in zip(X_test,y_hat,y_test) if im[1] != im[2]]\n",
    "print(\"Wrong items count: \",len(test_wrong))\n",
    "plt.figure(figsize=(10, 10))\n",
    "for ind, val in enumerate(test_wrong[:100]):\n",
    "    plt.subplots_adjust(left=0, right=1, bottom=0, top=1)\n",
    "    plt.subplot(10, 10, ind + 1)\n",
    "    im = 1 - val[0].reshape((28,28))\n",
    "    plt.axis(\"off\")\n",
    "    plt.text(0, 0, val[2], fontsize=14, color='blue')\n",
    "    plt.text(8, 0, val[1], fontsize=14, color='red')\n",
    "    plt.imshow(im, cmap='gray')"
   ]
  },
  {
   "cell_type": "code",
   "execution_count": null,
   "metadata": {
    "colab": {},
    "colab_type": "code",
    "id": "HS82GgJMTj3p"
   },
   "outputs": [],
   "source": [
    "scores = model.evaluate(X_test, Y_test, verbose=1)\n",
    "#model.evaluate(X_test, Y_test)\n",
    "#print(\"%s: %.4f%%\" % (model.metrics_names[0], scores[0]))\n",
    "#print(\"%s: %.4f%%\" % (model.metrics_names[1], scores[1]))\n",
    "\n",
    "\n",
    "model.metrics_names[0]\n"
   ]
  },
  {
   "cell_type": "code",
   "execution_count": null,
   "metadata": {
    "colab": {},
    "colab_type": "code",
    "id": "POU8NG0OTj3t"
   },
   "outputs": [],
   "source": [
    "from keras.models import Sequential\n",
    "from keras.layers import Dense\n",
    "model_json = model.to_json()\n",
    "with open(\"model.json\", \"w\") as json_file:\n",
    "    json_file.write(model_json)\n",
    "# serialize weights to HDF5\n",
    "model.save_weights(\"model.h5\")\n",
    "print(\"Saved model to disk\")"
   ]
  },
  {
   "cell_type": "code",
   "execution_count": null,
   "metadata": {
    "colab": {},
    "colab_type": "code",
    "id": "aTcW4Ca3Tj3w"
   },
   "outputs": [],
   "source": [
    "from keras.models import model_from_json\n",
    "\n",
    "json_file = open('model.json', 'r')\n",
    "loaded_model_json = json_file.read()\n",
    "json_file.close()\n",
    "loaded_model = model_from_json(loaded_model_json)\n",
    "# load weights into new model\n",
    "loaded_model.load_weights(\"model.h5\")\n",
    "print(\"Loaded model from disk\")"
   ]
  },
  {
   "cell_type": "markdown",
   "metadata": {
    "colab_type": "text",
    "id": "8xrG36F1Tj3z"
   },
   "source": [
    "### III. Visualizing convolution weights\n",
    "Now, we want to visualize the convolution layers here."
   ]
  },
  {
   "cell_type": "code",
   "execution_count": null,
   "metadata": {
    "colab": {},
    "colab_type": "code",
    "id": "YFgmJuNBTj3z"
   },
   "outputs": [],
   "source": [
    "print(model_1.layers) # list of the layers\n",
    "print(model_1.layers[0].get_weights()[0].shape) # the weights"
   ]
  },
  {
   "cell_type": "markdown",
   "metadata": {
    "colab_type": "text",
    "id": "a9mOxXeDTj32"
   },
   "source": [
    "The first set of weights will be given as weights the same size as the input space."
   ]
  },
  {
   "cell_type": "code",
   "execution_count": null,
   "metadata": {
    "colab": {},
    "colab_type": "code",
    "id": "l7-ptT32Tj35"
   },
   "outputs": [],
   "source": [
    "W1 = model_1.layers[0].get_weights()[0]\n",
    "\n",
    "plt.figure(figsize=(10, 10), frameon=False)\n",
    "for ind, val in enumerate(W1):\n",
    "    plt.subplot(6, 6, ind + 1)\n",
    "    im = val.reshape((3,3))\n",
    "    plt.axis(\"off\")\n",
    "    plt.imshow(im, cmap='gray',interpolation='nearest')"
   ]
  },
  {
   "cell_type": "markdown",
   "metadata": {
    "colab_type": "text",
    "id": "OktVvYqWTj36"
   },
   "source": [
    "The second layer of weights will be given as a set of 32 weights with dimensions of 3x3x32."
   ]
  },
  {
   "cell_type": "code",
   "execution_count": null,
   "metadata": {
    "colab": {},
    "colab_type": "code",
    "id": "rTmwYWdhTj37"
   },
   "outputs": [],
   "source": [
    "W2 = model.layers[2].get_weights()[0]\n",
    "\n",
    "plt.figure(figsize=(10, 10), frameon=False)\n",
    "for ind, val in enumerate(W2):\n",
    "    plt.subplot(6, 6, ind + 1)\n",
    "    im = val.reshape((32,9))\n",
    "    plt.axis(\"off\")\n",
    "    plt.imshow(im, cmap='gray',interpolation='nearest')"
   ]
  },
  {
   "cell_type": "markdown",
   "metadata": {
    "colab_type": "text",
    "id": "K_CigcsKTj39"
   },
   "source": [
    "### IV. Activations of the neural network"
   ]
  },
  {
   "cell_type": "markdown",
   "metadata": {
    "colab_type": "text",
    "id": "yFuAMNgqTj39"
   },
   "source": [
    "Look at activations of several examples after the first layer:"
   ]
  },
  {
   "cell_type": "code",
   "execution_count": null,
   "metadata": {
    "colab": {},
    "colab_type": "code",
    "id": "rxInq6huTj3-"
   },
   "outputs": [],
   "source": [
    "model2 = copy.copy(model)\n",
    "model2.layers = model2.layers[:2]\n",
    "model2.compile(loss='categorical_crossentropy', optimizer=rms) # don't forget this step!\n",
    "\n",
    "these = random.choice(range(1000),3,replace=False)\n",
    "x_rep = model2.predict(X_test[these])\n",
    "\n",
    "for this_x_rep in x_rep:\n",
    "    plt.figure(figsize=(10, 10), frameon=False)\n",
    "    for ind, val in enumerate(this_x_rep):\n",
    "        plt.subplot(6, 6, ind + 1)\n",
    "        plt.axis(\"off\")\n",
    "        plt.imshow(val, cmap='gray',interpolation='nearest')"
   ]
  },
  {
   "cell_type": "markdown",
   "metadata": {
    "colab_type": "text",
    "id": "U_zTjW5BTj3_"
   },
   "source": [
    "Activations after the second layer:"
   ]
  },
  {
   "cell_type": "code",
   "execution_count": null,
   "metadata": {
    "colab": {},
    "colab_type": "code",
    "id": "E-ee30ECTj4A"
   },
   "outputs": [],
   "source": [
    "model2 = copy.copy(model)\n",
    "model2.layers = model2.layers[:4]\n",
    "model2.compile(loss='categorical_crossentropy', optimizer=rms) # don't forget this step!\n",
    "\n",
    "x_rep = model2.predict(X_test[these])\n",
    "\n",
    "for this_x_rep in x_rep:\n",
    "    plt.figure(figsize=(10, 10), frameon=False)\n",
    "    for ind, val in enumerate(this_x_rep):\n",
    "        plt.subplot(6, 6, ind + 1)\n",
    "        plt.axis(\"off\")\n",
    "        plt.imshow(val, cmap='gray',interpolation='nearest')"
   ]
  },
  {
   "cell_type": "markdown",
   "metadata": {
    "colab_type": "text",
    "id": "eJoxWlvtTj4B"
   },
   "source": [
    "Finally, activations after max pooling:"
   ]
  },
  {
   "cell_type": "code",
   "execution_count": null,
   "metadata": {
    "colab": {},
    "colab_type": "code",
    "id": "p66HgJEfTj4B"
   },
   "outputs": [],
   "source": [
    "model2 = copy.copy(model)\n",
    "model2.layers = model2.layers[:5]\n",
    "model2.compile(loss='categorical_crossentropy', optimizer=rms) # don't forget this step!\n",
    "\n",
    "x_rep = model2.predict(X_test[these])\n",
    "\n",
    "for this_x_rep in x_rep:\n",
    "    plt.figure(figsize=(10, 10), frameon=False)\n",
    "    for ind, val in enumerate(this_x_rep):\n",
    "        plt.subplot(6, 6, ind + 1)\n",
    "        plt.axis(\"off\")\n",
    "        plt.imshow(val, cmap='gray',interpolation='nearest')"
   ]
  },
  {
   "cell_type": "markdown",
   "metadata": {
    "colab_type": "text",
    "id": "qQWhIzuWTj4D"
   },
   "source": [
    "### V. Further tweaks: alternative optimizers and early stopping\n",
    "Just to show off a few more tweaks, we'll run a simple MLP model. Here we use weights and an alternative to vanillia stochastic gradient descent. "
   ]
  },
  {
   "cell_type": "code",
   "execution_count": null,
   "metadata": {
    "colab": {},
    "colab_type": "code",
    "id": "Z_EGtMLATj4D"
   },
   "outputs": [],
   "source": [
    "model = Sequential()\n",
    "\n",
    "model.add(Flatten(input_shape = (28, 28,1)))\n",
    "model.add(Dense(128, init=\"glorot_normal\"))\n",
    "model.add(Activation(\"relu\"))\n",
    "model.add(Dropout(0.5))\n",
    "\n",
    "model.add(Dense(10))\n",
    "model.add(Activation('softmax'))"
   ]
  },
  {
   "cell_type": "code",
   "execution_count": null,
   "metadata": {
    "colab": {},
    "colab_type": "code",
    "id": "YmBUTWYATj4G"
   },
   "outputs": [],
   "source": [
    "rms = RMSprop()\n",
    "model.compile(loss='categorical_crossentropy', optimizer=rms)\n",
    "\n",
    "model.fit(X_train, Y_train, batch_size=32, epochs=25,\n",
    "          verbose=1, validation_split=0.2,\n",
    "         callbacks=[EarlyStopping(monitor='val_loss', patience=0)])"
   ]
  },
  {
   "cell_type": "code",
   "execution_count": null,
   "metadata": {
    "colab": {},
    "colab_type": "code",
    "id": "HWMkJOJjTj4I"
   },
   "outputs": [],
   "source": [
    "model.evaluate(X_test, Y_test)\n",
    "y_hat = model.predict_classes(X_test)\n",
    "pd.crosstab(y_hat, y_test)"
   ]
  },
  {
   "cell_type": "code",
   "execution_count": null,
   "metadata": {
    "colab": {},
    "colab_type": "code",
    "id": "ZcJfbUR5Tj4J"
   },
   "outputs": [],
   "source": [
    "test_wrong = [im for im in zip(X_test,y_hat,y_test) if im[1] != im[2]]\n",
    "print(len(test_wrong))\n",
    "plt.figure(figsize=(10, 10))\n",
    "for ind, val in enumerate(test_wrong[:100]):\n",
    "    plt.subplots_adjust(left=0, right=1, bottom=0, top=1)\n",
    "    plt.subplot(10, 10, ind + 1)\n",
    "    im = 1 - val[0].reshape((28,28))\n",
    "    plt.axis(\"off\")\n",
    "    plt.text(0, 0, val[2], fontsize=14, color='blue')\n",
    "    plt.text(8, 0, val[1], fontsize=14, color='red')\n",
    "    plt.imshow(im, cmap='gray')"
   ]
  },
  {
   "cell_type": "code",
   "execution_count": null,
   "metadata": {
    "colab": {},
    "colab_type": "code",
    "id": "5B5VExZnugb8"
   },
   "outputs": [],
   "source": []
  }
 ],
 "metadata": {
  "accelerator": "GPU",
  "colab": {
   "collapsed_sections": [
    "1ffc7zmZTj3Z",
    "qQWhIzuWTj4D"
   ],
   "name": "Mnist_several_models_2019a.ipynb",
   "provenance": [
    {
     "file_id": "11mxFgOoYgWOMRBmjY7V_jL-Tatx_t4wH",
     "timestamp": 1568615677050
    }
   ],
   "toc_visible": true
  },
  "kernelspec": {
   "display_name": "keras",
   "language": "python",
   "name": "keras"
  },
  "language_info": {
   "codemirror_mode": {
    "name": "ipython",
    "version": 3
   },
   "file_extension": ".py",
   "mimetype": "text/x-python",
   "name": "python",
   "nbconvert_exporter": "python",
   "pygments_lexer": "ipython3",
   "version": "3.6.8"
  }
 },
 "nbformat": 4,
 "nbformat_minor": 4
}
