{
 "cells": [
  {
   "cell_type": "markdown",
   "metadata": {},
   "source": [
    "###  based on https://www.stefanfiott.com/machine-learning/cifar-10-classifier-using-cnn-in-pytorch/"
   ]
  },
  {
   "cell_type": "code",
   "execution_count": 1,
   "metadata": {},
   "outputs": [],
   "source": [
    "import torch\n",
    "import torchvision\n",
    "import torchvision.transforms as transforms"
   ]
  },
  {
   "cell_type": "code",
   "execution_count": 2,
   "metadata": {},
   "outputs": [
    {
     "name": "stdout",
     "output_type": "stream",
     "text": [
      "cuda:0\n"
     ]
    }
   ],
   "source": [
    "torch.set_default_tensor_type(torch.cuda.FloatTensor)\n",
    "device = torch.device(\"cuda:0\" if torch.cuda.is_available() else \"cpu\")\n",
    "print(device)"
   ]
  },
  {
   "cell_type": "code",
   "execution_count": 3,
   "metadata": {},
   "outputs": [
    {
     "name": "stdout",
     "output_type": "stream",
     "text": [
      "1.2.0a0+8554416\n",
      "CUDA available: True\n"
     ]
    }
   ],
   "source": [
    "print(torch.__version__)\n",
    "print('CUDA available: ' + str(torch.cuda.is_available()))"
   ]
  },
  {
   "cell_type": "code",
   "execution_count": 4,
   "metadata": {},
   "outputs": [
    {
     "name": "stdout",
     "output_type": "stream",
     "text": [
      "Files already downloaded and verified\n",
      "Files already downloaded and verified\n"
     ]
    }
   ],
   "source": [
    "transform = transforms.Compose(\n",
    "    [transforms.ToTensor(),\n",
    "     transforms.Normalize((0.5, 0.5, 0.5), (0.5, 0.5, 0.5))])\n",
    "\n",
    "trainset = torchvision.datasets.CIFAR10(root='./data/', \n",
    "                                        train=True,\n",
    "                                        download=True, \n",
    "                                        transform=transform)\n",
    "trainloader = torch.utils.data.DataLoader(trainset, \n",
    "                                          batch_size=4,\n",
    "                                          shuffle=True)\n",
    "\n",
    "testset = torchvision.datasets.CIFAR10(root='./data', \n",
    "                                       train=False,\n",
    "                                       download=True, \n",
    "                                       transform=transform)\n",
    "testloader = torch.utils.data.DataLoader(testset, \n",
    "                                         batch_size=4,\n",
    "                                         shuffle=False)\n",
    "\n",
    "classes = ('plane', 'car', 'bird', 'cat', 'deer', \n",
    "           'dog', 'frog', 'horse', 'ship', 'truck')"
   ]
  },
  {
   "cell_type": "code",
   "execution_count": 5,
   "metadata": {},
   "outputs": [
    {
     "name": "stdout",
     "output_type": "stream",
     "text": [
      "('plane', 'car', 'bird', 'cat', 'deer', 'dog', 'frog', 'horse', 'ship', 'truck')\n"
     ]
    }
   ],
   "source": [
    "print(classes)"
   ]
  },
  {
   "cell_type": "code",
   "execution_count": 6,
   "metadata": {},
   "outputs": [],
   "source": [
    "import matplotlib.pyplot as plt\n",
    "import numpy as np\n",
    "%matplotlib inline\n",
    "def convert_to_imshow_format(image):\n",
    "    # first convert back to [0,1] range from [-1,1] range\n",
    "    image = image / 2 + 0.5\n",
    "    image = image.numpy()\n",
    "    # convert from CHW to HWC\n",
    "    # from 3x32x32 to 32x32x3\n",
    "    return image.transpose(1,2,0)"
   ]
  },
  {
   "cell_type": "code",
   "execution_count": 7,
   "metadata": {},
   "outputs": [
    {
     "data": {
      "image/png": "[encoded data removed]",
      "text/plain": [
       "<Figure size 864x180 with 4 Axes>"
      ]
     },
     "metadata": {},
     "output_type": "display_data"
    }
   ],
   "source": [
    "dataiter = iter(trainloader)\n",
    "images, labels = dataiter.next()\n",
    "\n",
    "fig, axes = plt.subplots(1, len(images), figsize=(12,2.5))\n",
    "for idx, image in enumerate(images):\n",
    "    axes[idx].imshow(convert_to_imshow_format(image))\n",
    "    axes[idx].set_title(classes[labels[idx]])\n",
    "    axes[idx].set_xticks([])\n",
    "    axes[idx].set_yticks([])"
   ]
  },
  {
   "cell_type": "code",
   "execution_count": null,
   "metadata": {},
   "outputs": [],
   "source": [
    "### how to use GPU with pytorch\n",
    "\n",
    "# based on https://medium.com/@calincan2000/using-cuda-pytorch-runtimeerror-expected-object-of-backend-cuda-but-got-backend-cpu-running-on-72648b0d6087"
   ]
  },
  {
   "cell_type": "code",
   "execution_count": 8,
   "metadata": {},
   "outputs": [
    {
     "name": "stdout",
     "output_type": "stream",
     "text": [
      "cuda:0\n",
      "Net(\n",
      "  (conv1): Conv2d(3, 6, kernel_size=(5, 5), stride=(1, 1))\n",
      "  (pool): MaxPool2d(kernel_size=2, stride=2, padding=0, dilation=1, ceil_mode=False)\n",
      "  (conv2): Conv2d(6, 16, kernel_size=(5, 5), stride=(1, 1))\n",
      "  (fc1): Linear(in_features=400, out_features=120, bias=True)\n",
      "  (fc2): Linear(in_features=120, out_features=84, bias=True)\n",
      "  (fc3): Linear(in_features=84, out_features=10, bias=True)\n",
      ")\n"
     ]
    }
   ],
   "source": [
    "import torch.nn as nn\n",
    "import torch.nn.functional as F\n",
    "\n",
    "class Net(nn.Module):\n",
    "    def __init__(self):\n",
    "        super(Net, self).__init__()\n",
    "        #self.device = torch.device(\"cuda\" if torch.cuda.is_available() else \"cpu\")\n",
    "        self.conv1 = nn.Conv2d(3, 6, 5)\n",
    "        self.pool = nn.MaxPool2d(2, 2)\n",
    "        self.conv2 = nn.Conv2d(6, 16, 5)\n",
    "        self.fc1 = nn.Linear(16 * 5 * 5, 120)\n",
    "        self.fc2 = nn.Linear(120, 84)\n",
    "        self.fc3 = nn.Linear(84, 10)\n",
    "\n",
    "    def forward(self, x):\n",
    "        x = self.pool(F.relu(self.conv1(x)))\n",
    "        x = self.pool(F.relu(self.conv2(x)))\n",
    "        x = x.view(-1, 16 * 5 * 5)\n",
    "        x = F.relu(self.fc1(x))\n",
    "        x = F.relu(self.fc2(x))\n",
    "        x = self.fc3(x)\n",
    "        return x\n",
    "\n",
    "net = Net()\n",
    "print(device)\n",
    "net=net.to(device)\n",
    "print(net)\n"
   ]
  },
  {
   "cell_type": "code",
   "execution_count": 9,
   "metadata": {},
   "outputs": [],
   "source": [
    "import torch.optim as optim\n",
    "\n",
    "criterion = nn.CrossEntropyLoss()\n",
    "optimizer = optim.SGD(net.parameters(), lr=0.001, momentum=0.9)"
   ]
  },
  {
   "cell_type": "code",
   "execution_count": 22,
   "metadata": {},
   "outputs": [
    {
     "name": "stdout",
     "output_type": "stream",
     "text": [
      "[1,  1000] loss: 0.930\n",
      "[1,  2000] loss: 0.945\n",
      "[1,  3000] loss: 0.934\n",
      "[1,  4000] loss: 0.993\n",
      "[1,  5000] loss: 0.983\n",
      "[1,  6000] loss: 0.958\n",
      "[1,  7000] loss: 0.954\n",
      "[1,  8000] loss: 0.990\n",
      "[1,  9000] loss: 0.978\n",
      "[1, 10000] loss: 0.997\n",
      "[1, 11000] loss: 0.993\n",
      "[1, 12000] loss: 0.981\n",
      "[2,  1000] loss: 0.870\n",
      "[2,  2000] loss: 0.897\n",
      "[2,  3000] loss: 0.907\n",
      "[2,  4000] loss: 0.915\n",
      "[2,  5000] loss: 0.905\n",
      "[2,  6000] loss: 0.906\n",
      "[2,  7000] loss: 0.928\n",
      "[2,  8000] loss: 0.959\n",
      "[2,  9000] loss: 0.939\n",
      "[2, 10000] loss: 0.945\n",
      "[2, 11000] loss: 0.928\n",
      "[2, 12000] loss: 0.945\n",
      "[3,  1000] loss: 0.819\n",
      "[3,  2000] loss: 0.816\n",
      "[3,  3000] loss: 0.857\n",
      "[3,  4000] loss: 0.867\n",
      "[3,  5000] loss: 0.880\n",
      "[3,  6000] loss: 0.891\n",
      "[3,  7000] loss: 0.898\n",
      "[3,  8000] loss: 0.894\n",
      "[3,  9000] loss: 0.894\n",
      "[3, 10000] loss: 0.900\n",
      "[3, 11000] loss: 0.919\n",
      "[3, 12000] loss: 0.869\n",
      "[4,  1000] loss: 0.829\n",
      "[4,  2000] loss: 0.767\n",
      "[4,  3000] loss: 0.807\n",
      "[4,  4000] loss: 0.822\n",
      "[4,  5000] loss: 0.864\n",
      "[4,  6000] loss: 0.854\n",
      "[4,  7000] loss: 0.856\n",
      "[4,  8000] loss: 0.858\n",
      "[4,  9000] loss: 0.840\n",
      "[4, 10000] loss: 0.859\n",
      "[4, 11000] loss: 0.877\n",
      "[4, 12000] loss: 0.887\n",
      "[5,  1000] loss: 0.768\n",
      "[5,  2000] loss: 0.753\n",
      "[5,  3000] loss: 0.778\n",
      "[5,  4000] loss: 0.785\n",
      "[5,  5000] loss: 0.807\n",
      "[5,  6000] loss: 0.797\n",
      "[5,  7000] loss: 0.858\n",
      "[5,  8000] loss: 0.811\n",
      "[5,  9000] loss: 0.848\n",
      "[5, 10000] loss: 0.830\n",
      "[5, 11000] loss: 0.856\n",
      "[5, 12000] loss: 0.839\n",
      "Finished Training.\n",
      "Saved model parameters to disk.\n",
      "CPU times: user 12min 38s, sys: 2min 5s, total: 14min 44s\n",
      "Wall time: 18min 55s\n"
     ]
    }
   ],
   "source": [
    "%%time\n",
    "import os\n",
    "\n",
    "model_directory_path = './model/'\n",
    "model_path = model_directory_path + 'cifar-10-cnn-model.pt'\n",
    "net=net.to(device)\n",
    "\n",
    "if not os.path.exists(model_directory_path):\n",
    "    os.makedirs(model_directory_path)\n",
    "\n",
    "if os.path.isfile(model_path):\n",
    "    # load trained model parameters from disk\n",
    "    net.load_state_dict(torch.load(model_path))\n",
    "    print('Loaded model parameters from disk.')\n",
    "else:\n",
    "    for epoch in range(5):  # loop over the dataset multiple times\n",
    "\n",
    "        running_loss = 0.0\n",
    "        for i, data in enumerate(trainloader, 0):\n",
    "            # get the inputs\n",
    "            inputs, labels = data\n",
    "            inputs = inputs.cuda()\n",
    "            labels = labels.cuda()\n",
    "            # zero the parameter gradients\n",
    "            optimizer.zero_grad()\n",
    "\n",
    "            # forward + backward + optimize\n",
    "            outputs = net(inputs)\n",
    "            outputs=outputs.cuda()\n",
    "            loss = criterion(outputs, labels)\n",
    "            loss.backward()\n",
    "            optimizer.step()\n",
    "\n",
    "            # print statistics\n",
    "            running_loss += loss.item()\n",
    "            if i % 1000 == 999:    # print every 1000 mini-batches\n",
    "                print('[%d, %5d] loss: %.3f' %\n",
    "                      (epoch + 1, i + 1, running_loss / 1000))\n",
    "                running_loss = 0.0\n",
    "    print('Finished Training.')\n",
    "    torch.save(net.state_dict(), model_path)\n",
    "    print('Saved model parameters to disk.')"
   ]
  },
  {
   "cell_type": "code",
   "execution_count": 23,
   "metadata": {},
   "outputs": [
    {
     "data": {
      "image/png": "[encoded data removed]",
      "text/plain": [
       "<Figure size 864x180 with 4 Axes>"
      ]
     },
     "metadata": {},
     "output_type": "display_data"
    }
   ],
   "source": [
    "dataiter = iter(testloader)\n",
    "images, labels = dataiter.next()\n",
    "\n",
    "fig, axes = plt.subplots(1, len(images), figsize=(12,2.5))\n",
    "for idx, image in enumerate(images):\n",
    "    axes[idx].imshow(convert_to_imshow_format(image))\n",
    "    axes[idx].set_title(classes[labels[idx]])\n",
    "    axes[idx].set_xticks([])\n",
    "    axes[idx].set_yticks([])"
   ]
  },
  {
   "cell_type": "code",
   "execution_count": 24,
   "metadata": {},
   "outputs": [],
   "source": [
    "# outputs = net(images) # RuntimeError: Expected object of backend CPU but got backend CUDA for argument #2 'weight'\n",
    "outputs= net(images.cuda())"
   ]
  },
  {
   "cell_type": "code",
   "execution_count": 25,
   "metadata": {},
   "outputs": [
    {
     "data": {
      "text/plain": [
       "tensor([[-2.4122, -2.5262,  0.3204,  3.9935, -0.7203,  3.9835,  1.0432, -1.1301,\n",
       "         -1.2376, -2.2843],\n",
       "        [ 2.1606,  5.1458, -3.5300, -2.5213, -7.6750, -5.0184, -0.2317, -5.4770,\n",
       "         12.4115, -1.0574],\n",
       "        [ 1.8438,  1.6145, -1.6973, -0.1652, -1.3020, -1.2579, -2.5911, -2.4790,\n",
       "          3.2686,  1.8956],\n",
       "        [ 4.9121,  2.2871, -1.1385, -1.1219, -2.7794, -1.0323, -1.0469, -3.5213,\n",
       "          3.1212,  1.3860]], grad_fn=<AddmmBackward>)"
      ]
     },
     "execution_count": 25,
     "metadata": {},
     "output_type": "execute_result"
    }
   ],
   "source": [
    "outputs"
   ]
  },
  {
   "cell_type": "code",
   "execution_count": 32,
   "metadata": {},
   "outputs": [
    {
     "name": "stdout",
     "output_type": "stream",
     "text": [
      "tensor([[9.1627e-04, 3.1947e-03, 3.2989e-02, 5.0263e-01, 6.6262e-02, 1.2460e-01,\n",
      "         2.5442e-01, 1.0682e-02, 1.8788e-03, 2.4264e-03],\n",
      "        [2.5409e-02, 1.2123e-03, 3.1458e-02, 1.1834e-01, 3.2183e-04, 3.7588e-01,\n",
      "         6.3157e-03, 4.3166e-01, 1.0312e-03, 8.3772e-03],\n",
      "        [2.6806e-02, 5.9342e-01, 1.1317e-02, 3.9755e-02, 8.8267e-02, 2.7265e-02,\n",
      "         5.8082e-03, 6.9471e-02, 8.2318e-04, 1.3707e-01],\n",
      "        [3.7722e-06, 4.2900e-06, 1.2179e-03, 1.0019e-03, 1.6060e-02, 7.8222e-03,\n",
      "         7.5201e-04, 9.7314e-01, 8.4278e-09, 1.3785e-06]])\n"
     ]
    }
   ],
   "source": [
    "sm = nn.Softmax(dim=1)\n",
    "sm_outputs = sm(outputs)\n",
    "print(sm_outputs)"
   ]
  },
  {
   "cell_type": "code",
   "execution_count": 33,
   "metadata": {},
   "outputs": [
    {
     "name": "stdout",
     "output_type": "stream",
     "text": [
      "cat - 0.5026\n",
      "horse - 0.4317\n",
      "car - 0.5934\n",
      "horse - 0.9731\n"
     ]
    }
   ],
   "source": [
    "probs, index = torch.max(sm_outputs, dim=1)\n",
    "for p, i in zip(probs, index):\n",
    "    print('{0} - {1:.4f}'.format(classes[i], p))"
   ]
  },
  {
   "cell_type": "code",
   "execution_count": 34,
   "metadata": {},
   "outputs": [
    {
     "name": "stdout",
     "output_type": "stream",
     "text": [
      "Model accuracy on 10000 test images: 63.91%\n"
     ]
    }
   ],
   "source": [
    "total_correct = 0\n",
    "total_images = 0\n",
    "confusion_matrix = np.zeros([10,10], int)\n",
    "with torch.no_grad():\n",
    "    for data in testloader:\n",
    "        images, labels = data\n",
    "        images=images.cuda()\n",
    "        outputs = net(images).cuda()\n",
    "        _, predicted = torch.max(outputs.data, 1)\n",
    "        total_images += labels.size(0)\n",
    "        total_correct += (predicted == labels).sum().item()\n",
    "        for i, l in enumerate(labels):\n",
    "            confusion_matrix[l.item(), predicted[i].item()] += 1 \n",
    "\n",
    "model_accuracy = total_correct / total_images * 100\n",
    "print('Model accuracy on {0} test images: {1:.2f}%'.format(total_images, model_accuracy))"
   ]
  },
  {
   "cell_type": "code",
   "execution_count": 35,
   "metadata": {},
   "outputs": [
    {
     "name": "stdout",
     "output_type": "stream",
     "text": [
      "Category   - Accuracy\n",
      "plane      - 57.1\n",
      "car        - 77.6\n",
      "bird       - 48.8\n",
      "cat        - 43.0\n",
      "deer       - 62.1\n",
      "dog        - 57.7\n",
      "frog       - 68.7\n",
      "horse      - 66.2\n",
      "ship       - 82.2\n",
      "truck      - 75.7\n"
     ]
    }
   ],
   "source": [
    "print('{0:10s} - {1}'.format('Category','Accuracy'))\n",
    "for i, r in enumerate(confusion_matrix):\n",
    "    print('{0:10s} - {1:.1f}'.format(classes[i], r[i]/np.sum(r)*100))"
   ]
  },
  {
   "cell_type": "code",
   "execution_count": 36,
   "metadata": {},
   "outputs": [
    {
     "data": {
      "image/png": "[encoded data removed]",
      "text/plain": [
       "<Figure size 576x432 with 1 Axes>"
      ]
     },
     "metadata": {
      "needs_background": "light"
     },
     "output_type": "display_data"
    }
   ],
   "source": [
    "fig, ax = plt.subplots(1,1,figsize=(8,6))\n",
    "ax.matshow(confusion_matrix, aspect='auto', vmin=0, vmax=1000, cmap=plt.get_cmap('Blues'))\n",
    "plt.ylabel('Actual Category')\n",
    "plt.yticks(range(10), classes)\n",
    "plt.xlabel('Predicted Category')\n",
    "plt.xticks(range(10), classes)\n",
    "plt.show()"
   ]
  },
  {
   "cell_type": "code",
   "execution_count": 31,
   "metadata": {},
   "outputs": [
    {
     "name": "stdout",
     "output_type": "stream",
     "text": [
      "actual/pred     plane     car       bird      cat       deer      dog       frog      horse     ship      truck     \n",
      "plane           571       42        64        25        42        18        12        17        150       59        \n",
      "                0.571     0.042     0.064     0.025     0.042     0.018     0.012     0.017     0.15      0.059     \n",
      "car             16        776       12        11        3         7         6         8         41        120       \n",
      "                0.016     0.776     0.012     0.011     0.003     0.007     0.006     0.008     0.041     0.12      \n",
      "bird            57        13        488       90        122       98        48        33        30        21        \n",
      "                0.057     0.013     0.488     0.09      0.122     0.098     0.048     0.033     0.03      0.021     \n",
      "cat             18        14        54        430       90        250       51        37        25        31        \n",
      "                0.018     0.014     0.054     0.43      0.09      0.25      0.051     0.037     0.025     0.031     \n",
      "deer            31        16        43        111       621       45        52        55        22        4         \n",
      "                0.031     0.016     0.043     0.111     0.621     0.045     0.052     0.055     0.022     0.004     \n",
      "dog             9         9         55        177       58        577       18        66        14        17        \n",
      "                0.009     0.009     0.055     0.177     0.058     0.577     0.018     0.066     0.014     0.017     \n",
      "frog            6         13        42        101       78        34        687       12        5         22        \n",
      "                0.006     0.013     0.042     0.101     0.078     0.034     0.687     0.012     0.005     0.022     \n",
      "horse           18        8         33        51        90        88        12        662       8         30        \n",
      "                0.018     0.008     0.033     0.051     0.09      0.088     0.012     0.662     0.008     0.03      \n",
      "ship            38        40        19        12        6         9         4         6         822       44        \n",
      "                0.038     0.04      0.019     0.012     0.006     0.009     0.004     0.006     0.822     0.044     \n",
      "truck           25        102       9         17        11        13        6         16        44        757       \n",
      "                0.025     0.102     0.009     0.017     0.011     0.013     0.006     0.016     0.044     0.757     \n"
     ]
    }
   ],
   "source": [
    "print('actual/pred'.ljust(16), end='')\n",
    "for i,c in enumerate(classes):\n",
    "    print(c.ljust(10), end='')\n",
    "print()\n",
    "for i,r in enumerate(confusion_matrix):\n",
    "    print(classes[i].ljust(16), end='')\n",
    "    for idx, p in enumerate(r):\n",
    "        print(str(p).ljust(10), end='')\n",
    "    print()\n",
    "    \n",
    "    r = r/np.sum(r)\n",
    "    print(''.ljust(16), end='')\n",
    "    for idx, p in enumerate(r):\n",
    "        print(str(p).ljust(10), end='')\n",
    "    print()"
   ]
  },
  {
   "cell_type": "code",
   "execution_count": null,
   "metadata": {},
   "outputs": [],
   "source": []
  }
 ],
 "metadata": {
  "kernelspec": {
   "display_name": "pytoch",
   "language": "python",
   "name": "pytoch"
  },
  "language_info": {
   "codemirror_mode": {
    "name": "ipython",
    "version": 3
   },
   "file_extension": ".py",
   "mimetype": "text/x-python",
   "name": "python",
   "nbconvert_exporter": "python",
   "pygments_lexer": "ipython3",
   "version": "3.6.8"
  }
 },
 "nbformat": 4,
 "nbformat_minor": 4
}
